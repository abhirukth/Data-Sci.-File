{
 "cells": [
  {
   "cell_type": "markdown",
   "id": "affected-manchester",
   "metadata": {
    "papermill": {
     "duration": 0.032812,
     "end_time": "2021-06-26T10:59:23.348776",
     "exception": false,
     "start_time": "2021-06-26T10:59:23.315964",
     "status": "completed"
    },
    "tags": []
   },
   "source": [
    "# Import Libraries 📖"
   ]
  },
  {
   "cell_type": "code",
   "execution_count": 1,
   "id": "vertical-phoenix",
   "metadata": {
    "_cell_guid": "b1076dfc-b9ad-4769-8c92-a6c4dae69d19",
    "_uuid": "8f2839f25d086af736a60e9eeb907d3b93b6e0e5",
    "execution": {
     "iopub.execute_input": "2021-06-26T10:59:23.421774Z",
     "iopub.status.busy": "2021-06-26T10:59:23.421134Z",
     "iopub.status.idle": "2021-06-26T10:59:29.670456Z",
     "shell.execute_reply": "2021-06-26T10:59:29.671342Z",
     "shell.execute_reply.started": "2021-06-26T10:13:12.738145Z"
    },
    "papermill": {
     "duration": 6.290053,
     "end_time": "2021-06-26T10:59:29.671633",
     "exception": false,
     "start_time": "2021-06-26T10:59:23.381580",
     "status": "completed"
    },
    "tags": []
   },
   "outputs": [
    {
     "name": "stdout",
     "output_type": "stream",
     "text": [
      "/kaggle/input/adult-census-income/adult.csv\n"
     ]
    }
   ],
   "source": [
    "# This Python 3 environment comes with many helpful analytics libraries installed\n",
    "# It is defined by the kaggle/python Docker image: https://github.com/kaggle/docker-python\n",
    "# For example, here's several helpful packages to load\n",
    "\n",
    "import numpy as np # linear algebra\n",
    "import pandas as pd # data processing, CSV file I/O (e.g. pd.read_csv)\n",
    "import matplotlib.pyplot as plt\n",
    "\n",
    "from sklearn.preprocessing import LabelEncoder\n",
    "from sklearn.preprocessing import MinMaxScaler\n",
    "from sklearn.model_selection import train_test_split as tts\n",
    "\n",
    "import tensorflow as tf\n",
    "\n",
    "# Input data files are available in the read-only \"../input/\" directory\n",
    "# For example, running this (by clicking run or pressing Shift+Enter) will list all files under the input directory\n",
    "\n",
    "import os\n",
    "for dirname, _, filenames in os.walk('/kaggle/input'):\n",
    "    for filename in filenames:\n",
    "        print(os.path.join(dirname, filename))\n",
    "\n",
    "# You can write up to 20GB to the current directory (/kaggle/working/) that gets preserved as output when you create a version using \"Save & Run All\" \n",
    "# You can also write temporary files to /kaggle/temp/, but they won't be saved outside of the current session"
   ]
  },
  {
   "cell_type": "markdown",
   "id": "confident-vegetarian",
   "metadata": {
    "papermill": {
     "duration": 0.031897,
     "end_time": "2021-06-26T10:59:29.736244",
     "exception": false,
     "start_time": "2021-06-26T10:59:29.704347",
     "status": "completed"
    },
    "tags": []
   },
   "source": [
    "# Load dataset 💾"
   ]
  },
  {
   "cell_type": "code",
   "execution_count": 2,
   "id": "revolutionary-tampa",
   "metadata": {
    "execution": {
     "iopub.execute_input": "2021-06-26T10:59:29.804864Z",
     "iopub.status.busy": "2021-06-26T10:59:29.804229Z",
     "iopub.status.idle": "2021-06-26T10:59:29.938044Z",
     "shell.execute_reply": "2021-06-26T10:59:29.936463Z",
     "shell.execute_reply.started": "2021-06-26T10:13:12.755085Z"
    },
    "papermill": {
     "duration": 0.17023,
     "end_time": "2021-06-26T10:59:29.938262",
     "exception": false,
     "start_time": "2021-06-26T10:59:29.768032",
     "status": "completed"
    },
    "tags": []
   },
   "outputs": [],
   "source": [
    "data = pd.read_csv('../input/adult-census-income/adult.csv')"
   ]
  },
  {
   "cell_type": "code",
   "execution_count": 3,
   "id": "certain-pakistan",
   "metadata": {
    "execution": {
     "iopub.execute_input": "2021-06-26T10:59:30.023397Z",
     "iopub.status.busy": "2021-06-26T10:59:30.022386Z",
     "iopub.status.idle": "2021-06-26T10:59:30.050097Z",
     "shell.execute_reply": "2021-06-26T10:59:30.050619Z",
     "shell.execute_reply.started": "2021-06-26T10:13:12.838174Z"
    },
    "papermill": {
     "duration": 0.080466,
     "end_time": "2021-06-26T10:59:30.050822",
     "exception": false,
     "start_time": "2021-06-26T10:59:29.970356",
     "status": "completed"
    },
    "tags": []
   },
   "outputs": [
    {
     "data": {
      "text/html": [
       "<div>\n",
       "<style scoped>\n",
       "    .dataframe tbody tr th:only-of-type {\n",
       "        vertical-align: middle;\n",
       "    }\n",
       "\n",
       "    .dataframe tbody tr th {\n",
       "        vertical-align: top;\n",
       "    }\n",
       "\n",
       "    .dataframe thead th {\n",
       "        text-align: right;\n",
       "    }\n",
       "</style>\n",
       "<table border=\"1\" class=\"dataframe\">\n",
       "  <thead>\n",
       "    <tr style=\"text-align: right;\">\n",
       "      <th></th>\n",
       "      <th>age</th>\n",
       "      <th>workclass</th>\n",
       "      <th>fnlwgt</th>\n",
       "      <th>education</th>\n",
       "      <th>education.num</th>\n",
       "      <th>marital.status</th>\n",
       "      <th>occupation</th>\n",
       "      <th>relationship</th>\n",
       "      <th>race</th>\n",
       "      <th>sex</th>\n",
       "      <th>capital.gain</th>\n",
       "      <th>capital.loss</th>\n",
       "      <th>hours.per.week</th>\n",
       "      <th>native.country</th>\n",
       "      <th>income</th>\n",
       "    </tr>\n",
       "  </thead>\n",
       "  <tbody>\n",
       "    <tr>\n",
       "      <th>0</th>\n",
       "      <td>90</td>\n",
       "      <td>?</td>\n",
       "      <td>77053</td>\n",
       "      <td>HS-grad</td>\n",
       "      <td>9</td>\n",
       "      <td>Widowed</td>\n",
       "      <td>?</td>\n",
       "      <td>Not-in-family</td>\n",
       "      <td>White</td>\n",
       "      <td>Female</td>\n",
       "      <td>0</td>\n",
       "      <td>4356</td>\n",
       "      <td>40</td>\n",
       "      <td>United-States</td>\n",
       "      <td>&lt;=50K</td>\n",
       "    </tr>\n",
       "    <tr>\n",
       "      <th>1</th>\n",
       "      <td>82</td>\n",
       "      <td>Private</td>\n",
       "      <td>132870</td>\n",
       "      <td>HS-grad</td>\n",
       "      <td>9</td>\n",
       "      <td>Widowed</td>\n",
       "      <td>Exec-managerial</td>\n",
       "      <td>Not-in-family</td>\n",
       "      <td>White</td>\n",
       "      <td>Female</td>\n",
       "      <td>0</td>\n",
       "      <td>4356</td>\n",
       "      <td>18</td>\n",
       "      <td>United-States</td>\n",
       "      <td>&lt;=50K</td>\n",
       "    </tr>\n",
       "    <tr>\n",
       "      <th>2</th>\n",
       "      <td>66</td>\n",
       "      <td>?</td>\n",
       "      <td>186061</td>\n",
       "      <td>Some-college</td>\n",
       "      <td>10</td>\n",
       "      <td>Widowed</td>\n",
       "      <td>?</td>\n",
       "      <td>Unmarried</td>\n",
       "      <td>Black</td>\n",
       "      <td>Female</td>\n",
       "      <td>0</td>\n",
       "      <td>4356</td>\n",
       "      <td>40</td>\n",
       "      <td>United-States</td>\n",
       "      <td>&lt;=50K</td>\n",
       "    </tr>\n",
       "    <tr>\n",
       "      <th>3</th>\n",
       "      <td>54</td>\n",
       "      <td>Private</td>\n",
       "      <td>140359</td>\n",
       "      <td>7th-8th</td>\n",
       "      <td>4</td>\n",
       "      <td>Divorced</td>\n",
       "      <td>Machine-op-inspct</td>\n",
       "      <td>Unmarried</td>\n",
       "      <td>White</td>\n",
       "      <td>Female</td>\n",
       "      <td>0</td>\n",
       "      <td>3900</td>\n",
       "      <td>40</td>\n",
       "      <td>United-States</td>\n",
       "      <td>&lt;=50K</td>\n",
       "    </tr>\n",
       "    <tr>\n",
       "      <th>4</th>\n",
       "      <td>41</td>\n",
       "      <td>Private</td>\n",
       "      <td>264663</td>\n",
       "      <td>Some-college</td>\n",
       "      <td>10</td>\n",
       "      <td>Separated</td>\n",
       "      <td>Prof-specialty</td>\n",
       "      <td>Own-child</td>\n",
       "      <td>White</td>\n",
       "      <td>Female</td>\n",
       "      <td>0</td>\n",
       "      <td>3900</td>\n",
       "      <td>40</td>\n",
       "      <td>United-States</td>\n",
       "      <td>&lt;=50K</td>\n",
       "    </tr>\n",
       "    <tr>\n",
       "      <th>...</th>\n",
       "      <td>...</td>\n",
       "      <td>...</td>\n",
       "      <td>...</td>\n",
       "      <td>...</td>\n",
       "      <td>...</td>\n",
       "      <td>...</td>\n",
       "      <td>...</td>\n",
       "      <td>...</td>\n",
       "      <td>...</td>\n",
       "      <td>...</td>\n",
       "      <td>...</td>\n",
       "      <td>...</td>\n",
       "      <td>...</td>\n",
       "      <td>...</td>\n",
       "      <td>...</td>\n",
       "    </tr>\n",
       "    <tr>\n",
       "      <th>32556</th>\n",
       "      <td>22</td>\n",
       "      <td>Private</td>\n",
       "      <td>310152</td>\n",
       "      <td>Some-college</td>\n",
       "      <td>10</td>\n",
       "      <td>Never-married</td>\n",
       "      <td>Protective-serv</td>\n",
       "      <td>Not-in-family</td>\n",
       "      <td>White</td>\n",
       "      <td>Male</td>\n",
       "      <td>0</td>\n",
       "      <td>0</td>\n",
       "      <td>40</td>\n",
       "      <td>United-States</td>\n",
       "      <td>&lt;=50K</td>\n",
       "    </tr>\n",
       "    <tr>\n",
       "      <th>32557</th>\n",
       "      <td>27</td>\n",
       "      <td>Private</td>\n",
       "      <td>257302</td>\n",
       "      <td>Assoc-acdm</td>\n",
       "      <td>12</td>\n",
       "      <td>Married-civ-spouse</td>\n",
       "      <td>Tech-support</td>\n",
       "      <td>Wife</td>\n",
       "      <td>White</td>\n",
       "      <td>Female</td>\n",
       "      <td>0</td>\n",
       "      <td>0</td>\n",
       "      <td>38</td>\n",
       "      <td>United-States</td>\n",
       "      <td>&lt;=50K</td>\n",
       "    </tr>\n",
       "    <tr>\n",
       "      <th>32558</th>\n",
       "      <td>40</td>\n",
       "      <td>Private</td>\n",
       "      <td>154374</td>\n",
       "      <td>HS-grad</td>\n",
       "      <td>9</td>\n",
       "      <td>Married-civ-spouse</td>\n",
       "      <td>Machine-op-inspct</td>\n",
       "      <td>Husband</td>\n",
       "      <td>White</td>\n",
       "      <td>Male</td>\n",
       "      <td>0</td>\n",
       "      <td>0</td>\n",
       "      <td>40</td>\n",
       "      <td>United-States</td>\n",
       "      <td>&gt;50K</td>\n",
       "    </tr>\n",
       "    <tr>\n",
       "      <th>32559</th>\n",
       "      <td>58</td>\n",
       "      <td>Private</td>\n",
       "      <td>151910</td>\n",
       "      <td>HS-grad</td>\n",
       "      <td>9</td>\n",
       "      <td>Widowed</td>\n",
       "      <td>Adm-clerical</td>\n",
       "      <td>Unmarried</td>\n",
       "      <td>White</td>\n",
       "      <td>Female</td>\n",
       "      <td>0</td>\n",
       "      <td>0</td>\n",
       "      <td>40</td>\n",
       "      <td>United-States</td>\n",
       "      <td>&lt;=50K</td>\n",
       "    </tr>\n",
       "    <tr>\n",
       "      <th>32560</th>\n",
       "      <td>22</td>\n",
       "      <td>Private</td>\n",
       "      <td>201490</td>\n",
       "      <td>HS-grad</td>\n",
       "      <td>9</td>\n",
       "      <td>Never-married</td>\n",
       "      <td>Adm-clerical</td>\n",
       "      <td>Own-child</td>\n",
       "      <td>White</td>\n",
       "      <td>Male</td>\n",
       "      <td>0</td>\n",
       "      <td>0</td>\n",
       "      <td>20</td>\n",
       "      <td>United-States</td>\n",
       "      <td>&lt;=50K</td>\n",
       "    </tr>\n",
       "  </tbody>\n",
       "</table>\n",
       "<p>32561 rows × 15 columns</p>\n",
       "</div>"
      ],
      "text/plain": [
       "       age workclass  fnlwgt     education  education.num      marital.status  \\\n",
       "0       90         ?   77053       HS-grad              9             Widowed   \n",
       "1       82   Private  132870       HS-grad              9             Widowed   \n",
       "2       66         ?  186061  Some-college             10             Widowed   \n",
       "3       54   Private  140359       7th-8th              4            Divorced   \n",
       "4       41   Private  264663  Some-college             10           Separated   \n",
       "...    ...       ...     ...           ...            ...                 ...   \n",
       "32556   22   Private  310152  Some-college             10       Never-married   \n",
       "32557   27   Private  257302    Assoc-acdm             12  Married-civ-spouse   \n",
       "32558   40   Private  154374       HS-grad              9  Married-civ-spouse   \n",
       "32559   58   Private  151910       HS-grad              9             Widowed   \n",
       "32560   22   Private  201490       HS-grad              9       Never-married   \n",
       "\n",
       "              occupation   relationship   race     sex  capital.gain  \\\n",
       "0                      ?  Not-in-family  White  Female             0   \n",
       "1        Exec-managerial  Not-in-family  White  Female             0   \n",
       "2                      ?      Unmarried  Black  Female             0   \n",
       "3      Machine-op-inspct      Unmarried  White  Female             0   \n",
       "4         Prof-specialty      Own-child  White  Female             0   \n",
       "...                  ...            ...    ...     ...           ...   \n",
       "32556    Protective-serv  Not-in-family  White    Male             0   \n",
       "32557       Tech-support           Wife  White  Female             0   \n",
       "32558  Machine-op-inspct        Husband  White    Male             0   \n",
       "32559       Adm-clerical      Unmarried  White  Female             0   \n",
       "32560       Adm-clerical      Own-child  White    Male             0   \n",
       "\n",
       "       capital.loss  hours.per.week native.country income  \n",
       "0              4356              40  United-States  <=50K  \n",
       "1              4356              18  United-States  <=50K  \n",
       "2              4356              40  United-States  <=50K  \n",
       "3              3900              40  United-States  <=50K  \n",
       "4              3900              40  United-States  <=50K  \n",
       "...             ...             ...            ...    ...  \n",
       "32556             0              40  United-States  <=50K  \n",
       "32557             0              38  United-States  <=50K  \n",
       "32558             0              40  United-States   >50K  \n",
       "32559             0              40  United-States  <=50K  \n",
       "32560             0              20  United-States  <=50K  \n",
       "\n",
       "[32561 rows x 15 columns]"
      ]
     },
     "execution_count": 3,
     "metadata": {},
     "output_type": "execute_result"
    }
   ],
   "source": [
    "data"
   ]
  },
  {
   "cell_type": "markdown",
   "id": "hazardous-agent",
   "metadata": {
    "papermill": {
     "duration": 0.032593,
     "end_time": "2021-06-26T10:59:30.116156",
     "exception": false,
     "start_time": "2021-06-26T10:59:30.083563",
     "status": "completed"
    },
    "tags": []
   },
   "source": [
    "# Data Cleaning 🧹"
   ]
  },
  {
   "cell_type": "code",
   "execution_count": 4,
   "id": "universal-public",
   "metadata": {
    "execution": {
     "iopub.execute_input": "2021-06-26T10:59:30.215929Z",
     "iopub.status.busy": "2021-06-26T10:59:30.214943Z",
     "iopub.status.idle": "2021-06-26T10:59:30.223415Z",
     "shell.execute_reply": "2021-06-26T10:59:30.222777Z",
     "shell.execute_reply.started": "2021-06-26T10:13:12.871255Z"
    },
    "papermill": {
     "duration": 0.074573,
     "end_time": "2021-06-26T10:59:30.223562",
     "exception": false,
     "start_time": "2021-06-26T10:59:30.148989",
     "status": "completed"
    },
    "tags": []
   },
   "outputs": [
    {
     "data": {
      "text/plain": [
       "age               0\n",
       "workclass         0\n",
       "fnlwgt            0\n",
       "education         0\n",
       "education.num     0\n",
       "marital.status    0\n",
       "occupation        0\n",
       "relationship      0\n",
       "race              0\n",
       "sex               0\n",
       "capital.gain      0\n",
       "capital.loss      0\n",
       "hours.per.week    0\n",
       "native.country    0\n",
       "income            0\n",
       "dtype: int64"
      ]
     },
     "execution_count": 4,
     "metadata": {},
     "output_type": "execute_result"
    }
   ],
   "source": [
    "data.isna().sum()"
   ]
  },
  {
   "cell_type": "code",
   "execution_count": 5,
   "id": "delayed-dietary",
   "metadata": {
    "execution": {
     "iopub.execute_input": "2021-06-26T10:59:30.297916Z",
     "iopub.status.busy": "2021-06-26T10:59:30.296881Z",
     "iopub.status.idle": "2021-06-26T10:59:30.335832Z",
     "shell.execute_reply": "2021-06-26T10:59:30.335306Z",
     "shell.execute_reply.started": "2021-06-26T10:13:12.908968Z"
    },
    "papermill": {
     "duration": 0.07917,
     "end_time": "2021-06-26T10:59:30.335970",
     "exception": false,
     "start_time": "2021-06-26T10:59:30.256800",
     "status": "completed"
    },
    "tags": []
   },
   "outputs": [
    {
     "data": {
      "text/plain": [
       "age                  0\n",
       "workclass         1836\n",
       "fnlwgt               0\n",
       "education            0\n",
       "education.num        0\n",
       "marital.status       0\n",
       "occupation        1843\n",
       "relationship         0\n",
       "race                 0\n",
       "sex                  0\n",
       "capital.gain         0\n",
       "capital.loss         0\n",
       "hours.per.week       0\n",
       "native.country     583\n",
       "income               0\n",
       "dtype: int64"
      ]
     },
     "execution_count": 5,
     "metadata": {},
     "output_type": "execute_result"
    }
   ],
   "source": [
    "data.isin(['?']).sum()"
   ]
  },
  {
   "cell_type": "code",
   "execution_count": 6,
   "id": "chinese-conversion",
   "metadata": {
    "execution": {
     "iopub.execute_input": "2021-06-26T10:59:30.431912Z",
     "iopub.status.busy": "2021-06-26T10:59:30.430856Z",
     "iopub.status.idle": "2021-06-26T10:59:30.435734Z",
     "shell.execute_reply": "2021-06-26T10:59:30.435207Z",
     "shell.execute_reply.started": "2021-06-26T10:13:12.949769Z"
    },
    "papermill": {
     "duration": 0.066199,
     "end_time": "2021-06-26T10:59:30.435873",
     "exception": false,
     "start_time": "2021-06-26T10:59:30.369674",
     "status": "completed"
    },
    "tags": []
   },
   "outputs": [
    {
     "data": {
      "text/html": [
       "<div>\n",
       "<style scoped>\n",
       "    .dataframe tbody tr th:only-of-type {\n",
       "        vertical-align: middle;\n",
       "    }\n",
       "\n",
       "    .dataframe tbody tr th {\n",
       "        vertical-align: top;\n",
       "    }\n",
       "\n",
       "    .dataframe thead th {\n",
       "        text-align: right;\n",
       "    }\n",
       "</style>\n",
       "<table border=\"1\" class=\"dataframe\">\n",
       "  <thead>\n",
       "    <tr style=\"text-align: right;\">\n",
       "      <th></th>\n",
       "      <th>age</th>\n",
       "      <th>workclass</th>\n",
       "      <th>fnlwgt</th>\n",
       "      <th>education</th>\n",
       "      <th>education.num</th>\n",
       "      <th>marital.status</th>\n",
       "      <th>occupation</th>\n",
       "      <th>relationship</th>\n",
       "      <th>race</th>\n",
       "      <th>sex</th>\n",
       "      <th>capital.gain</th>\n",
       "      <th>capital.loss</th>\n",
       "      <th>hours.per.week</th>\n",
       "      <th>native.country</th>\n",
       "      <th>income</th>\n",
       "    </tr>\n",
       "  </thead>\n",
       "  <tbody>\n",
       "    <tr>\n",
       "      <th>0</th>\n",
       "      <td>90</td>\n",
       "      <td>?</td>\n",
       "      <td>77053</td>\n",
       "      <td>HS-grad</td>\n",
       "      <td>9</td>\n",
       "      <td>Widowed</td>\n",
       "      <td>?</td>\n",
       "      <td>Not-in-family</td>\n",
       "      <td>White</td>\n",
       "      <td>Female</td>\n",
       "      <td>0</td>\n",
       "      <td>4356</td>\n",
       "      <td>40</td>\n",
       "      <td>United-States</td>\n",
       "      <td>&lt;=50K</td>\n",
       "    </tr>\n",
       "    <tr>\n",
       "      <th>1</th>\n",
       "      <td>82</td>\n",
       "      <td>Private</td>\n",
       "      <td>132870</td>\n",
       "      <td>HS-grad</td>\n",
       "      <td>9</td>\n",
       "      <td>Widowed</td>\n",
       "      <td>Exec-managerial</td>\n",
       "      <td>Not-in-family</td>\n",
       "      <td>White</td>\n",
       "      <td>Female</td>\n",
       "      <td>0</td>\n",
       "      <td>4356</td>\n",
       "      <td>18</td>\n",
       "      <td>United-States</td>\n",
       "      <td>&lt;=50K</td>\n",
       "    </tr>\n",
       "    <tr>\n",
       "      <th>2</th>\n",
       "      <td>66</td>\n",
       "      <td>?</td>\n",
       "      <td>186061</td>\n",
       "      <td>Some-college</td>\n",
       "      <td>10</td>\n",
       "      <td>Widowed</td>\n",
       "      <td>?</td>\n",
       "      <td>Unmarried</td>\n",
       "      <td>Black</td>\n",
       "      <td>Female</td>\n",
       "      <td>0</td>\n",
       "      <td>4356</td>\n",
       "      <td>40</td>\n",
       "      <td>United-States</td>\n",
       "      <td>&lt;=50K</td>\n",
       "    </tr>\n",
       "    <tr>\n",
       "      <th>3</th>\n",
       "      <td>54</td>\n",
       "      <td>Private</td>\n",
       "      <td>140359</td>\n",
       "      <td>7th-8th</td>\n",
       "      <td>4</td>\n",
       "      <td>Divorced</td>\n",
       "      <td>Machine-op-inspct</td>\n",
       "      <td>Unmarried</td>\n",
       "      <td>White</td>\n",
       "      <td>Female</td>\n",
       "      <td>0</td>\n",
       "      <td>3900</td>\n",
       "      <td>40</td>\n",
       "      <td>United-States</td>\n",
       "      <td>&lt;=50K</td>\n",
       "    </tr>\n",
       "    <tr>\n",
       "      <th>4</th>\n",
       "      <td>41</td>\n",
       "      <td>Private</td>\n",
       "      <td>264663</td>\n",
       "      <td>Some-college</td>\n",
       "      <td>10</td>\n",
       "      <td>Separated</td>\n",
       "      <td>Prof-specialty</td>\n",
       "      <td>Own-child</td>\n",
       "      <td>White</td>\n",
       "      <td>Female</td>\n",
       "      <td>0</td>\n",
       "      <td>3900</td>\n",
       "      <td>40</td>\n",
       "      <td>United-States</td>\n",
       "      <td>&lt;=50K</td>\n",
       "    </tr>\n",
       "    <tr>\n",
       "      <th>...</th>\n",
       "      <td>...</td>\n",
       "      <td>...</td>\n",
       "      <td>...</td>\n",
       "      <td>...</td>\n",
       "      <td>...</td>\n",
       "      <td>...</td>\n",
       "      <td>...</td>\n",
       "      <td>...</td>\n",
       "      <td>...</td>\n",
       "      <td>...</td>\n",
       "      <td>...</td>\n",
       "      <td>...</td>\n",
       "      <td>...</td>\n",
       "      <td>...</td>\n",
       "      <td>...</td>\n",
       "    </tr>\n",
       "    <tr>\n",
       "      <th>32556</th>\n",
       "      <td>22</td>\n",
       "      <td>Private</td>\n",
       "      <td>310152</td>\n",
       "      <td>Some-college</td>\n",
       "      <td>10</td>\n",
       "      <td>Never-married</td>\n",
       "      <td>Protective-serv</td>\n",
       "      <td>Not-in-family</td>\n",
       "      <td>White</td>\n",
       "      <td>Male</td>\n",
       "      <td>0</td>\n",
       "      <td>0</td>\n",
       "      <td>40</td>\n",
       "      <td>United-States</td>\n",
       "      <td>&lt;=50K</td>\n",
       "    </tr>\n",
       "    <tr>\n",
       "      <th>32557</th>\n",
       "      <td>27</td>\n",
       "      <td>Private</td>\n",
       "      <td>257302</td>\n",
       "      <td>Assoc-acdm</td>\n",
       "      <td>12</td>\n",
       "      <td>Married-civ-spouse</td>\n",
       "      <td>Tech-support</td>\n",
       "      <td>Wife</td>\n",
       "      <td>White</td>\n",
       "      <td>Female</td>\n",
       "      <td>0</td>\n",
       "      <td>0</td>\n",
       "      <td>38</td>\n",
       "      <td>United-States</td>\n",
       "      <td>&lt;=50K</td>\n",
       "    </tr>\n",
       "    <tr>\n",
       "      <th>32558</th>\n",
       "      <td>40</td>\n",
       "      <td>Private</td>\n",
       "      <td>154374</td>\n",
       "      <td>HS-grad</td>\n",
       "      <td>9</td>\n",
       "      <td>Married-civ-spouse</td>\n",
       "      <td>Machine-op-inspct</td>\n",
       "      <td>Husband</td>\n",
       "      <td>White</td>\n",
       "      <td>Male</td>\n",
       "      <td>0</td>\n",
       "      <td>0</td>\n",
       "      <td>40</td>\n",
       "      <td>United-States</td>\n",
       "      <td>&gt;50K</td>\n",
       "    </tr>\n",
       "    <tr>\n",
       "      <th>32559</th>\n",
       "      <td>58</td>\n",
       "      <td>Private</td>\n",
       "      <td>151910</td>\n",
       "      <td>HS-grad</td>\n",
       "      <td>9</td>\n",
       "      <td>Widowed</td>\n",
       "      <td>Adm-clerical</td>\n",
       "      <td>Unmarried</td>\n",
       "      <td>White</td>\n",
       "      <td>Female</td>\n",
       "      <td>0</td>\n",
       "      <td>0</td>\n",
       "      <td>40</td>\n",
       "      <td>United-States</td>\n",
       "      <td>&lt;=50K</td>\n",
       "    </tr>\n",
       "    <tr>\n",
       "      <th>32560</th>\n",
       "      <td>22</td>\n",
       "      <td>Private</td>\n",
       "      <td>201490</td>\n",
       "      <td>HS-grad</td>\n",
       "      <td>9</td>\n",
       "      <td>Never-married</td>\n",
       "      <td>Adm-clerical</td>\n",
       "      <td>Own-child</td>\n",
       "      <td>White</td>\n",
       "      <td>Male</td>\n",
       "      <td>0</td>\n",
       "      <td>0</td>\n",
       "      <td>20</td>\n",
       "      <td>United-States</td>\n",
       "      <td>&lt;=50K</td>\n",
       "    </tr>\n",
       "  </tbody>\n",
       "</table>\n",
       "<p>32561 rows × 15 columns</p>\n",
       "</div>"
      ],
      "text/plain": [
       "       age workclass  fnlwgt     education  education.num      marital.status  \\\n",
       "0       90         ?   77053       HS-grad              9             Widowed   \n",
       "1       82   Private  132870       HS-grad              9             Widowed   \n",
       "2       66         ?  186061  Some-college             10             Widowed   \n",
       "3       54   Private  140359       7th-8th              4            Divorced   \n",
       "4       41   Private  264663  Some-college             10           Separated   \n",
       "...    ...       ...     ...           ...            ...                 ...   \n",
       "32556   22   Private  310152  Some-college             10       Never-married   \n",
       "32557   27   Private  257302    Assoc-acdm             12  Married-civ-spouse   \n",
       "32558   40   Private  154374       HS-grad              9  Married-civ-spouse   \n",
       "32559   58   Private  151910       HS-grad              9             Widowed   \n",
       "32560   22   Private  201490       HS-grad              9       Never-married   \n",
       "\n",
       "              occupation   relationship   race     sex  capital.gain  \\\n",
       "0                      ?  Not-in-family  White  Female             0   \n",
       "1        Exec-managerial  Not-in-family  White  Female             0   \n",
       "2                      ?      Unmarried  Black  Female             0   \n",
       "3      Machine-op-inspct      Unmarried  White  Female             0   \n",
       "4         Prof-specialty      Own-child  White  Female             0   \n",
       "...                  ...            ...    ...     ...           ...   \n",
       "32556    Protective-serv  Not-in-family  White    Male             0   \n",
       "32557       Tech-support           Wife  White  Female             0   \n",
       "32558  Machine-op-inspct        Husband  White    Male             0   \n",
       "32559       Adm-clerical      Unmarried  White  Female             0   \n",
       "32560       Adm-clerical      Own-child  White    Male             0   \n",
       "\n",
       "       capital.loss  hours.per.week native.country income  \n",
       "0              4356              40  United-States  <=50K  \n",
       "1              4356              18  United-States  <=50K  \n",
       "2              4356              40  United-States  <=50K  \n",
       "3              3900              40  United-States  <=50K  \n",
       "4              3900              40  United-States  <=50K  \n",
       "...             ...             ...            ...    ...  \n",
       "32556             0              40  United-States  <=50K  \n",
       "32557             0              38  United-States  <=50K  \n",
       "32558             0              40  United-States   >50K  \n",
       "32559             0              40  United-States  <=50K  \n",
       "32560             0              20  United-States  <=50K  \n",
       "\n",
       "[32561 rows x 15 columns]"
      ]
     },
     "execution_count": 6,
     "metadata": {},
     "output_type": "execute_result"
    }
   ],
   "source": [
    "data"
   ]
  },
  {
   "cell_type": "code",
   "execution_count": 7,
   "id": "collective-guatemala",
   "metadata": {
    "execution": {
     "iopub.execute_input": "2021-06-26T10:59:30.512729Z",
     "iopub.status.busy": "2021-06-26T10:59:30.511790Z",
     "iopub.status.idle": "2021-06-26T10:59:30.517255Z",
     "shell.execute_reply": "2021-06-26T10:59:30.516619Z",
     "shell.execute_reply.started": "2021-06-26T10:13:12.981803Z"
    },
    "papermill": {
     "duration": 0.047388,
     "end_time": "2021-06-26T10:59:30.517395",
     "exception": false,
     "start_time": "2021-06-26T10:59:30.470007",
     "status": "completed"
    },
    "tags": []
   },
   "outputs": [
    {
     "data": {
      "text/plain": [
       "array(['?', 'Private', 'State-gov', 'Federal-gov', 'Self-emp-not-inc',\n",
       "       'Self-emp-inc', 'Local-gov', 'Without-pay', 'Never-worked'],\n",
       "      dtype=object)"
      ]
     },
     "execution_count": 7,
     "metadata": {},
     "output_type": "execute_result"
    }
   ],
   "source": [
    "data['workclass'].unique()"
   ]
  },
  {
   "cell_type": "code",
   "execution_count": 8,
   "id": "academic-submission",
   "metadata": {
    "execution": {
     "iopub.execute_input": "2021-06-26T10:59:30.592735Z",
     "iopub.status.busy": "2021-06-26T10:59:30.591970Z",
     "iopub.status.idle": "2021-06-26T10:59:30.597611Z",
     "shell.execute_reply": "2021-06-26T10:59:30.596972Z",
     "shell.execute_reply.started": "2021-06-26T10:13:12.991755Z"
    },
    "papermill": {
     "duration": 0.046071,
     "end_time": "2021-06-26T10:59:30.597751",
     "exception": false,
     "start_time": "2021-06-26T10:59:30.551680",
     "status": "completed"
    },
    "tags": []
   },
   "outputs": [
    {
     "data": {
      "text/plain": [
       "array(['?', 'Exec-managerial', 'Machine-op-inspct', 'Prof-specialty',\n",
       "       'Other-service', 'Adm-clerical', 'Craft-repair',\n",
       "       'Transport-moving', 'Handlers-cleaners', 'Sales',\n",
       "       'Farming-fishing', 'Tech-support', 'Protective-serv',\n",
       "       'Armed-Forces', 'Priv-house-serv'], dtype=object)"
      ]
     },
     "execution_count": 8,
     "metadata": {},
     "output_type": "execute_result"
    }
   ],
   "source": [
    "data['occupation'].unique()"
   ]
  },
  {
   "cell_type": "code",
   "execution_count": 9,
   "id": "iraqi-allowance",
   "metadata": {
    "execution": {
     "iopub.execute_input": "2021-06-26T10:59:30.673711Z",
     "iopub.status.busy": "2021-06-26T10:59:30.673007Z",
     "iopub.status.idle": "2021-06-26T10:59:30.678862Z",
     "shell.execute_reply": "2021-06-26T10:59:30.678354Z",
     "shell.execute_reply.started": "2021-06-26T10:13:13.005229Z"
    },
    "papermill": {
     "duration": 0.046513,
     "end_time": "2021-06-26T10:59:30.679004",
     "exception": false,
     "start_time": "2021-06-26T10:59:30.632491",
     "status": "completed"
    },
    "tags": []
   },
   "outputs": [
    {
     "data": {
      "text/plain": [
       "array(['United-States', '?', 'Mexico', 'Greece', 'Vietnam', 'China',\n",
       "       'Taiwan', 'India', 'Philippines', 'Trinadad&Tobago', 'Canada',\n",
       "       'South', 'Holand-Netherlands', 'Puerto-Rico', 'Poland', 'Iran',\n",
       "       'England', 'Germany', 'Italy', 'Japan', 'Hong', 'Honduras', 'Cuba',\n",
       "       'Ireland', 'Cambodia', 'Peru', 'Nicaragua', 'Dominican-Republic',\n",
       "       'Haiti', 'El-Salvador', 'Hungary', 'Columbia', 'Guatemala',\n",
       "       'Jamaica', 'Ecuador', 'France', 'Yugoslavia', 'Scotland',\n",
       "       'Portugal', 'Laos', 'Thailand', 'Outlying-US(Guam-USVI-etc)'],\n",
       "      dtype=object)"
      ]
     },
     "execution_count": 9,
     "metadata": {},
     "output_type": "execute_result"
    }
   ],
   "source": [
    "data['native.country'].unique()"
   ]
  },
  {
   "cell_type": "code",
   "execution_count": 10,
   "id": "taken-membership",
   "metadata": {
    "execution": {
     "iopub.execute_input": "2021-06-26T10:59:30.766720Z",
     "iopub.status.busy": "2021-06-26T10:59:30.766010Z",
     "iopub.status.idle": "2021-06-26T10:59:30.772330Z",
     "shell.execute_reply": "2021-06-26T10:59:30.771739Z",
     "shell.execute_reply.started": "2021-06-26T10:13:13.020946Z"
    },
    "papermill": {
     "duration": 0.058073,
     "end_time": "2021-06-26T10:59:30.772470",
     "exception": false,
     "start_time": "2021-06-26T10:59:30.714397",
     "status": "completed"
    },
    "tags": []
   },
   "outputs": [],
   "source": [
    "data = data.replace('?', np.NaN)"
   ]
  },
  {
   "cell_type": "code",
   "execution_count": 11,
   "id": "covered-soundtrack",
   "metadata": {
    "execution": {
     "iopub.execute_input": "2021-06-26T10:59:30.878264Z",
     "iopub.status.busy": "2021-06-26T10:59:30.877544Z",
     "iopub.status.idle": "2021-06-26T10:59:30.885481Z",
     "shell.execute_reply": "2021-06-26T10:59:30.885940Z",
     "shell.execute_reply.started": "2021-06-26T10:13:13.042105Z"
    },
    "papermill": {
     "duration": 0.078454,
     "end_time": "2021-06-26T10:59:30.886136",
     "exception": false,
     "start_time": "2021-06-26T10:59:30.807682",
     "status": "completed"
    },
    "tags": []
   },
   "outputs": [
    {
     "data": {
      "text/plain": [
       "age                  0\n",
       "workclass         1836\n",
       "fnlwgt               0\n",
       "education            0\n",
       "education.num        0\n",
       "marital.status       0\n",
       "occupation        1843\n",
       "relationship         0\n",
       "race                 0\n",
       "sex                  0\n",
       "capital.gain         0\n",
       "capital.loss         0\n",
       "hours.per.week       0\n",
       "native.country     583\n",
       "income               0\n",
       "dtype: int64"
      ]
     },
     "execution_count": 11,
     "metadata": {},
     "output_type": "execute_result"
    }
   ],
   "source": [
    "data.isna().sum()"
   ]
  },
  {
   "cell_type": "code",
   "execution_count": 12,
   "id": "skilled-choir",
   "metadata": {
    "execution": {
     "iopub.execute_input": "2021-06-26T10:59:30.974466Z",
     "iopub.status.busy": "2021-06-26T10:59:30.973792Z",
     "iopub.status.idle": "2021-06-26T10:59:30.978144Z",
     "shell.execute_reply": "2021-06-26T10:59:30.977516Z",
     "shell.execute_reply.started": "2021-06-26T10:13:13.079331Z"
    },
    "papermill": {
     "duration": 0.056616,
     "end_time": "2021-06-26T10:59:30.978302",
     "exception": false,
     "start_time": "2021-06-26T10:59:30.921686",
     "status": "completed"
    },
    "tags": []
   },
   "outputs": [
    {
     "data": {
      "text/html": [
       "<div>\n",
       "<style scoped>\n",
       "    .dataframe tbody tr th:only-of-type {\n",
       "        vertical-align: middle;\n",
       "    }\n",
       "\n",
       "    .dataframe tbody tr th {\n",
       "        vertical-align: top;\n",
       "    }\n",
       "\n",
       "    .dataframe thead th {\n",
       "        text-align: right;\n",
       "    }\n",
       "</style>\n",
       "<table border=\"1\" class=\"dataframe\">\n",
       "  <thead>\n",
       "    <tr style=\"text-align: right;\">\n",
       "      <th></th>\n",
       "      <th>age</th>\n",
       "      <th>workclass</th>\n",
       "      <th>fnlwgt</th>\n",
       "      <th>education</th>\n",
       "      <th>education.num</th>\n",
       "      <th>marital.status</th>\n",
       "      <th>occupation</th>\n",
       "      <th>relationship</th>\n",
       "      <th>race</th>\n",
       "      <th>sex</th>\n",
       "      <th>capital.gain</th>\n",
       "      <th>capital.loss</th>\n",
       "      <th>hours.per.week</th>\n",
       "      <th>native.country</th>\n",
       "      <th>income</th>\n",
       "    </tr>\n",
       "  </thead>\n",
       "  <tbody>\n",
       "    <tr>\n",
       "      <th>0</th>\n",
       "      <td>90</td>\n",
       "      <td>NaN</td>\n",
       "      <td>77053</td>\n",
       "      <td>HS-grad</td>\n",
       "      <td>9</td>\n",
       "      <td>Widowed</td>\n",
       "      <td>NaN</td>\n",
       "      <td>Not-in-family</td>\n",
       "      <td>White</td>\n",
       "      <td>Female</td>\n",
       "      <td>0</td>\n",
       "      <td>4356</td>\n",
       "      <td>40</td>\n",
       "      <td>United-States</td>\n",
       "      <td>&lt;=50K</td>\n",
       "    </tr>\n",
       "    <tr>\n",
       "      <th>1</th>\n",
       "      <td>82</td>\n",
       "      <td>Private</td>\n",
       "      <td>132870</td>\n",
       "      <td>HS-grad</td>\n",
       "      <td>9</td>\n",
       "      <td>Widowed</td>\n",
       "      <td>Exec-managerial</td>\n",
       "      <td>Not-in-family</td>\n",
       "      <td>White</td>\n",
       "      <td>Female</td>\n",
       "      <td>0</td>\n",
       "      <td>4356</td>\n",
       "      <td>18</td>\n",
       "      <td>United-States</td>\n",
       "      <td>&lt;=50K</td>\n",
       "    </tr>\n",
       "    <tr>\n",
       "      <th>2</th>\n",
       "      <td>66</td>\n",
       "      <td>NaN</td>\n",
       "      <td>186061</td>\n",
       "      <td>Some-college</td>\n",
       "      <td>10</td>\n",
       "      <td>Widowed</td>\n",
       "      <td>NaN</td>\n",
       "      <td>Unmarried</td>\n",
       "      <td>Black</td>\n",
       "      <td>Female</td>\n",
       "      <td>0</td>\n",
       "      <td>4356</td>\n",
       "      <td>40</td>\n",
       "      <td>United-States</td>\n",
       "      <td>&lt;=50K</td>\n",
       "    </tr>\n",
       "    <tr>\n",
       "      <th>3</th>\n",
       "      <td>54</td>\n",
       "      <td>Private</td>\n",
       "      <td>140359</td>\n",
       "      <td>7th-8th</td>\n",
       "      <td>4</td>\n",
       "      <td>Divorced</td>\n",
       "      <td>Machine-op-inspct</td>\n",
       "      <td>Unmarried</td>\n",
       "      <td>White</td>\n",
       "      <td>Female</td>\n",
       "      <td>0</td>\n",
       "      <td>3900</td>\n",
       "      <td>40</td>\n",
       "      <td>United-States</td>\n",
       "      <td>&lt;=50K</td>\n",
       "    </tr>\n",
       "    <tr>\n",
       "      <th>4</th>\n",
       "      <td>41</td>\n",
       "      <td>Private</td>\n",
       "      <td>264663</td>\n",
       "      <td>Some-college</td>\n",
       "      <td>10</td>\n",
       "      <td>Separated</td>\n",
       "      <td>Prof-specialty</td>\n",
       "      <td>Own-child</td>\n",
       "      <td>White</td>\n",
       "      <td>Female</td>\n",
       "      <td>0</td>\n",
       "      <td>3900</td>\n",
       "      <td>40</td>\n",
       "      <td>United-States</td>\n",
       "      <td>&lt;=50K</td>\n",
       "    </tr>\n",
       "  </tbody>\n",
       "</table>\n",
       "</div>"
      ],
      "text/plain": [
       "   age workclass  fnlwgt     education  education.num marital.status  \\\n",
       "0   90       NaN   77053       HS-grad              9        Widowed   \n",
       "1   82   Private  132870       HS-grad              9        Widowed   \n",
       "2   66       NaN  186061  Some-college             10        Widowed   \n",
       "3   54   Private  140359       7th-8th              4       Divorced   \n",
       "4   41   Private  264663  Some-college             10      Separated   \n",
       "\n",
       "          occupation   relationship   race     sex  capital.gain  \\\n",
       "0                NaN  Not-in-family  White  Female             0   \n",
       "1    Exec-managerial  Not-in-family  White  Female             0   \n",
       "2                NaN      Unmarried  Black  Female             0   \n",
       "3  Machine-op-inspct      Unmarried  White  Female             0   \n",
       "4     Prof-specialty      Own-child  White  Female             0   \n",
       "\n",
       "   capital.loss  hours.per.week native.country income  \n",
       "0          4356              40  United-States  <=50K  \n",
       "1          4356              18  United-States  <=50K  \n",
       "2          4356              40  United-States  <=50K  \n",
       "3          3900              40  United-States  <=50K  \n",
       "4          3900              40  United-States  <=50K  "
      ]
     },
     "execution_count": 12,
     "metadata": {},
     "output_type": "execute_result"
    }
   ],
   "source": [
    "data.head()"
   ]
  },
  {
   "cell_type": "code",
   "execution_count": 13,
   "id": "prompt-happening",
   "metadata": {
    "execution": {
     "iopub.execute_input": "2021-06-26T10:59:31.086468Z",
     "iopub.status.busy": "2021-06-26T10:59:31.056274Z",
     "iopub.status.idle": "2021-06-26T10:59:31.104095Z",
     "shell.execute_reply": "2021-06-26T10:59:31.104607Z",
     "shell.execute_reply.started": "2021-06-26T10:13:13.099809Z"
    },
    "papermill": {
     "duration": 0.090175,
     "end_time": "2021-06-26T10:59:31.104790",
     "exception": false,
     "start_time": "2021-06-26T10:59:31.014615",
     "status": "completed"
    },
    "tags": []
   },
   "outputs": [
    {
     "name": "stdout",
     "output_type": "stream",
     "text": [
      "<class 'pandas.core.frame.DataFrame'>\n",
      "RangeIndex: 32561 entries, 0 to 32560\n",
      "Data columns (total 15 columns):\n",
      " #   Column          Non-Null Count  Dtype \n",
      "---  ------          --------------  ----- \n",
      " 0   age             32561 non-null  int64 \n",
      " 1   workclass       30725 non-null  object\n",
      " 2   fnlwgt          32561 non-null  int64 \n",
      " 3   education       32561 non-null  object\n",
      " 4   education.num   32561 non-null  int64 \n",
      " 5   marital.status  32561 non-null  object\n",
      " 6   occupation      30718 non-null  object\n",
      " 7   relationship    32561 non-null  object\n",
      " 8   race            32561 non-null  object\n",
      " 9   sex             32561 non-null  object\n",
      " 10  capital.gain    32561 non-null  int64 \n",
      " 11  capital.loss    32561 non-null  int64 \n",
      " 12  hours.per.week  32561 non-null  int64 \n",
      " 13  native.country  31978 non-null  object\n",
      " 14  income          32561 non-null  object\n",
      "dtypes: int64(6), object(9)\n",
      "memory usage: 3.7+ MB\n"
     ]
    }
   ],
   "source": [
    "data.info()"
   ]
  },
  {
   "cell_type": "code",
   "execution_count": 14,
   "id": "stuffed-interference",
   "metadata": {
    "execution": {
     "iopub.execute_input": "2021-06-26T10:59:31.184461Z",
     "iopub.status.busy": "2021-06-26T10:59:31.183624Z",
     "iopub.status.idle": "2021-06-26T10:59:31.187981Z",
     "shell.execute_reply": "2021-06-26T10:59:31.187492Z",
     "shell.execute_reply.started": "2021-06-26T10:13:13.153395Z"
    },
    "papermill": {
     "duration": 0.046261,
     "end_time": "2021-06-26T10:59:31.188152",
     "exception": false,
     "start_time": "2021-06-26T10:59:31.141891",
     "status": "completed"
    },
    "tags": []
   },
   "outputs": [
    {
     "data": {
      "text/plain": [
       "Index(['age', 'workclass', 'fnlwgt', 'education', 'education.num',\n",
       "       'marital.status', 'occupation', 'relationship', 'race', 'sex',\n",
       "       'capital.gain', 'capital.loss', 'hours.per.week', 'native.country',\n",
       "       'income'],\n",
       "      dtype='object')"
      ]
     },
     "execution_count": 14,
     "metadata": {},
     "output_type": "execute_result"
    }
   ],
   "source": [
    "data.columns"
   ]
  },
  {
   "cell_type": "code",
   "execution_count": 15,
   "id": "infrared-chess",
   "metadata": {
    "execution": {
     "iopub.execute_input": "2021-06-26T10:59:31.267457Z",
     "iopub.status.busy": "2021-06-26T10:59:31.266817Z",
     "iopub.status.idle": "2021-06-26T10:59:31.269114Z",
     "shell.execute_reply": "2021-06-26T10:59:31.269610Z",
     "shell.execute_reply.started": "2021-06-26T10:13:13.162424Z"
    },
    "papermill": {
     "duration": 0.044878,
     "end_time": "2021-06-26T10:59:31.269813",
     "exception": false,
     "start_time": "2021-06-26T10:59:31.224935",
     "status": "completed"
    },
    "tags": []
   },
   "outputs": [],
   "source": [
    "categorical_features = []\n",
    "\n",
    "for column in data.columns:\n",
    "    if data[column].dtypes == 'object':\n",
    "        categorical_features.append(column)"
   ]
  },
  {
   "cell_type": "code",
   "execution_count": 16,
   "id": "lesbian-endorsement",
   "metadata": {
    "execution": {
     "iopub.execute_input": "2021-06-26T10:59:31.348282Z",
     "iopub.status.busy": "2021-06-26T10:59:31.347609Z",
     "iopub.status.idle": "2021-06-26T10:59:31.352680Z",
     "shell.execute_reply": "2021-06-26T10:59:31.353185Z",
     "shell.execute_reply.started": "2021-06-26T10:13:13.172027Z"
    },
    "papermill": {
     "duration": 0.046821,
     "end_time": "2021-06-26T10:59:31.353471",
     "exception": false,
     "start_time": "2021-06-26T10:59:31.306650",
     "status": "completed"
    },
    "tags": []
   },
   "outputs": [
    {
     "data": {
      "text/plain": [
       "['workclass',\n",
       " 'education',\n",
       " 'marital.status',\n",
       " 'occupation',\n",
       " 'relationship',\n",
       " 'race',\n",
       " 'sex',\n",
       " 'native.country',\n",
       " 'income']"
      ]
     },
     "execution_count": 16,
     "metadata": {},
     "output_type": "execute_result"
    }
   ],
   "source": [
    "categorical_features"
   ]
  },
  {
   "cell_type": "code",
   "execution_count": 17,
   "id": "cubic-catch",
   "metadata": {
    "execution": {
     "iopub.execute_input": "2021-06-26T10:59:31.431933Z",
     "iopub.status.busy": "2021-06-26T10:59:31.431284Z",
     "iopub.status.idle": "2021-06-26T10:59:31.446391Z",
     "shell.execute_reply": "2021-06-26T10:59:31.446923Z",
     "shell.execute_reply.started": "2021-06-26T10:13:13.184513Z"
    },
    "papermill": {
     "duration": 0.056127,
     "end_time": "2021-06-26T10:59:31.447134",
     "exception": false,
     "start_time": "2021-06-26T10:59:31.391007",
     "status": "completed"
    },
    "tags": []
   },
   "outputs": [],
   "source": [
    "data.drop('education', axis = 1, inplace = True)"
   ]
  },
  {
   "cell_type": "code",
   "execution_count": 18,
   "id": "curious-version",
   "metadata": {
    "execution": {
     "iopub.execute_input": "2021-06-26T10:59:31.526949Z",
     "iopub.status.busy": "2021-06-26T10:59:31.526327Z",
     "iopub.status.idle": "2021-06-26T10:59:31.530285Z",
     "shell.execute_reply": "2021-06-26T10:59:31.530728Z",
     "shell.execute_reply.started": "2021-06-26T10:13:13.204210Z"
    },
    "papermill": {
     "duration": 0.044173,
     "end_time": "2021-06-26T10:59:31.530887",
     "exception": false,
     "start_time": "2021-06-26T10:59:31.486714",
     "status": "completed"
    },
    "tags": []
   },
   "outputs": [],
   "source": [
    "categorical_features.remove('income')"
   ]
  },
  {
   "cell_type": "code",
   "execution_count": 19,
   "id": "efficient-director",
   "metadata": {
    "execution": {
     "iopub.execute_input": "2021-06-26T10:59:31.609846Z",
     "iopub.status.busy": "2021-06-26T10:59:31.609035Z",
     "iopub.status.idle": "2021-06-26T10:59:31.611450Z",
     "shell.execute_reply": "2021-06-26T10:59:31.611874Z",
     "shell.execute_reply.started": "2021-06-26T10:13:13.210668Z"
    },
    "papermill": {
     "duration": 0.044044,
     "end_time": "2021-06-26T10:59:31.612033",
     "exception": false,
     "start_time": "2021-06-26T10:59:31.567989",
     "status": "completed"
    },
    "tags": []
   },
   "outputs": [],
   "source": [
    "categorical_features.remove('education')"
   ]
  },
  {
   "cell_type": "code",
   "execution_count": 20,
   "id": "individual-delivery",
   "metadata": {
    "execution": {
     "iopub.execute_input": "2021-06-26T10:59:31.691567Z",
     "iopub.status.busy": "2021-06-26T10:59:31.690557Z",
     "iopub.status.idle": "2021-06-26T10:59:31.694772Z",
     "shell.execute_reply": "2021-06-26T10:59:31.695260Z",
     "shell.execute_reply.started": "2021-06-26T10:13:13.220648Z"
    },
    "papermill": {
     "duration": 0.046468,
     "end_time": "2021-06-26T10:59:31.695445",
     "exception": false,
     "start_time": "2021-06-26T10:59:31.648977",
     "status": "completed"
    },
    "tags": []
   },
   "outputs": [
    {
     "data": {
      "text/plain": [
       "['workclass',\n",
       " 'marital.status',\n",
       " 'occupation',\n",
       " 'relationship',\n",
       " 'race',\n",
       " 'sex',\n",
       " 'native.country']"
      ]
     },
     "execution_count": 20,
     "metadata": {},
     "output_type": "execute_result"
    }
   ],
   "source": [
    "categorical_features"
   ]
  },
  {
   "cell_type": "code",
   "execution_count": 21,
   "id": "handy-tumor",
   "metadata": {
    "execution": {
     "iopub.execute_input": "2021-06-26T10:59:31.777547Z",
     "iopub.status.busy": "2021-06-26T10:59:31.776821Z",
     "iopub.status.idle": "2021-06-26T10:59:31.780084Z",
     "shell.execute_reply": "2021-06-26T10:59:31.779457Z",
     "shell.execute_reply.started": "2021-06-26T10:13:13.233000Z"
    },
    "papermill": {
     "duration": 0.04676,
     "end_time": "2021-06-26T10:59:31.780229",
     "exception": false,
     "start_time": "2021-06-26T10:59:31.733469",
     "status": "completed"
    },
    "tags": []
   },
   "outputs": [],
   "source": [
    "def get_uniques(df, columns):\n",
    "    uniques = dict()\n",
    "    \n",
    "    for column in columns:\n",
    "        uniques[column] = list(df[column].unique())\n",
    "        \n",
    "    return uniques"
   ]
  },
  {
   "cell_type": "code",
   "execution_count": 22,
   "id": "great-tension",
   "metadata": {
    "execution": {
     "iopub.execute_input": "2021-06-26T10:59:31.865724Z",
     "iopub.status.busy": "2021-06-26T10:59:31.865049Z",
     "iopub.status.idle": "2021-06-26T10:59:31.886023Z",
     "shell.execute_reply": "2021-06-26T10:59:31.885492Z",
     "shell.execute_reply.started": "2021-06-26T10:13:13.243654Z"
    },
    "papermill": {
     "duration": 0.067528,
     "end_time": "2021-06-26T10:59:31.886192",
     "exception": false,
     "start_time": "2021-06-26T10:59:31.818664",
     "status": "completed"
    },
    "tags": []
   },
   "outputs": [
    {
     "data": {
      "text/plain": [
       "{'workclass': [nan,\n",
       "  'Private',\n",
       "  'State-gov',\n",
       "  'Federal-gov',\n",
       "  'Self-emp-not-inc',\n",
       "  'Self-emp-inc',\n",
       "  'Local-gov',\n",
       "  'Without-pay',\n",
       "  'Never-worked'],\n",
       " 'marital.status': ['Widowed',\n",
       "  'Divorced',\n",
       "  'Separated',\n",
       "  'Never-married',\n",
       "  'Married-civ-spouse',\n",
       "  'Married-spouse-absent',\n",
       "  'Married-AF-spouse'],\n",
       " 'occupation': [nan,\n",
       "  'Exec-managerial',\n",
       "  'Machine-op-inspct',\n",
       "  'Prof-specialty',\n",
       "  'Other-service',\n",
       "  'Adm-clerical',\n",
       "  'Craft-repair',\n",
       "  'Transport-moving',\n",
       "  'Handlers-cleaners',\n",
       "  'Sales',\n",
       "  'Farming-fishing',\n",
       "  'Tech-support',\n",
       "  'Protective-serv',\n",
       "  'Armed-Forces',\n",
       "  'Priv-house-serv'],\n",
       " 'relationship': ['Not-in-family',\n",
       "  'Unmarried',\n",
       "  'Own-child',\n",
       "  'Other-relative',\n",
       "  'Husband',\n",
       "  'Wife'],\n",
       " 'race': ['White',\n",
       "  'Black',\n",
       "  'Asian-Pac-Islander',\n",
       "  'Other',\n",
       "  'Amer-Indian-Eskimo'],\n",
       " 'sex': ['Female', 'Male'],\n",
       " 'native.country': ['United-States',\n",
       "  nan,\n",
       "  'Mexico',\n",
       "  'Greece',\n",
       "  'Vietnam',\n",
       "  'China',\n",
       "  'Taiwan',\n",
       "  'India',\n",
       "  'Philippines',\n",
       "  'Trinadad&Tobago',\n",
       "  'Canada',\n",
       "  'South',\n",
       "  'Holand-Netherlands',\n",
       "  'Puerto-Rico',\n",
       "  'Poland',\n",
       "  'Iran',\n",
       "  'England',\n",
       "  'Germany',\n",
       "  'Italy',\n",
       "  'Japan',\n",
       "  'Hong',\n",
       "  'Honduras',\n",
       "  'Cuba',\n",
       "  'Ireland',\n",
       "  'Cambodia',\n",
       "  'Peru',\n",
       "  'Nicaragua',\n",
       "  'Dominican-Republic',\n",
       "  'Haiti',\n",
       "  'El-Salvador',\n",
       "  'Hungary',\n",
       "  'Columbia',\n",
       "  'Guatemala',\n",
       "  'Jamaica',\n",
       "  'Ecuador',\n",
       "  'France',\n",
       "  'Yugoslavia',\n",
       "  'Scotland',\n",
       "  'Portugal',\n",
       "  'Laos',\n",
       "  'Thailand',\n",
       "  'Outlying-US(Guam-USVI-etc)']}"
      ]
     },
     "execution_count": 22,
     "metadata": {},
     "output_type": "execute_result"
    }
   ],
   "source": [
    "get_uniques(data, categorical_features)"
   ]
  },
  {
   "cell_type": "code",
   "execution_count": 23,
   "id": "inclusive-danger",
   "metadata": {
    "execution": {
     "iopub.execute_input": "2021-06-26T10:59:31.968293Z",
     "iopub.status.busy": "2021-06-26T10:59:31.967635Z",
     "iopub.status.idle": "2021-06-26T10:59:31.970985Z",
     "shell.execute_reply": "2021-06-26T10:59:31.970364Z",
     "shell.execute_reply.started": "2021-06-26T10:13:13.279613Z"
    },
    "papermill": {
     "duration": 0.046134,
     "end_time": "2021-06-26T10:59:31.971141",
     "exception": false,
     "start_time": "2021-06-26T10:59:31.925007",
     "status": "completed"
    },
    "tags": []
   },
   "outputs": [],
   "source": [
    "binary_features = ['sex']\n",
    "nominal_features = ['workclass', 'marital.status', 'occupation', 'relationship', 'race', 'native.country']"
   ]
  },
  {
   "cell_type": "markdown",
   "id": "extra-player",
   "metadata": {
    "papermill": {
     "duration": 0.038621,
     "end_time": "2021-06-26T10:59:32.047501",
     "exception": false,
     "start_time": "2021-06-26T10:59:32.008880",
     "status": "completed"
    },
    "tags": []
   },
   "source": [
    "# Data encoding 👨‍💻"
   ]
  },
  {
   "cell_type": "code",
   "execution_count": 24,
   "id": "roman-laptop",
   "metadata": {
    "execution": {
     "iopub.execute_input": "2021-06-26T10:59:32.130806Z",
     "iopub.status.busy": "2021-06-26T10:59:32.129957Z",
     "iopub.status.idle": "2021-06-26T10:59:32.132844Z",
     "shell.execute_reply": "2021-06-26T10:59:32.132349Z",
     "shell.execute_reply.started": "2021-06-26T10:13:13.286028Z"
    },
    "papermill": {
     "duration": 0.047742,
     "end_time": "2021-06-26T10:59:32.132982",
     "exception": false,
     "start_time": "2021-06-26T10:59:32.085240",
     "status": "completed"
    },
    "tags": []
   },
   "outputs": [],
   "source": [
    "def binary_encode(df, columns):\n",
    "    label_encoder = LabelEncoder()\n",
    "    for column in columns:\n",
    "        df[column] = label_encoder.fit_transform(df[column])\n",
    "    return df\n",
    "\n",
    "def onehot_encode(df, columns):\n",
    "    for column in columns:\n",
    "        dummies = pd.get_dummies(df[column])\n",
    "        df = pd.concat([df, dummies], axis = 1)\n",
    "        df.drop(column, axis = 1, inplace = True)\n",
    "    return df"
   ]
  },
  {
   "cell_type": "code",
   "execution_count": 25,
   "id": "durable-benchmark",
   "metadata": {
    "execution": {
     "iopub.execute_input": "2021-06-26T10:59:32.225142Z",
     "iopub.status.busy": "2021-06-26T10:59:32.224410Z",
     "iopub.status.idle": "2021-06-26T10:59:32.317611Z",
     "shell.execute_reply": "2021-06-26T10:59:32.317047Z",
     "shell.execute_reply.started": "2021-06-26T10:13:13.300140Z"
    },
    "papermill": {
     "duration": 0.1469,
     "end_time": "2021-06-26T10:59:32.317777",
     "exception": false,
     "start_time": "2021-06-26T10:59:32.170877",
     "status": "completed"
    },
    "tags": []
   },
   "outputs": [],
   "source": [
    "data = binary_encode(data, binary_features)\n",
    "data = onehot_encode(data, nominal_features)"
   ]
  },
  {
   "cell_type": "code",
   "execution_count": 26,
   "id": "aware-gender",
   "metadata": {
    "execution": {
     "iopub.execute_input": "2021-06-26T10:59:32.401459Z",
     "iopub.status.busy": "2021-06-26T10:59:32.400592Z",
     "iopub.status.idle": "2021-06-26T10:59:32.404955Z",
     "shell.execute_reply": "2021-06-26T10:59:32.404344Z",
     "shell.execute_reply.started": "2021-06-26T10:13:13.405349Z"
    },
    "papermill": {
     "duration": 0.048563,
     "end_time": "2021-06-26T10:59:32.405128",
     "exception": false,
     "start_time": "2021-06-26T10:59:32.356565",
     "status": "completed"
    },
    "tags": []
   },
   "outputs": [
    {
     "data": {
      "text/plain": [
       "1"
      ]
     },
     "execution_count": 26,
     "metadata": {},
     "output_type": "execute_result"
    }
   ],
   "source": [
    "(data.dtypes == 'object').sum()"
   ]
  },
  {
   "cell_type": "code",
   "execution_count": 27,
   "id": "utility-rebound",
   "metadata": {
    "execution": {
     "iopub.execute_input": "2021-06-26T10:59:32.489417Z",
     "iopub.status.busy": "2021-06-26T10:59:32.488563Z",
     "iopub.status.idle": "2021-06-26T10:59:32.492153Z",
     "shell.execute_reply": "2021-06-26T10:59:32.492635Z",
     "shell.execute_reply.started": "2021-06-26T10:13:13.414977Z"
    },
    "papermill": {
     "duration": 0.049291,
     "end_time": "2021-06-26T10:59:32.492812",
     "exception": false,
     "start_time": "2021-06-26T10:59:32.443521",
     "status": "completed"
    },
    "tags": []
   },
   "outputs": [],
   "source": [
    "y = data['income']\n",
    "X = data.drop('income', axis = 1)"
   ]
  },
  {
   "cell_type": "code",
   "execution_count": 28,
   "id": "gothic-mattress",
   "metadata": {
    "execution": {
     "iopub.execute_input": "2021-06-26T10:59:32.586790Z",
     "iopub.status.busy": "2021-06-26T10:59:32.586083Z",
     "iopub.status.idle": "2021-06-26T10:59:32.589705Z",
     "shell.execute_reply": "2021-06-26T10:59:32.589203Z",
     "shell.execute_reply.started": "2021-06-26T10:13:13.430635Z"
    },
    "papermill": {
     "duration": 0.058913,
     "end_time": "2021-06-26T10:59:32.589852",
     "exception": false,
     "start_time": "2021-06-26T10:59:32.530939",
     "status": "completed"
    },
    "tags": []
   },
   "outputs": [
    {
     "data": {
      "text/plain": [
       "{0: '<=50K', 1: '>50K'}"
      ]
     },
     "execution_count": 28,
     "metadata": {},
     "output_type": "execute_result"
    }
   ],
   "source": [
    "label_encoder = LabelEncoder()\n",
    "y = label_encoder.fit_transform(y)\n",
    "y_mappings = {index : label for index, label in enumerate(label_encoder.classes_)}\n",
    "y_mappings"
   ]
  },
  {
   "cell_type": "code",
   "execution_count": 29,
   "id": "twelve-miami",
   "metadata": {
    "execution": {
     "iopub.execute_input": "2021-06-26T10:59:32.670587Z",
     "iopub.status.busy": "2021-06-26T10:59:32.669959Z",
     "iopub.status.idle": "2021-06-26T10:59:32.674104Z",
     "shell.execute_reply": "2021-06-26T10:59:32.674574Z",
     "shell.execute_reply.started": "2021-06-26T10:13:24.344774Z"
    },
    "papermill": {
     "duration": 0.045971,
     "end_time": "2021-06-26T10:59:32.674758",
     "exception": false,
     "start_time": "2021-06-26T10:59:32.628787",
     "status": "completed"
    },
    "tags": []
   },
   "outputs": [
    {
     "data": {
      "text/plain": [
       "array([0, 0, 0, ..., 1, 0, 0])"
      ]
     },
     "execution_count": 29,
     "metadata": {},
     "output_type": "execute_result"
    }
   ],
   "source": [
    "y"
   ]
  },
  {
   "cell_type": "code",
   "execution_count": 30,
   "id": "initial-andrew",
   "metadata": {
    "execution": {
     "iopub.execute_input": "2021-06-26T10:59:32.764432Z",
     "iopub.status.busy": "2021-06-26T10:59:32.763566Z",
     "iopub.status.idle": "2021-06-26T10:59:32.827272Z",
     "shell.execute_reply": "2021-06-26T10:59:32.827763Z",
     "shell.execute_reply.started": "2021-06-26T10:14:08.169911Z"
    },
    "papermill": {
     "duration": 0.114389,
     "end_time": "2021-06-26T10:59:32.827965",
     "exception": false,
     "start_time": "2021-06-26T10:59:32.713576",
     "status": "completed"
    },
    "tags": []
   },
   "outputs": [],
   "source": [
    "scaler = MinMaxScaler()\n",
    "X = pd.DataFrame(scaler.fit_transform(X), columns = X.columns)"
   ]
  },
  {
   "cell_type": "markdown",
   "id": "hollywood-printing",
   "metadata": {
    "papermill": {
     "duration": 0.039289,
     "end_time": "2021-06-26T10:59:32.906908",
     "exception": false,
     "start_time": "2021-06-26T10:59:32.867619",
     "status": "completed"
    },
    "tags": []
   },
   "source": [
    "# Model training 🛠️"
   ]
  },
  {
   "cell_type": "code",
   "execution_count": 31,
   "id": "molecular-rotation",
   "metadata": {
    "execution": {
     "iopub.execute_input": "2021-06-26T10:59:32.988440Z",
     "iopub.status.busy": "2021-06-26T10:59:32.987767Z",
     "iopub.status.idle": "2021-06-26T10:59:33.031904Z",
     "shell.execute_reply": "2021-06-26T10:59:33.032383Z",
     "shell.execute_reply.started": "2021-06-26T10:14:10.668956Z"
    },
    "papermill": {
     "duration": 0.086311,
     "end_time": "2021-06-26T10:59:33.032565",
     "exception": false,
     "start_time": "2021-06-26T10:59:32.946254",
     "status": "completed"
    },
    "tags": []
   },
   "outputs": [
    {
     "data": {
      "text/html": [
       "<div>\n",
       "<style scoped>\n",
       "    .dataframe tbody tr th:only-of-type {\n",
       "        vertical-align: middle;\n",
       "    }\n",
       "\n",
       "    .dataframe tbody tr th {\n",
       "        vertical-align: top;\n",
       "    }\n",
       "\n",
       "    .dataframe thead th {\n",
       "        text-align: right;\n",
       "    }\n",
       "</style>\n",
       "<table border=\"1\" class=\"dataframe\">\n",
       "  <thead>\n",
       "    <tr style=\"text-align: right;\">\n",
       "      <th></th>\n",
       "      <th>age</th>\n",
       "      <th>fnlwgt</th>\n",
       "      <th>education.num</th>\n",
       "      <th>sex</th>\n",
       "      <th>capital.gain</th>\n",
       "      <th>capital.loss</th>\n",
       "      <th>hours.per.week</th>\n",
       "      <th>Federal-gov</th>\n",
       "      <th>Local-gov</th>\n",
       "      <th>Never-worked</th>\n",
       "      <th>...</th>\n",
       "      <th>Portugal</th>\n",
       "      <th>Puerto-Rico</th>\n",
       "      <th>Scotland</th>\n",
       "      <th>South</th>\n",
       "      <th>Taiwan</th>\n",
       "      <th>Thailand</th>\n",
       "      <th>Trinadad&amp;Tobago</th>\n",
       "      <th>United-States</th>\n",
       "      <th>Vietnam</th>\n",
       "      <th>Yugoslavia</th>\n",
       "    </tr>\n",
       "  </thead>\n",
       "  <tbody>\n",
       "    <tr>\n",
       "      <th>0</th>\n",
       "      <td>1.000000</td>\n",
       "      <td>0.043987</td>\n",
       "      <td>0.533333</td>\n",
       "      <td>0.0</td>\n",
       "      <td>0.0</td>\n",
       "      <td>1.000000</td>\n",
       "      <td>0.397959</td>\n",
       "      <td>0.0</td>\n",
       "      <td>0.0</td>\n",
       "      <td>0.0</td>\n",
       "      <td>...</td>\n",
       "      <td>0.0</td>\n",
       "      <td>0.0</td>\n",
       "      <td>0.0</td>\n",
       "      <td>0.0</td>\n",
       "      <td>0.0</td>\n",
       "      <td>0.0</td>\n",
       "      <td>0.0</td>\n",
       "      <td>1.0</td>\n",
       "      <td>0.0</td>\n",
       "      <td>0.0</td>\n",
       "    </tr>\n",
       "    <tr>\n",
       "      <th>1</th>\n",
       "      <td>0.890411</td>\n",
       "      <td>0.081896</td>\n",
       "      <td>0.533333</td>\n",
       "      <td>0.0</td>\n",
       "      <td>0.0</td>\n",
       "      <td>1.000000</td>\n",
       "      <td>0.173469</td>\n",
       "      <td>0.0</td>\n",
       "      <td>0.0</td>\n",
       "      <td>0.0</td>\n",
       "      <td>...</td>\n",
       "      <td>0.0</td>\n",
       "      <td>0.0</td>\n",
       "      <td>0.0</td>\n",
       "      <td>0.0</td>\n",
       "      <td>0.0</td>\n",
       "      <td>0.0</td>\n",
       "      <td>0.0</td>\n",
       "      <td>1.0</td>\n",
       "      <td>0.0</td>\n",
       "      <td>0.0</td>\n",
       "    </tr>\n",
       "    <tr>\n",
       "      <th>2</th>\n",
       "      <td>0.671233</td>\n",
       "      <td>0.118021</td>\n",
       "      <td>0.600000</td>\n",
       "      <td>0.0</td>\n",
       "      <td>0.0</td>\n",
       "      <td>1.000000</td>\n",
       "      <td>0.397959</td>\n",
       "      <td>0.0</td>\n",
       "      <td>0.0</td>\n",
       "      <td>0.0</td>\n",
       "      <td>...</td>\n",
       "      <td>0.0</td>\n",
       "      <td>0.0</td>\n",
       "      <td>0.0</td>\n",
       "      <td>0.0</td>\n",
       "      <td>0.0</td>\n",
       "      <td>0.0</td>\n",
       "      <td>0.0</td>\n",
       "      <td>1.0</td>\n",
       "      <td>0.0</td>\n",
       "      <td>0.0</td>\n",
       "    </tr>\n",
       "    <tr>\n",
       "      <th>3</th>\n",
       "      <td>0.506849</td>\n",
       "      <td>0.086982</td>\n",
       "      <td>0.200000</td>\n",
       "      <td>0.0</td>\n",
       "      <td>0.0</td>\n",
       "      <td>0.895317</td>\n",
       "      <td>0.397959</td>\n",
       "      <td>0.0</td>\n",
       "      <td>0.0</td>\n",
       "      <td>0.0</td>\n",
       "      <td>...</td>\n",
       "      <td>0.0</td>\n",
       "      <td>0.0</td>\n",
       "      <td>0.0</td>\n",
       "      <td>0.0</td>\n",
       "      <td>0.0</td>\n",
       "      <td>0.0</td>\n",
       "      <td>0.0</td>\n",
       "      <td>1.0</td>\n",
       "      <td>0.0</td>\n",
       "      <td>0.0</td>\n",
       "    </tr>\n",
       "    <tr>\n",
       "      <th>4</th>\n",
       "      <td>0.328767</td>\n",
       "      <td>0.171404</td>\n",
       "      <td>0.600000</td>\n",
       "      <td>0.0</td>\n",
       "      <td>0.0</td>\n",
       "      <td>0.895317</td>\n",
       "      <td>0.397959</td>\n",
       "      <td>0.0</td>\n",
       "      <td>0.0</td>\n",
       "      <td>0.0</td>\n",
       "      <td>...</td>\n",
       "      <td>0.0</td>\n",
       "      <td>0.0</td>\n",
       "      <td>0.0</td>\n",
       "      <td>0.0</td>\n",
       "      <td>0.0</td>\n",
       "      <td>0.0</td>\n",
       "      <td>0.0</td>\n",
       "      <td>1.0</td>\n",
       "      <td>0.0</td>\n",
       "      <td>0.0</td>\n",
       "    </tr>\n",
       "    <tr>\n",
       "      <th>...</th>\n",
       "      <td>...</td>\n",
       "      <td>...</td>\n",
       "      <td>...</td>\n",
       "      <td>...</td>\n",
       "      <td>...</td>\n",
       "      <td>...</td>\n",
       "      <td>...</td>\n",
       "      <td>...</td>\n",
       "      <td>...</td>\n",
       "      <td>...</td>\n",
       "      <td>...</td>\n",
       "      <td>...</td>\n",
       "      <td>...</td>\n",
       "      <td>...</td>\n",
       "      <td>...</td>\n",
       "      <td>...</td>\n",
       "      <td>...</td>\n",
       "      <td>...</td>\n",
       "      <td>...</td>\n",
       "      <td>...</td>\n",
       "      <td>...</td>\n",
       "    </tr>\n",
       "    <tr>\n",
       "      <th>32556</th>\n",
       "      <td>0.068493</td>\n",
       "      <td>0.202298</td>\n",
       "      <td>0.600000</td>\n",
       "      <td>1.0</td>\n",
       "      <td>0.0</td>\n",
       "      <td>0.000000</td>\n",
       "      <td>0.397959</td>\n",
       "      <td>0.0</td>\n",
       "      <td>0.0</td>\n",
       "      <td>0.0</td>\n",
       "      <td>...</td>\n",
       "      <td>0.0</td>\n",
       "      <td>0.0</td>\n",
       "      <td>0.0</td>\n",
       "      <td>0.0</td>\n",
       "      <td>0.0</td>\n",
       "      <td>0.0</td>\n",
       "      <td>0.0</td>\n",
       "      <td>1.0</td>\n",
       "      <td>0.0</td>\n",
       "      <td>0.0</td>\n",
       "    </tr>\n",
       "    <tr>\n",
       "      <th>32557</th>\n",
       "      <td>0.136986</td>\n",
       "      <td>0.166404</td>\n",
       "      <td>0.733333</td>\n",
       "      <td>0.0</td>\n",
       "      <td>0.0</td>\n",
       "      <td>0.000000</td>\n",
       "      <td>0.377551</td>\n",
       "      <td>0.0</td>\n",
       "      <td>0.0</td>\n",
       "      <td>0.0</td>\n",
       "      <td>...</td>\n",
       "      <td>0.0</td>\n",
       "      <td>0.0</td>\n",
       "      <td>0.0</td>\n",
       "      <td>0.0</td>\n",
       "      <td>0.0</td>\n",
       "      <td>0.0</td>\n",
       "      <td>0.0</td>\n",
       "      <td>1.0</td>\n",
       "      <td>0.0</td>\n",
       "      <td>0.0</td>\n",
       "    </tr>\n",
       "    <tr>\n",
       "      <th>32558</th>\n",
       "      <td>0.315068</td>\n",
       "      <td>0.096500</td>\n",
       "      <td>0.533333</td>\n",
       "      <td>1.0</td>\n",
       "      <td>0.0</td>\n",
       "      <td>0.000000</td>\n",
       "      <td>0.397959</td>\n",
       "      <td>0.0</td>\n",
       "      <td>0.0</td>\n",
       "      <td>0.0</td>\n",
       "      <td>...</td>\n",
       "      <td>0.0</td>\n",
       "      <td>0.0</td>\n",
       "      <td>0.0</td>\n",
       "      <td>0.0</td>\n",
       "      <td>0.0</td>\n",
       "      <td>0.0</td>\n",
       "      <td>0.0</td>\n",
       "      <td>1.0</td>\n",
       "      <td>0.0</td>\n",
       "      <td>0.0</td>\n",
       "    </tr>\n",
       "    <tr>\n",
       "      <th>32559</th>\n",
       "      <td>0.561644</td>\n",
       "      <td>0.094827</td>\n",
       "      <td>0.533333</td>\n",
       "      <td>0.0</td>\n",
       "      <td>0.0</td>\n",
       "      <td>0.000000</td>\n",
       "      <td>0.397959</td>\n",
       "      <td>0.0</td>\n",
       "      <td>0.0</td>\n",
       "      <td>0.0</td>\n",
       "      <td>...</td>\n",
       "      <td>0.0</td>\n",
       "      <td>0.0</td>\n",
       "      <td>0.0</td>\n",
       "      <td>0.0</td>\n",
       "      <td>0.0</td>\n",
       "      <td>0.0</td>\n",
       "      <td>0.0</td>\n",
       "      <td>1.0</td>\n",
       "      <td>0.0</td>\n",
       "      <td>0.0</td>\n",
       "    </tr>\n",
       "    <tr>\n",
       "      <th>32560</th>\n",
       "      <td>0.068493</td>\n",
       "      <td>0.128499</td>\n",
       "      <td>0.533333</td>\n",
       "      <td>1.0</td>\n",
       "      <td>0.0</td>\n",
       "      <td>0.000000</td>\n",
       "      <td>0.193878</td>\n",
       "      <td>0.0</td>\n",
       "      <td>0.0</td>\n",
       "      <td>0.0</td>\n",
       "      <td>...</td>\n",
       "      <td>0.0</td>\n",
       "      <td>0.0</td>\n",
       "      <td>0.0</td>\n",
       "      <td>0.0</td>\n",
       "      <td>0.0</td>\n",
       "      <td>0.0</td>\n",
       "      <td>0.0</td>\n",
       "      <td>1.0</td>\n",
       "      <td>0.0</td>\n",
       "      <td>0.0</td>\n",
       "    </tr>\n",
       "  </tbody>\n",
       "</table>\n",
       "<p>32561 rows × 88 columns</p>\n",
       "</div>"
      ],
      "text/plain": [
       "            age    fnlwgt  education.num  sex  capital.gain  capital.loss  \\\n",
       "0      1.000000  0.043987       0.533333  0.0           0.0      1.000000   \n",
       "1      0.890411  0.081896       0.533333  0.0           0.0      1.000000   \n",
       "2      0.671233  0.118021       0.600000  0.0           0.0      1.000000   \n",
       "3      0.506849  0.086982       0.200000  0.0           0.0      0.895317   \n",
       "4      0.328767  0.171404       0.600000  0.0           0.0      0.895317   \n",
       "...         ...       ...            ...  ...           ...           ...   \n",
       "32556  0.068493  0.202298       0.600000  1.0           0.0      0.000000   \n",
       "32557  0.136986  0.166404       0.733333  0.0           0.0      0.000000   \n",
       "32558  0.315068  0.096500       0.533333  1.0           0.0      0.000000   \n",
       "32559  0.561644  0.094827       0.533333  0.0           0.0      0.000000   \n",
       "32560  0.068493  0.128499       0.533333  1.0           0.0      0.000000   \n",
       "\n",
       "       hours.per.week  Federal-gov  Local-gov  Never-worked  ...  Portugal  \\\n",
       "0            0.397959          0.0        0.0           0.0  ...       0.0   \n",
       "1            0.173469          0.0        0.0           0.0  ...       0.0   \n",
       "2            0.397959          0.0        0.0           0.0  ...       0.0   \n",
       "3            0.397959          0.0        0.0           0.0  ...       0.0   \n",
       "4            0.397959          0.0        0.0           0.0  ...       0.0   \n",
       "...               ...          ...        ...           ...  ...       ...   \n",
       "32556        0.397959          0.0        0.0           0.0  ...       0.0   \n",
       "32557        0.377551          0.0        0.0           0.0  ...       0.0   \n",
       "32558        0.397959          0.0        0.0           0.0  ...       0.0   \n",
       "32559        0.397959          0.0        0.0           0.0  ...       0.0   \n",
       "32560        0.193878          0.0        0.0           0.0  ...       0.0   \n",
       "\n",
       "       Puerto-Rico  Scotland  South  Taiwan  Thailand  Trinadad&Tobago  \\\n",
       "0              0.0       0.0    0.0     0.0       0.0              0.0   \n",
       "1              0.0       0.0    0.0     0.0       0.0              0.0   \n",
       "2              0.0       0.0    0.0     0.0       0.0              0.0   \n",
       "3              0.0       0.0    0.0     0.0       0.0              0.0   \n",
       "4              0.0       0.0    0.0     0.0       0.0              0.0   \n",
       "...            ...       ...    ...     ...       ...              ...   \n",
       "32556          0.0       0.0    0.0     0.0       0.0              0.0   \n",
       "32557          0.0       0.0    0.0     0.0       0.0              0.0   \n",
       "32558          0.0       0.0    0.0     0.0       0.0              0.0   \n",
       "32559          0.0       0.0    0.0     0.0       0.0              0.0   \n",
       "32560          0.0       0.0    0.0     0.0       0.0              0.0   \n",
       "\n",
       "       United-States  Vietnam  Yugoslavia  \n",
       "0                1.0      0.0         0.0  \n",
       "1                1.0      0.0         0.0  \n",
       "2                1.0      0.0         0.0  \n",
       "3                1.0      0.0         0.0  \n",
       "4                1.0      0.0         0.0  \n",
       "...              ...      ...         ...  \n",
       "32556            1.0      0.0         0.0  \n",
       "32557            1.0      0.0         0.0  \n",
       "32558            1.0      0.0         0.0  \n",
       "32559            1.0      0.0         0.0  \n",
       "32560            1.0      0.0         0.0  \n",
       "\n",
       "[32561 rows x 88 columns]"
      ]
     },
     "execution_count": 31,
     "metadata": {},
     "output_type": "execute_result"
    }
   ],
   "source": [
    "X"
   ]
  },
  {
   "cell_type": "code",
   "execution_count": 32,
   "id": "pretty-gazette",
   "metadata": {
    "execution": {
     "iopub.execute_input": "2021-06-26T10:59:33.116554Z",
     "iopub.status.busy": "2021-06-26T10:59:33.115629Z",
     "iopub.status.idle": "2021-06-26T10:59:33.138231Z",
     "shell.execute_reply": "2021-06-26T10:59:33.138692Z",
     "shell.execute_reply.started": "2021-06-26T10:14:56.169030Z"
    },
    "papermill": {
     "duration": 0.065811,
     "end_time": "2021-06-26T10:59:33.138900",
     "exception": false,
     "start_time": "2021-06-26T10:59:33.073089",
     "status": "completed"
    },
    "tags": []
   },
   "outputs": [],
   "source": [
    "X_train, X_test, y_train, y_test = tts(X, y, train_size = 0.8)"
   ]
  },
  {
   "cell_type": "code",
   "execution_count": 33,
   "id": "capital-qualification",
   "metadata": {
    "execution": {
     "iopub.execute_input": "2021-06-26T10:59:33.221685Z",
     "iopub.status.busy": "2021-06-26T10:59:33.220913Z",
     "iopub.status.idle": "2021-06-26T11:00:23.366773Z",
     "shell.execute_reply": "2021-06-26T11:00:23.366194Z",
     "shell.execute_reply.started": "2021-06-26T10:50:03.798229Z"
    },
    "papermill": {
     "duration": 50.188316,
     "end_time": "2021-06-26T11:00:23.366936",
     "exception": false,
     "start_time": "2021-06-26T10:59:33.178620",
     "status": "completed"
    },
    "tags": []
   },
   "outputs": [
    {
     "name": "stdout",
     "output_type": "stream",
     "text": [
      "Epoch 1/25\n",
      "652/652 [==============================] - 4s 4ms/step - loss: 0.4681 - acc: 0.7662 - auc: 0.7695 - val_loss: 0.3670 - val_acc: 0.8278 - val_auc: 0.8795\n",
      "Epoch 2/25\n",
      "652/652 [==============================] - 2s 3ms/step - loss: 0.3513 - acc: 0.8370 - auc: 0.8849 - val_loss: 0.3456 - val_acc: 0.8399 - val_auc: 0.8920\n",
      "Epoch 3/25\n",
      "652/652 [==============================] - 2s 3ms/step - loss: 0.3370 - acc: 0.8422 - auc: 0.8963 - val_loss: 0.3335 - val_acc: 0.8459 - val_auc: 0.8979\n",
      "Epoch 4/25\n",
      "652/652 [==============================] - 2s 3ms/step - loss: 0.3333 - acc: 0.8414 - auc: 0.8974 - val_loss: 0.3294 - val_acc: 0.8482 - val_auc: 0.9005\n",
      "Epoch 5/25\n",
      "652/652 [==============================] - 2s 3ms/step - loss: 0.3211 - acc: 0.8502 - auc: 0.9045 - val_loss: 0.3276 - val_acc: 0.8491 - val_auc: 0.9029\n",
      "Epoch 6/25\n",
      "652/652 [==============================] - 2s 3ms/step - loss: 0.3177 - acc: 0.8517 - auc: 0.9077 - val_loss: 0.3298 - val_acc: 0.8491 - val_auc: 0.9019\n",
      "Epoch 7/25\n",
      "652/652 [==============================] - 2s 3ms/step - loss: 0.3128 - acc: 0.8521 - auc: 0.9100 - val_loss: 0.3233 - val_acc: 0.8512 - val_auc: 0.9041\n",
      "Epoch 8/25\n",
      "652/652 [==============================] - 2s 3ms/step - loss: 0.3093 - acc: 0.8554 - auc: 0.9138 - val_loss: 0.3242 - val_acc: 0.8455 - val_auc: 0.9044\n",
      "Epoch 9/25\n",
      "652/652 [==============================] - 2s 3ms/step - loss: 0.3073 - acc: 0.8559 - auc: 0.9138 - val_loss: 0.3294 - val_acc: 0.8491 - val_auc: 0.9048\n",
      "Epoch 10/25\n",
      "652/652 [==============================] - 2s 3ms/step - loss: 0.3019 - acc: 0.8582 - auc: 0.9170 - val_loss: 0.3228 - val_acc: 0.8509 - val_auc: 0.9042\n",
      "Epoch 11/25\n",
      "652/652 [==============================] - 2s 3ms/step - loss: 0.3027 - acc: 0.8606 - auc: 0.9171 - val_loss: 0.3242 - val_acc: 0.8468 - val_auc: 0.9047\n",
      "Epoch 12/25\n",
      "652/652 [==============================] - 2s 3ms/step - loss: 0.3007 - acc: 0.8589 - auc: 0.9169 - val_loss: 0.3257 - val_acc: 0.8495 - val_auc: 0.9039\n",
      "Epoch 13/25\n",
      "652/652 [==============================] - 2s 3ms/step - loss: 0.3005 - acc: 0.8601 - auc: 0.9175 - val_loss: 0.3245 - val_acc: 0.8501 - val_auc: 0.9049\n",
      "Epoch 14/25\n",
      "652/652 [==============================] - 2s 3ms/step - loss: 0.2986 - acc: 0.8595 - auc: 0.9181 - val_loss: 0.3259 - val_acc: 0.8526 - val_auc: 0.9049\n",
      "Epoch 15/25\n",
      "652/652 [==============================] - 2s 3ms/step - loss: 0.2967 - acc: 0.8628 - auc: 0.9193 - val_loss: 0.3247 - val_acc: 0.8520 - val_auc: 0.9054\n",
      "Epoch 16/25\n",
      "652/652 [==============================] - 2s 3ms/step - loss: 0.2930 - acc: 0.8650 - auc: 0.9221 - val_loss: 0.3245 - val_acc: 0.8541 - val_auc: 0.9052\n",
      "Epoch 17/25\n",
      "652/652 [==============================] - 2s 3ms/step - loss: 0.2981 - acc: 0.8600 - auc: 0.9201 - val_loss: 0.3266 - val_acc: 0.8512 - val_auc: 0.9038\n",
      "Epoch 18/25\n",
      "652/652 [==============================] - 2s 3ms/step - loss: 0.2952 - acc: 0.8598 - auc: 0.9208 - val_loss: 0.3270 - val_acc: 0.8526 - val_auc: 0.9041\n",
      "Epoch 19/25\n",
      "652/652 [==============================] - 2s 3ms/step - loss: 0.2918 - acc: 0.8630 - auc: 0.9235 - val_loss: 0.3283 - val_acc: 0.8528 - val_auc: 0.9039\n",
      "Epoch 20/25\n",
      "652/652 [==============================] - 2s 3ms/step - loss: 0.2906 - acc: 0.8640 - auc: 0.9237 - val_loss: 0.3332 - val_acc: 0.8478 - val_auc: 0.9039\n",
      "Epoch 21/25\n",
      "652/652 [==============================] - 2s 3ms/step - loss: 0.2910 - acc: 0.8645 - auc: 0.9238 - val_loss: 0.3341 - val_acc: 0.8528 - val_auc: 0.9028\n",
      "Epoch 22/25\n",
      "652/652 [==============================] - 2s 3ms/step - loss: 0.2886 - acc: 0.8680 - auc: 0.9261 - val_loss: 0.3279 - val_acc: 0.8520 - val_auc: 0.9029\n",
      "Epoch 23/25\n",
      "652/652 [==============================] - 2s 3ms/step - loss: 0.2852 - acc: 0.8664 - auc: 0.9263 - val_loss: 0.3281 - val_acc: 0.8511 - val_auc: 0.9033\n",
      "Epoch 24/25\n",
      "652/652 [==============================] - 2s 3ms/step - loss: 0.2841 - acc: 0.8693 - auc: 0.9281 - val_loss: 0.3314 - val_acc: 0.8536 - val_auc: 0.9010\n",
      "Epoch 25/25\n",
      "652/652 [==============================] - 2s 3ms/step - loss: 0.2824 - acc: 0.8706 - auc: 0.9291 - val_loss: 0.3318 - val_acc: 0.8480 - val_auc: 0.9019\n"
     ]
    }
   ],
   "source": [
    "inputs = tf.keras.Input(shape = (88, ))\n",
    "x = tf.keras.layers.Dense(512, activation = 'relu')(inputs)\n",
    "x = tf.keras.layers.Dense(256, activation = 'relu')(x)\n",
    "outputs = tf.keras.layers.Dense(1, activation = 'sigmoid')(x)\n",
    "\n",
    "model = tf.keras.Model(inputs, outputs)\n",
    "\n",
    "optimizer = tf.keras.optimizers.Adam(learning_rate = 0.0001)\n",
    "\n",
    "metrics = [\n",
    "    tf.keras.metrics.BinaryAccuracy(name = 'acc'),\n",
    "    tf.keras.metrics.AUC(name = 'auc')\n",
    "]\n",
    "\n",
    "model.compile(\n",
    "    optimizer = optimizer,\n",
    "    loss = 'binary_crossentropy',\n",
    "    metrics = metrics\n",
    ")\n",
    "\n",
    "batch_size = 32\n",
    "epochs = 25\n",
    "\n",
    "history = model.fit(\n",
    "    X_train,\n",
    "    y_train,\n",
    "    validation_split = 0.2,\n",
    "    batch_size = batch_size,\n",
    "    epochs = epochs\n",
    ")"
   ]
  },
  {
   "cell_type": "markdown",
   "id": "human-mission",
   "metadata": {
    "papermill": {
     "duration": 0.29126,
     "end_time": "2021-06-26T11:00:23.950928",
     "exception": false,
     "start_time": "2021-06-26T11:00:23.659668",
     "status": "completed"
    },
    "tags": []
   },
   "source": [
    "# Scores 📈"
   ]
  },
  {
   "cell_type": "code",
   "execution_count": 34,
   "id": "toxic-privacy",
   "metadata": {
    "execution": {
     "iopub.execute_input": "2021-06-26T11:00:24.554653Z",
     "iopub.status.busy": "2021-06-26T11:00:24.553972Z",
     "iopub.status.idle": "2021-06-26T11:00:24.757806Z",
     "shell.execute_reply": "2021-06-26T11:00:24.758336Z",
     "shell.execute_reply.started": "2021-06-26T10:50:58.791915Z"
    },
    "papermill": {
     "duration": 0.516577,
     "end_time": "2021-06-26T11:00:24.758506",
     "exception": false,
     "start_time": "2021-06-26T11:00:24.241929",
     "status": "completed"
    },
    "tags": []
   },
   "outputs": [
    {
     "data": {
      "image/png": "[encoded data removed]",
      "text/plain": [
       "<Figure size 1008x720 with 1 Axes>"
      ]
     },
     "metadata": {
      "needs_background": "light"
     },
     "output_type": "display_data"
    }
   ],
   "source": [
    "plt.figure(figsize = (14, 10))\n",
    "epochs_range = range(1, epochs + 1)\n",
    "train_loss = history.history['loss']\n",
    "val_loss = history.history['val_loss']\n",
    "\n",
    "plt.plot(epochs_range, train_loss, label = 'Training loss')\n",
    "plt.plot(epochs_range, val_loss, label = 'Validation loss')\n",
    "\n",
    "plt.xlabel('Epochs')\n",
    "plt.ylabel('Loss')\n",
    "plt.legend()\n",
    "\n",
    "plt.show()"
   ]
  },
  {
   "cell_type": "code",
   "execution_count": 35,
   "id": "stuffed-newcastle",
   "metadata": {
    "execution": {
     "iopub.execute_input": "2021-06-26T11:00:25.351929Z",
     "iopub.status.busy": "2021-06-26T11:00:25.351272Z",
     "iopub.status.idle": "2021-06-26T11:00:25.728949Z",
     "shell.execute_reply": "2021-06-26T11:00:25.729477Z",
     "shell.execute_reply.started": "2021-06-26T10:51:40.107557Z"
    },
    "papermill": {
     "duration": 0.679525,
     "end_time": "2021-06-26T11:00:25.729653",
     "exception": false,
     "start_time": "2021-06-26T11:00:25.050128",
     "status": "completed"
    },
    "tags": []
   },
   "outputs": [
    {
     "name": "stdout",
     "output_type": "stream",
     "text": [
      "204/204 [==============================] - 0s 2ms/step - loss: 0.3174 - acc: 0.8554 - auc: 0.9101\n"
     ]
    },
    {
     "data": {
      "text/plain": [
       "[0.31743094325065613, 0.8553661704063416, 0.9101150035858154]"
      ]
     },
     "execution_count": 35,
     "metadata": {},
     "output_type": "execute_result"
    }
   ],
   "source": [
    "model.evaluate(X_test, y_test)"
   ]
  },
  {
   "cell_type": "code",
   "execution_count": 36,
   "id": "occupied-aircraft",
   "metadata": {
    "execution": {
     "iopub.execute_input": "2021-06-26T11:00:26.328490Z",
     "iopub.status.busy": "2021-06-26T11:00:26.327857Z",
     "iopub.status.idle": "2021-06-26T11:00:26.332243Z",
     "shell.execute_reply": "2021-06-26T11:00:26.331631Z",
     "shell.execute_reply.started": "2021-06-26T10:52:19.980391Z"
    },
    "papermill": {
     "duration": 0.30492,
     "end_time": "2021-06-26T11:00:26.332445",
     "exception": false,
     "start_time": "2021-06-26T11:00:26.027525",
     "status": "completed"
    },
    "tags": []
   },
   "outputs": [
    {
     "data": {
      "text/plain": [
       "0.2408095574460244"
      ]
     },
     "execution_count": 36,
     "metadata": {},
     "output_type": "execute_result"
    }
   ],
   "source": [
    "y.sum() / len(y)"
   ]
  }
 ],
 "metadata": {
  "kernelspec": {
   "display_name": "Python 3",
   "language": "python",
   "name": "python3"
  },
  "language_info": {
   "codemirror_mode": {
    "name": "ipython",
    "version": 3
   },
   "file_extension": ".py",
   "mimetype": "text/x-python",
   "name": "python",
   "nbconvert_exporter": "python",
   "pygments_lexer": "ipython3",
   "version": "3.7.9"
  },
  "papermill": {
   "default_parameters": {},
   "duration": 70.116006,
   "end_time": "2021-06-26T11:00:27.740333",
   "environment_variables": {},
   "exception": null,
   "input_path": "__notebook__.ipynb",
   "output_path": "__notebook__.ipynb",
   "parameters": {},
   "start_time": "2021-06-26T10:59:17.624327",
   "version": "2.3.2"
  }
 },
 "nbformat": 4,
 "nbformat_minor": 5
}
