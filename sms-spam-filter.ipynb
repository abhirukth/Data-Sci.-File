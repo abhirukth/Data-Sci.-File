{
 "cells": [
  {
   "cell_type": "markdown",
   "id": "czech-leeds",
   "metadata": {
    "papermill": {
     "duration": 0.025876,
     "end_time": "2021-06-25T11:02:58.194145",
     "exception": false,
     "start_time": "2021-06-25T11:02:58.168269",
     "status": "completed"
    },
    "tags": []
   },
   "source": [
    "# Importing Libraries 📖"
   ]
  },
  {
   "cell_type": "code",
   "execution_count": 1,
   "id": "living-deadline",
   "metadata": {
    "_cell_guid": "b1076dfc-b9ad-4769-8c92-a6c4dae69d19",
    "_uuid": "8f2839f25d086af736a60e9eeb907d3b93b6e0e5",
    "execution": {
     "iopub.execute_input": "2021-06-25T11:02:58.247606Z",
     "iopub.status.busy": "2021-06-25T11:02:58.246567Z",
     "iopub.status.idle": "2021-06-25T11:02:59.808636Z",
     "shell.execute_reply": "2021-06-25T11:02:59.809327Z",
     "shell.execute_reply.started": "2021-06-25T10:29:25.534774Z"
    },
    "papermill": {
     "duration": 1.590754,
     "end_time": "2021-06-25T11:02:59.809733",
     "exception": false,
     "start_time": "2021-06-25T11:02:58.218979",
     "status": "completed"
    },
    "tags": []
   },
   "outputs": [
    {
     "name": "stdout",
     "output_type": "stream",
     "text": [
      "/kaggle/input/sms-spam-collection-dataset/spam.csv\n"
     ]
    }
   ],
   "source": [
    "# This Python 3 environment comes with many helpful analytics libraries installed\n",
    "# It is defined by the kaggle/python Docker image: https://github.com/kaggle/docker-python\n",
    "# For example, here's several helpful packages to load\n",
    "\n",
    "import numpy as np # linear algebra\n",
    "import pandas as pd # data processing, CSV file I/O (e.g. pd.read_csv)\n",
    "\n",
    "# NLP\n",
    "import re\n",
    "from nltk.stem import PorterStemmer\n",
    "from nltk.tokenize import word_tokenize\n",
    "\n",
    "# Preprocessing\n",
    "from sklearn.preprocessing import LabelEncoder\n",
    "from sklearn.model_selection import train_test_split\n",
    "\n",
    "# Modeling \n",
    "from sklearn.svm import SVC\n",
    "from sklearn.metrics import f1_score\n",
    "\n",
    "# Input data files are available in the read-only \"../input/\" directory\n",
    "# For example, running this (by clicking run or pressing Shift+Enter) will list all files under the input directory\n",
    "\n",
    "import os\n",
    "for dirname, _, filenames in os.walk('/kaggle/input'):\n",
    "    for filename in filenames:\n",
    "        print(os.path.join(dirname, filename))\n",
    "\n",
    "# You can write up to 20GB to the current directory (/kaggle/working/) that gets preserved as output when you create a version using \"Save & Run All\" \n",
    "# You can also write temporary files to /kaggle/temp/, but they won't be saved outside of the current session"
   ]
  },
  {
   "cell_type": "markdown",
   "id": "better-opportunity",
   "metadata": {
    "papermill": {
     "duration": 0.025977,
     "end_time": "2021-06-25T11:02:59.870289",
     "exception": false,
     "start_time": "2021-06-25T11:02:59.844312",
     "status": "completed"
    },
    "tags": []
   },
   "source": [
    "# Loading Data set 💾"
   ]
  },
  {
   "cell_type": "code",
   "execution_count": 2,
   "id": "violent-winner",
   "metadata": {
    "execution": {
     "iopub.execute_input": "2021-06-25T11:02:59.928487Z",
     "iopub.status.busy": "2021-06-25T11:02:59.927503Z",
     "iopub.status.idle": "2021-06-25T11:02:59.970269Z",
     "shell.execute_reply": "2021-06-25T11:02:59.970825Z",
     "shell.execute_reply.started": "2021-06-25T10:29:25.553562Z"
    },
    "papermill": {
     "duration": 0.072313,
     "end_time": "2021-06-25T11:02:59.971014",
     "exception": false,
     "start_time": "2021-06-25T11:02:59.898701",
     "status": "completed"
    },
    "tags": []
   },
   "outputs": [],
   "source": [
    "data = pd.read_csv('../input/sms-spam-collection-dataset/spam.csv', encoding = 'latin')"
   ]
  },
  {
   "cell_type": "code",
   "execution_count": 3,
   "id": "piano-deposit",
   "metadata": {
    "execution": {
     "iopub.execute_input": "2021-06-25T11:03:00.027253Z",
     "iopub.status.busy": "2021-06-25T11:03:00.026310Z",
     "iopub.status.idle": "2021-06-25T11:03:00.057328Z",
     "shell.execute_reply": "2021-06-25T11:03:00.057936Z",
     "shell.execute_reply.started": "2021-06-25T10:29:25.580645Z"
    },
    "papermill": {
     "duration": 0.060713,
     "end_time": "2021-06-25T11:03:00.058113",
     "exception": false,
     "start_time": "2021-06-25T11:02:59.997400",
     "status": "completed"
    },
    "tags": []
   },
   "outputs": [
    {
     "data": {
      "text/html": [
       "<div>\n",
       "<style scoped>\n",
       "    .dataframe tbody tr th:only-of-type {\n",
       "        vertical-align: middle;\n",
       "    }\n",
       "\n",
       "    .dataframe tbody tr th {\n",
       "        vertical-align: top;\n",
       "    }\n",
       "\n",
       "    .dataframe thead th {\n",
       "        text-align: right;\n",
       "    }\n",
       "</style>\n",
       "<table border=\"1\" class=\"dataframe\">\n",
       "  <thead>\n",
       "    <tr style=\"text-align: right;\">\n",
       "      <th></th>\n",
       "      <th>v1</th>\n",
       "      <th>v2</th>\n",
       "      <th>Unnamed: 2</th>\n",
       "      <th>Unnamed: 3</th>\n",
       "      <th>Unnamed: 4</th>\n",
       "    </tr>\n",
       "  </thead>\n",
       "  <tbody>\n",
       "    <tr>\n",
       "      <th>0</th>\n",
       "      <td>ham</td>\n",
       "      <td>Go until jurong point, crazy.. Available only ...</td>\n",
       "      <td>NaN</td>\n",
       "      <td>NaN</td>\n",
       "      <td>NaN</td>\n",
       "    </tr>\n",
       "    <tr>\n",
       "      <th>1</th>\n",
       "      <td>ham</td>\n",
       "      <td>Ok lar... Joking wif u oni...</td>\n",
       "      <td>NaN</td>\n",
       "      <td>NaN</td>\n",
       "      <td>NaN</td>\n",
       "    </tr>\n",
       "    <tr>\n",
       "      <th>2</th>\n",
       "      <td>spam</td>\n",
       "      <td>Free entry in 2 a wkly comp to win FA Cup fina...</td>\n",
       "      <td>NaN</td>\n",
       "      <td>NaN</td>\n",
       "      <td>NaN</td>\n",
       "    </tr>\n",
       "    <tr>\n",
       "      <th>3</th>\n",
       "      <td>ham</td>\n",
       "      <td>U dun say so early hor... U c already then say...</td>\n",
       "      <td>NaN</td>\n",
       "      <td>NaN</td>\n",
       "      <td>NaN</td>\n",
       "    </tr>\n",
       "    <tr>\n",
       "      <th>4</th>\n",
       "      <td>ham</td>\n",
       "      <td>Nah I don't think he goes to usf, he lives aro...</td>\n",
       "      <td>NaN</td>\n",
       "      <td>NaN</td>\n",
       "      <td>NaN</td>\n",
       "    </tr>\n",
       "    <tr>\n",
       "      <th>...</th>\n",
       "      <td>...</td>\n",
       "      <td>...</td>\n",
       "      <td>...</td>\n",
       "      <td>...</td>\n",
       "      <td>...</td>\n",
       "    </tr>\n",
       "    <tr>\n",
       "      <th>5567</th>\n",
       "      <td>spam</td>\n",
       "      <td>This is the 2nd time we have tried 2 contact u...</td>\n",
       "      <td>NaN</td>\n",
       "      <td>NaN</td>\n",
       "      <td>NaN</td>\n",
       "    </tr>\n",
       "    <tr>\n",
       "      <th>5568</th>\n",
       "      <td>ham</td>\n",
       "      <td>Will Ì_ b going to esplanade fr home?</td>\n",
       "      <td>NaN</td>\n",
       "      <td>NaN</td>\n",
       "      <td>NaN</td>\n",
       "    </tr>\n",
       "    <tr>\n",
       "      <th>5569</th>\n",
       "      <td>ham</td>\n",
       "      <td>Pity, * was in mood for that. So...any other s...</td>\n",
       "      <td>NaN</td>\n",
       "      <td>NaN</td>\n",
       "      <td>NaN</td>\n",
       "    </tr>\n",
       "    <tr>\n",
       "      <th>5570</th>\n",
       "      <td>ham</td>\n",
       "      <td>The guy did some bitching but I acted like i'd...</td>\n",
       "      <td>NaN</td>\n",
       "      <td>NaN</td>\n",
       "      <td>NaN</td>\n",
       "    </tr>\n",
       "    <tr>\n",
       "      <th>5571</th>\n",
       "      <td>ham</td>\n",
       "      <td>Rofl. Its true to its name</td>\n",
       "      <td>NaN</td>\n",
       "      <td>NaN</td>\n",
       "      <td>NaN</td>\n",
       "    </tr>\n",
       "  </tbody>\n",
       "</table>\n",
       "<p>5572 rows × 5 columns</p>\n",
       "</div>"
      ],
      "text/plain": [
       "        v1                                                 v2 Unnamed: 2  \\\n",
       "0      ham  Go until jurong point, crazy.. Available only ...        NaN   \n",
       "1      ham                      Ok lar... Joking wif u oni...        NaN   \n",
       "2     spam  Free entry in 2 a wkly comp to win FA Cup fina...        NaN   \n",
       "3      ham  U dun say so early hor... U c already then say...        NaN   \n",
       "4      ham  Nah I don't think he goes to usf, he lives aro...        NaN   \n",
       "...    ...                                                ...        ...   \n",
       "5567  spam  This is the 2nd time we have tried 2 contact u...        NaN   \n",
       "5568   ham              Will Ì_ b going to esplanade fr home?        NaN   \n",
       "5569   ham  Pity, * was in mood for that. So...any other s...        NaN   \n",
       "5570   ham  The guy did some bitching but I acted like i'd...        NaN   \n",
       "5571   ham                         Rofl. Its true to its name        NaN   \n",
       "\n",
       "     Unnamed: 3 Unnamed: 4  \n",
       "0           NaN        NaN  \n",
       "1           NaN        NaN  \n",
       "2           NaN        NaN  \n",
       "3           NaN        NaN  \n",
       "4           NaN        NaN  \n",
       "...         ...        ...  \n",
       "5567        NaN        NaN  \n",
       "5568        NaN        NaN  \n",
       "5569        NaN        NaN  \n",
       "5570        NaN        NaN  \n",
       "5571        NaN        NaN  \n",
       "\n",
       "[5572 rows x 5 columns]"
      ]
     },
     "execution_count": 3,
     "metadata": {},
     "output_type": "execute_result"
    }
   ],
   "source": [
    "data"
   ]
  },
  {
   "cell_type": "markdown",
   "id": "effective-purpose",
   "metadata": {
    "papermill": {
     "duration": 0.025982,
     "end_time": "2021-06-25T11:03:00.110664",
     "exception": false,
     "start_time": "2021-06-25T11:03:00.084682",
     "status": "completed"
    },
    "tags": []
   },
   "source": [
    "# Pre Processing ⭕"
   ]
  },
  {
   "cell_type": "code",
   "execution_count": 4,
   "id": "detailed-independence",
   "metadata": {
    "execution": {
     "iopub.execute_input": "2021-06-25T11:03:00.167046Z",
     "iopub.status.busy": "2021-06-25T11:03:00.166116Z",
     "iopub.status.idle": "2021-06-25T11:03:00.172048Z",
     "shell.execute_reply": "2021-06-25T11:03:00.172547Z",
     "shell.execute_reply.started": "2021-06-25T10:29:25.599786Z"
    },
    "papermill": {
     "duration": 0.035802,
     "end_time": "2021-06-25T11:03:00.172716",
     "exception": false,
     "start_time": "2021-06-25T11:03:00.136914",
     "status": "completed"
    },
    "tags": []
   },
   "outputs": [],
   "source": [
    "data.drop([data.columns[col] for col in [2, 3, 4]], axis = 1, inplace = True)"
   ]
  },
  {
   "cell_type": "code",
   "execution_count": 5,
   "id": "occupied-underwear",
   "metadata": {
    "execution": {
     "iopub.execute_input": "2021-06-25T11:03:00.229145Z",
     "iopub.status.busy": "2021-06-25T11:03:00.228214Z",
     "iopub.status.idle": "2021-06-25T11:03:00.241075Z",
     "shell.execute_reply": "2021-06-25T11:03:00.240436Z",
     "shell.execute_reply.started": "2021-06-25T10:29:25.612718Z"
    },
    "papermill": {
     "duration": 0.042054,
     "end_time": "2021-06-25T11:03:00.241209",
     "exception": false,
     "start_time": "2021-06-25T11:03:00.199155",
     "status": "completed"
    },
    "tags": []
   },
   "outputs": [
    {
     "data": {
      "text/html": [
       "<div>\n",
       "<style scoped>\n",
       "    .dataframe tbody tr th:only-of-type {\n",
       "        vertical-align: middle;\n",
       "    }\n",
       "\n",
       "    .dataframe tbody tr th {\n",
       "        vertical-align: top;\n",
       "    }\n",
       "\n",
       "    .dataframe thead th {\n",
       "        text-align: right;\n",
       "    }\n",
       "</style>\n",
       "<table border=\"1\" class=\"dataframe\">\n",
       "  <thead>\n",
       "    <tr style=\"text-align: right;\">\n",
       "      <th></th>\n",
       "      <th>v1</th>\n",
       "      <th>v2</th>\n",
       "    </tr>\n",
       "  </thead>\n",
       "  <tbody>\n",
       "    <tr>\n",
       "      <th>0</th>\n",
       "      <td>ham</td>\n",
       "      <td>Go until jurong point, crazy.. Available only ...</td>\n",
       "    </tr>\n",
       "    <tr>\n",
       "      <th>1</th>\n",
       "      <td>ham</td>\n",
       "      <td>Ok lar... Joking wif u oni...</td>\n",
       "    </tr>\n",
       "    <tr>\n",
       "      <th>2</th>\n",
       "      <td>spam</td>\n",
       "      <td>Free entry in 2 a wkly comp to win FA Cup fina...</td>\n",
       "    </tr>\n",
       "    <tr>\n",
       "      <th>3</th>\n",
       "      <td>ham</td>\n",
       "      <td>U dun say so early hor... U c already then say...</td>\n",
       "    </tr>\n",
       "    <tr>\n",
       "      <th>4</th>\n",
       "      <td>ham</td>\n",
       "      <td>Nah I don't think he goes to usf, he lives aro...</td>\n",
       "    </tr>\n",
       "    <tr>\n",
       "      <th>...</th>\n",
       "      <td>...</td>\n",
       "      <td>...</td>\n",
       "    </tr>\n",
       "    <tr>\n",
       "      <th>5567</th>\n",
       "      <td>spam</td>\n",
       "      <td>This is the 2nd time we have tried 2 contact u...</td>\n",
       "    </tr>\n",
       "    <tr>\n",
       "      <th>5568</th>\n",
       "      <td>ham</td>\n",
       "      <td>Will Ì_ b going to esplanade fr home?</td>\n",
       "    </tr>\n",
       "    <tr>\n",
       "      <th>5569</th>\n",
       "      <td>ham</td>\n",
       "      <td>Pity, * was in mood for that. So...any other s...</td>\n",
       "    </tr>\n",
       "    <tr>\n",
       "      <th>5570</th>\n",
       "      <td>ham</td>\n",
       "      <td>The guy did some bitching but I acted like i'd...</td>\n",
       "    </tr>\n",
       "    <tr>\n",
       "      <th>5571</th>\n",
       "      <td>ham</td>\n",
       "      <td>Rofl. Its true to its name</td>\n",
       "    </tr>\n",
       "  </tbody>\n",
       "</table>\n",
       "<p>5572 rows × 2 columns</p>\n",
       "</div>"
      ],
      "text/plain": [
       "        v1                                                 v2\n",
       "0      ham  Go until jurong point, crazy.. Available only ...\n",
       "1      ham                      Ok lar... Joking wif u oni...\n",
       "2     spam  Free entry in 2 a wkly comp to win FA Cup fina...\n",
       "3      ham  U dun say so early hor... U c already then say...\n",
       "4      ham  Nah I don't think he goes to usf, he lives aro...\n",
       "...    ...                                                ...\n",
       "5567  spam  This is the 2nd time we have tried 2 contact u...\n",
       "5568   ham              Will Ì_ b going to esplanade fr home?\n",
       "5569   ham  Pity, * was in mood for that. So...any other s...\n",
       "5570   ham  The guy did some bitching but I acted like i'd...\n",
       "5571   ham                         Rofl. Its true to its name\n",
       "\n",
       "[5572 rows x 2 columns]"
      ]
     },
     "execution_count": 5,
     "metadata": {},
     "output_type": "execute_result"
    }
   ],
   "source": [
    "data"
   ]
  },
  {
   "cell_type": "code",
   "execution_count": 6,
   "id": "handled-election",
   "metadata": {
    "execution": {
     "iopub.execute_input": "2021-06-25T11:03:00.303030Z",
     "iopub.status.busy": "2021-06-25T11:03:00.302092Z",
     "iopub.status.idle": "2021-06-25T11:03:00.305410Z",
     "shell.execute_reply": "2021-06-25T11:03:00.304905Z",
     "shell.execute_reply.started": "2021-06-25T10:29:25.637501Z"
    },
    "papermill": {
     "duration": 0.037824,
     "end_time": "2021-06-25T11:03:00.305574",
     "exception": false,
     "start_time": "2021-06-25T11:03:00.267750",
     "status": "completed"
    },
    "tags": []
   },
   "outputs": [],
   "source": [
    "encoder = LabelEncoder()\n",
    "data['v1'] = encoder.fit_transform(data['v1'])\n",
    "class_mapping = {index : label for index, label in enumerate(encoder.classes_)}"
   ]
  },
  {
   "cell_type": "code",
   "execution_count": 7,
   "id": "allied-prize",
   "metadata": {
    "execution": {
     "iopub.execute_input": "2021-06-25T11:03:00.363835Z",
     "iopub.status.busy": "2021-06-25T11:03:00.363208Z",
     "iopub.status.idle": "2021-06-25T11:03:00.366419Z",
     "shell.execute_reply": "2021-06-25T11:03:00.366982Z",
     "shell.execute_reply.started": "2021-06-25T10:29:25.648983Z"
    },
    "papermill": {
     "duration": 0.034945,
     "end_time": "2021-06-25T11:03:00.367156",
     "exception": false,
     "start_time": "2021-06-25T11:03:00.332211",
     "status": "completed"
    },
    "tags": []
   },
   "outputs": [
    {
     "data": {
      "text/plain": [
       "{0: 'ham', 1: 'spam'}"
      ]
     },
     "execution_count": 7,
     "metadata": {},
     "output_type": "execute_result"
    }
   ],
   "source": [
    "class_mapping"
   ]
  },
  {
   "cell_type": "code",
   "execution_count": 8,
   "id": "confident-exemption",
   "metadata": {
    "execution": {
     "iopub.execute_input": "2021-06-25T11:03:00.423932Z",
     "iopub.status.busy": "2021-06-25T11:03:00.423309Z",
     "iopub.status.idle": "2021-06-25T11:03:00.434030Z",
     "shell.execute_reply": "2021-06-25T11:03:00.434577Z",
     "shell.execute_reply.started": "2021-06-25T10:29:25.662351Z"
    },
    "papermill": {
     "duration": 0.040664,
     "end_time": "2021-06-25T11:03:00.434771",
     "exception": false,
     "start_time": "2021-06-25T11:03:00.394107",
     "status": "completed"
    },
    "tags": []
   },
   "outputs": [
    {
     "data": {
      "text/html": [
       "<div>\n",
       "<style scoped>\n",
       "    .dataframe tbody tr th:only-of-type {\n",
       "        vertical-align: middle;\n",
       "    }\n",
       "\n",
       "    .dataframe tbody tr th {\n",
       "        vertical-align: top;\n",
       "    }\n",
       "\n",
       "    .dataframe thead th {\n",
       "        text-align: right;\n",
       "    }\n",
       "</style>\n",
       "<table border=\"1\" class=\"dataframe\">\n",
       "  <thead>\n",
       "    <tr style=\"text-align: right;\">\n",
       "      <th></th>\n",
       "      <th>v1</th>\n",
       "      <th>v2</th>\n",
       "    </tr>\n",
       "  </thead>\n",
       "  <tbody>\n",
       "    <tr>\n",
       "      <th>0</th>\n",
       "      <td>0</td>\n",
       "      <td>Go until jurong point, crazy.. Available only ...</td>\n",
       "    </tr>\n",
       "    <tr>\n",
       "      <th>1</th>\n",
       "      <td>0</td>\n",
       "      <td>Ok lar... Joking wif u oni...</td>\n",
       "    </tr>\n",
       "    <tr>\n",
       "      <th>2</th>\n",
       "      <td>1</td>\n",
       "      <td>Free entry in 2 a wkly comp to win FA Cup fina...</td>\n",
       "    </tr>\n",
       "    <tr>\n",
       "      <th>3</th>\n",
       "      <td>0</td>\n",
       "      <td>U dun say so early hor... U c already then say...</td>\n",
       "    </tr>\n",
       "    <tr>\n",
       "      <th>4</th>\n",
       "      <td>0</td>\n",
       "      <td>Nah I don't think he goes to usf, he lives aro...</td>\n",
       "    </tr>\n",
       "    <tr>\n",
       "      <th>...</th>\n",
       "      <td>...</td>\n",
       "      <td>...</td>\n",
       "    </tr>\n",
       "    <tr>\n",
       "      <th>5567</th>\n",
       "      <td>1</td>\n",
       "      <td>This is the 2nd time we have tried 2 contact u...</td>\n",
       "    </tr>\n",
       "    <tr>\n",
       "      <th>5568</th>\n",
       "      <td>0</td>\n",
       "      <td>Will Ì_ b going to esplanade fr home?</td>\n",
       "    </tr>\n",
       "    <tr>\n",
       "      <th>5569</th>\n",
       "      <td>0</td>\n",
       "      <td>Pity, * was in mood for that. So...any other s...</td>\n",
       "    </tr>\n",
       "    <tr>\n",
       "      <th>5570</th>\n",
       "      <td>0</td>\n",
       "      <td>The guy did some bitching but I acted like i'd...</td>\n",
       "    </tr>\n",
       "    <tr>\n",
       "      <th>5571</th>\n",
       "      <td>0</td>\n",
       "      <td>Rofl. Its true to its name</td>\n",
       "    </tr>\n",
       "  </tbody>\n",
       "</table>\n",
       "<p>5572 rows × 2 columns</p>\n",
       "</div>"
      ],
      "text/plain": [
       "      v1                                                 v2\n",
       "0      0  Go until jurong point, crazy.. Available only ...\n",
       "1      0                      Ok lar... Joking wif u oni...\n",
       "2      1  Free entry in 2 a wkly comp to win FA Cup fina...\n",
       "3      0  U dun say so early hor... U c already then say...\n",
       "4      0  Nah I don't think he goes to usf, he lives aro...\n",
       "...   ..                                                ...\n",
       "5567   1  This is the 2nd time we have tried 2 contact u...\n",
       "5568   0              Will Ì_ b going to esplanade fr home?\n",
       "5569   0  Pity, * was in mood for that. So...any other s...\n",
       "5570   0  The guy did some bitching but I acted like i'd...\n",
       "5571   0                         Rofl. Its true to its name\n",
       "\n",
       "[5572 rows x 2 columns]"
      ]
     },
     "execution_count": 8,
     "metadata": {},
     "output_type": "execute_result"
    }
   ],
   "source": [
    "data"
   ]
  },
  {
   "cell_type": "markdown",
   "id": "armed-sister",
   "metadata": {
    "papermill": {
     "duration": 0.026851,
     "end_time": "2021-06-25T11:03:00.490049",
     "exception": false,
     "start_time": "2021-06-25T11:03:00.463198",
     "status": "completed"
    },
    "tags": []
   },
   "source": [
    "### Stemming of words"
   ]
  },
  {
   "cell_type": "code",
   "execution_count": 9,
   "id": "western-german",
   "metadata": {
    "execution": {
     "iopub.execute_input": "2021-06-25T11:03:00.547929Z",
     "iopub.status.busy": "2021-06-25T11:03:00.547300Z",
     "iopub.status.idle": "2021-06-25T11:03:00.554596Z",
     "shell.execute_reply": "2021-06-25T11:03:00.555126Z",
     "shell.execute_reply.started": "2021-06-25T10:29:25.686793Z"
    },
    "papermill": {
     "duration": 0.037943,
     "end_time": "2021-06-25T11:03:00.555300",
     "exception": false,
     "start_time": "2021-06-25T11:03:00.517357",
     "status": "completed"
    },
    "tags": []
   },
   "outputs": [],
   "source": [
    "def process_mail(mail):\n",
    "    ps = PorterStemmer()\n",
    "    \n",
    "    mail = mail.lower()\n",
    "    mail = re.sub(r'<[^<>]+>', ' ', mail)\n",
    "    mail = re.sub(r'[0-9]+', 'number', mail)\n",
    "    mail = re.sub(r'(http|https)://[^\\s]*', 'httpaddr', mail)\n",
    "    mail = re.sub(r'[^\\s]+@[^\\s]+', 'emailaddr', mail)\n",
    "    mail = re.sub(r'[$]+', 'dollar', mail)\n",
    "    \n",
    "    words = word_tokenize(mail)\n",
    "\n",
    "    for i in range(len(words)):\n",
    "        words[i] = re.sub(r'[^a-zA-Z0-9]', '', words[i])\n",
    "        words[i] = ps.stem(words[i])\n",
    "        \n",
    "    words = [word for word in words if len(word) >= 1]\n",
    "    \n",
    "    return words"
   ]
  },
  {
   "cell_type": "markdown",
   "id": "pacific-section",
   "metadata": {
    "papermill": {
     "duration": 0.027061,
     "end_time": "2021-06-25T11:03:00.610039",
     "exception": false,
     "start_time": "2021-06-25T11:03:00.582978",
     "status": "completed"
    },
    "tags": []
   },
   "source": [
    "### Storing vocabularies"
   ]
  },
  {
   "cell_type": "code",
   "execution_count": 10,
   "id": "instant-blackjack",
   "metadata": {
    "execution": {
     "iopub.execute_input": "2021-06-25T11:03:00.672484Z",
     "iopub.status.busy": "2021-06-25T11:03:00.671882Z",
     "iopub.status.idle": "2021-06-25T11:03:00.674891Z",
     "shell.execute_reply": "2021-06-25T11:03:00.674312Z",
     "shell.execute_reply.started": "2021-06-25T10:29:25.699313Z"
    },
    "papermill": {
     "duration": 0.037675,
     "end_time": "2021-06-25T11:03:00.675028",
     "exception": false,
     "start_time": "2021-06-25T11:03:00.637353",
     "status": "completed"
    },
    "tags": []
   },
   "outputs": [],
   "source": [
    "def getVocabulary(emails, vocab_length):\n",
    "    vocabulary = dict()\n",
    "    \n",
    "    for i in range(len(emails)):\n",
    "        emails[i] = process_mail(emails[i])\n",
    "        for word in emails[i]:\n",
    "            if word in vocabulary.keys():\n",
    "                vocabulary[word] += 1\n",
    "            else:\n",
    "                vocabulary[word] = 1\n",
    "                \n",
    "    vocabulary = sorted(vocabulary.items(), key = lambda x : x[1], reverse = True)\n",
    "    vocabulary = list(map(lambda x : x[0], vocabulary[0: vocab_length]))\n",
    "    vocabulary = {index : word for index, word in enumerate(vocabulary)}\n",
    "    \n",
    "    return vocabulary"
   ]
  },
  {
   "cell_type": "code",
   "execution_count": 11,
   "id": "heavy-range",
   "metadata": {
    "execution": {
     "iopub.execute_input": "2021-06-25T11:03:00.733467Z",
     "iopub.status.busy": "2021-06-25T11:03:00.732871Z",
     "iopub.status.idle": "2021-06-25T11:03:00.736869Z",
     "shell.execute_reply": "2021-06-25T11:03:00.737344Z",
     "shell.execute_reply.started": "2021-06-25T10:37:39.884972Z"
    },
    "papermill": {
     "duration": 0.03499,
     "end_time": "2021-06-25T11:03:00.737520",
     "exception": false,
     "start_time": "2021-06-25T11:03:00.702530",
     "status": "completed"
    },
    "tags": []
   },
   "outputs": [],
   "source": [
    "def getKey(dictionary, val):\n",
    "    for key, value in dictionary.items():\n",
    "        if value == val:\n",
    "            return key"
   ]
  },
  {
   "cell_type": "code",
   "execution_count": 12,
   "id": "accomplished-stuart",
   "metadata": {
    "execution": {
     "iopub.execute_input": "2021-06-25T11:03:00.797020Z",
     "iopub.status.busy": "2021-06-25T11:03:00.796075Z",
     "iopub.status.idle": "2021-06-25T11:03:00.800810Z",
     "shell.execute_reply": "2021-06-25T11:03:00.801242Z",
     "shell.execute_reply.started": "2021-06-25T10:32:59.945727Z"
    },
    "papermill": {
     "duration": 0.035831,
     "end_time": "2021-06-25T11:03:00.801408",
     "exception": false,
     "start_time": "2021-06-25T11:03:00.765577",
     "status": "completed"
    },
    "tags": []
   },
   "outputs": [],
   "source": [
    "def getIndices(email, vocabulary):\n",
    "    word_indices = set()\n",
    "    \n",
    "    for word in email:\n",
    "        if word in vocabulary.values():\n",
    "            word_indices.add(getKey(vocabulary, word))\n",
    "            \n",
    "    return word_indices"
   ]
  },
  {
   "cell_type": "code",
   "execution_count": 13,
   "id": "experimental-fantasy",
   "metadata": {
    "execution": {
     "iopub.execute_input": "2021-06-25T11:03:00.860109Z",
     "iopub.status.busy": "2021-06-25T11:03:00.859171Z",
     "iopub.status.idle": "2021-06-25T11:03:00.863564Z",
     "shell.execute_reply": "2021-06-25T11:03:00.864053Z",
     "shell.execute_reply.started": "2021-06-25T10:40:12.059175Z"
    },
    "papermill": {
     "duration": 0.035229,
     "end_time": "2021-06-25T11:03:00.864221",
     "exception": false,
     "start_time": "2021-06-25T11:03:00.828992",
     "status": "completed"
    },
    "tags": []
   },
   "outputs": [],
   "source": [
    "def getFeatureVector(word_indices, vocab_length):\n",
    "    feature_vec = np.zeros(vocab_length)\n",
    "    \n",
    "    for i in word_indices:\n",
    "        feature_vec[i] = 1\n",
    "        \n",
    "    return feature_vec"
   ]
  },
  {
   "cell_type": "markdown",
   "id": "realistic-bridges",
   "metadata": {
    "papermill": {
     "duration": 0.026688,
     "end_time": "2021-06-25T11:03:00.918461",
     "exception": false,
     "start_time": "2021-06-25T11:03:00.891773",
     "status": "completed"
    },
    "tags": []
   },
   "source": [
    "### Setting length of vocabulary list "
   ]
  },
  {
   "cell_type": "code",
   "execution_count": 14,
   "id": "cordless-sense",
   "metadata": {
    "execution": {
     "iopub.execute_input": "2021-06-25T11:03:00.976752Z",
     "iopub.status.busy": "2021-06-25T11:03:00.975792Z",
     "iopub.status.idle": "2021-06-25T11:03:00.979499Z",
     "shell.execute_reply": "2021-06-25T11:03:00.979948Z",
     "shell.execute_reply.started": "2021-06-25T10:47:44.357596Z"
    },
    "papermill": {
     "duration": 0.034344,
     "end_time": "2021-06-25T11:03:00.980110",
     "exception": false,
     "start_time": "2021-06-25T11:03:00.945766",
     "status": "completed"
    },
    "tags": []
   },
   "outputs": [],
   "source": [
    "vocab_length = 2000"
   ]
  },
  {
   "cell_type": "code",
   "execution_count": 15,
   "id": "fleet-closure",
   "metadata": {
    "execution": {
     "iopub.execute_input": "2021-06-25T11:03:01.040169Z",
     "iopub.status.busy": "2021-06-25T11:03:01.039225Z",
     "iopub.status.idle": "2021-06-25T11:03:09.347819Z",
     "shell.execute_reply": "2021-06-25T11:03:09.347245Z",
     "shell.execute_reply.started": "2021-06-25T10:47:45.861426Z"
    },
    "papermill": {
     "duration": 8.34029,
     "end_time": "2021-06-25T11:03:09.347968",
     "exception": false,
     "start_time": "2021-06-25T11:03:01.007678",
     "status": "completed"
    },
    "tags": []
   },
   "outputs": [],
   "source": [
    "vocabulary = getVocabulary(data['v2'].to_list(), vocab_length)\n",
    "\n",
    "emails = data['v2'].to_list()\n",
    "emails = list(map(lambda x : process_mail(x), emails))"
   ]
  },
  {
   "cell_type": "code",
   "execution_count": 16,
   "id": "romantic-lingerie",
   "metadata": {
    "execution": {
     "iopub.execute_input": "2021-06-25T11:03:09.426226Z",
     "iopub.status.busy": "2021-06-25T11:03:09.423040Z",
     "iopub.status.idle": "2021-06-25T11:03:11.578263Z",
     "shell.execute_reply": "2021-06-25T11:03:11.577566Z",
     "shell.execute_reply.started": "2021-06-25T10:48:26.138899Z"
    },
    "papermill": {
     "duration": 2.203084,
     "end_time": "2021-06-25T11:03:11.578403",
     "exception": false,
     "start_time": "2021-06-25T11:03:09.375319",
     "status": "completed"
    },
    "tags": []
   },
   "outputs": [],
   "source": [
    "X = list(map(lambda x : getFeatureVector(getIndices(x, vocabulary), vocab_length), emails))\n",
    "X = pd.DataFrame(np.array(X).astype(np.int16))"
   ]
  },
  {
   "cell_type": "markdown",
   "id": "marine-excerpt",
   "metadata": {
    "papermill": {
     "duration": 0.02685,
     "end_time": "2021-06-25T11:03:11.633149",
     "exception": false,
     "start_time": "2021-06-25T11:03:11.606299",
     "status": "completed"
    },
    "tags": []
   },
   "source": [
    "# Model Training 🛠️"
   ]
  },
  {
   "cell_type": "code",
   "execution_count": 17,
   "id": "developed-tourism",
   "metadata": {
    "execution": {
     "iopub.execute_input": "2021-06-25T11:03:11.693271Z",
     "iopub.status.busy": "2021-06-25T11:03:11.692437Z",
     "iopub.status.idle": "2021-06-25T11:03:11.713806Z",
     "shell.execute_reply": "2021-06-25T11:03:11.713257Z",
     "shell.execute_reply.started": "2021-06-25T10:48:30.107604Z"
    },
    "papermill": {
     "duration": 0.053496,
     "end_time": "2021-06-25T11:03:11.713959",
     "exception": false,
     "start_time": "2021-06-25T11:03:11.660463",
     "status": "completed"
    },
    "tags": []
   },
   "outputs": [
    {
     "data": {
      "text/html": [
       "<div>\n",
       "<style scoped>\n",
       "    .dataframe tbody tr th:only-of-type {\n",
       "        vertical-align: middle;\n",
       "    }\n",
       "\n",
       "    .dataframe tbody tr th {\n",
       "        vertical-align: top;\n",
       "    }\n",
       "\n",
       "    .dataframe thead th {\n",
       "        text-align: right;\n",
       "    }\n",
       "</style>\n",
       "<table border=\"1\" class=\"dataframe\">\n",
       "  <thead>\n",
       "    <tr style=\"text-align: right;\">\n",
       "      <th></th>\n",
       "      <th>0</th>\n",
       "      <th>1</th>\n",
       "      <th>2</th>\n",
       "      <th>3</th>\n",
       "      <th>4</th>\n",
       "      <th>5</th>\n",
       "      <th>6</th>\n",
       "      <th>7</th>\n",
       "      <th>8</th>\n",
       "      <th>9</th>\n",
       "      <th>...</th>\n",
       "      <th>1990</th>\n",
       "      <th>1991</th>\n",
       "      <th>1992</th>\n",
       "      <th>1993</th>\n",
       "      <th>1994</th>\n",
       "      <th>1995</th>\n",
       "      <th>1996</th>\n",
       "      <th>1997</th>\n",
       "      <th>1998</th>\n",
       "      <th>1999</th>\n",
       "    </tr>\n",
       "  </thead>\n",
       "  <tbody>\n",
       "    <tr>\n",
       "      <th>0</th>\n",
       "      <td>0</td>\n",
       "      <td>0</td>\n",
       "      <td>0</td>\n",
       "      <td>0</td>\n",
       "      <td>0</td>\n",
       "      <td>0</td>\n",
       "      <td>0</td>\n",
       "      <td>0</td>\n",
       "      <td>0</td>\n",
       "      <td>0</td>\n",
       "      <td>...</td>\n",
       "      <td>0</td>\n",
       "      <td>0</td>\n",
       "      <td>0</td>\n",
       "      <td>0</td>\n",
       "      <td>0</td>\n",
       "      <td>0</td>\n",
       "      <td>0</td>\n",
       "      <td>0</td>\n",
       "      <td>0</td>\n",
       "      <td>0</td>\n",
       "    </tr>\n",
       "    <tr>\n",
       "      <th>1</th>\n",
       "      <td>0</td>\n",
       "      <td>0</td>\n",
       "      <td>0</td>\n",
       "      <td>0</td>\n",
       "      <td>0</td>\n",
       "      <td>0</td>\n",
       "      <td>1</td>\n",
       "      <td>0</td>\n",
       "      <td>0</td>\n",
       "      <td>0</td>\n",
       "      <td>...</td>\n",
       "      <td>0</td>\n",
       "      <td>0</td>\n",
       "      <td>0</td>\n",
       "      <td>0</td>\n",
       "      <td>0</td>\n",
       "      <td>0</td>\n",
       "      <td>0</td>\n",
       "      <td>0</td>\n",
       "      <td>0</td>\n",
       "      <td>0</td>\n",
       "    </tr>\n",
       "    <tr>\n",
       "      <th>2</th>\n",
       "      <td>0</td>\n",
       "      <td>1</td>\n",
       "      <td>1</td>\n",
       "      <td>0</td>\n",
       "      <td>1</td>\n",
       "      <td>0</td>\n",
       "      <td>0</td>\n",
       "      <td>0</td>\n",
       "      <td>0</td>\n",
       "      <td>0</td>\n",
       "      <td>...</td>\n",
       "      <td>0</td>\n",
       "      <td>0</td>\n",
       "      <td>0</td>\n",
       "      <td>0</td>\n",
       "      <td>0</td>\n",
       "      <td>0</td>\n",
       "      <td>0</td>\n",
       "      <td>0</td>\n",
       "      <td>0</td>\n",
       "      <td>0</td>\n",
       "    </tr>\n",
       "    <tr>\n",
       "      <th>3</th>\n",
       "      <td>0</td>\n",
       "      <td>0</td>\n",
       "      <td>0</td>\n",
       "      <td>0</td>\n",
       "      <td>0</td>\n",
       "      <td>0</td>\n",
       "      <td>1</td>\n",
       "      <td>0</td>\n",
       "      <td>0</td>\n",
       "      <td>0</td>\n",
       "      <td>...</td>\n",
       "      <td>0</td>\n",
       "      <td>0</td>\n",
       "      <td>0</td>\n",
       "      <td>0</td>\n",
       "      <td>0</td>\n",
       "      <td>0</td>\n",
       "      <td>0</td>\n",
       "      <td>0</td>\n",
       "      <td>0</td>\n",
       "      <td>0</td>\n",
       "    </tr>\n",
       "    <tr>\n",
       "      <th>4</th>\n",
       "      <td>1</td>\n",
       "      <td>0</td>\n",
       "      <td>1</td>\n",
       "      <td>0</td>\n",
       "      <td>0</td>\n",
       "      <td>0</td>\n",
       "      <td>0</td>\n",
       "      <td>0</td>\n",
       "      <td>0</td>\n",
       "      <td>0</td>\n",
       "      <td>...</td>\n",
       "      <td>0</td>\n",
       "      <td>0</td>\n",
       "      <td>0</td>\n",
       "      <td>0</td>\n",
       "      <td>0</td>\n",
       "      <td>0</td>\n",
       "      <td>0</td>\n",
       "      <td>0</td>\n",
       "      <td>0</td>\n",
       "      <td>0</td>\n",
       "    </tr>\n",
       "    <tr>\n",
       "      <th>...</th>\n",
       "      <td>...</td>\n",
       "      <td>...</td>\n",
       "      <td>...</td>\n",
       "      <td>...</td>\n",
       "      <td>...</td>\n",
       "      <td>...</td>\n",
       "      <td>...</td>\n",
       "      <td>...</td>\n",
       "      <td>...</td>\n",
       "      <td>...</td>\n",
       "      <td>...</td>\n",
       "      <td>...</td>\n",
       "      <td>...</td>\n",
       "      <td>...</td>\n",
       "      <td>...</td>\n",
       "      <td>...</td>\n",
       "      <td>...</td>\n",
       "      <td>...</td>\n",
       "      <td>...</td>\n",
       "      <td>...</td>\n",
       "      <td>...</td>\n",
       "    </tr>\n",
       "    <tr>\n",
       "      <th>5567</th>\n",
       "      <td>0</td>\n",
       "      <td>1</td>\n",
       "      <td>0</td>\n",
       "      <td>0</td>\n",
       "      <td>0</td>\n",
       "      <td>1</td>\n",
       "      <td>1</td>\n",
       "      <td>0</td>\n",
       "      <td>0</td>\n",
       "      <td>1</td>\n",
       "      <td>...</td>\n",
       "      <td>0</td>\n",
       "      <td>0</td>\n",
       "      <td>0</td>\n",
       "      <td>0</td>\n",
       "      <td>0</td>\n",
       "      <td>0</td>\n",
       "      <td>0</td>\n",
       "      <td>0</td>\n",
       "      <td>0</td>\n",
       "      <td>0</td>\n",
       "    </tr>\n",
       "    <tr>\n",
       "      <th>5568</th>\n",
       "      <td>0</td>\n",
       "      <td>0</td>\n",
       "      <td>1</td>\n",
       "      <td>0</td>\n",
       "      <td>0</td>\n",
       "      <td>0</td>\n",
       "      <td>0</td>\n",
       "      <td>0</td>\n",
       "      <td>0</td>\n",
       "      <td>0</td>\n",
       "      <td>...</td>\n",
       "      <td>0</td>\n",
       "      <td>0</td>\n",
       "      <td>0</td>\n",
       "      <td>0</td>\n",
       "      <td>0</td>\n",
       "      <td>0</td>\n",
       "      <td>0</td>\n",
       "      <td>0</td>\n",
       "      <td>0</td>\n",
       "      <td>0</td>\n",
       "    </tr>\n",
       "    <tr>\n",
       "      <th>5569</th>\n",
       "      <td>0</td>\n",
       "      <td>0</td>\n",
       "      <td>0</td>\n",
       "      <td>0</td>\n",
       "      <td>0</td>\n",
       "      <td>0</td>\n",
       "      <td>0</td>\n",
       "      <td>0</td>\n",
       "      <td>0</td>\n",
       "      <td>0</td>\n",
       "      <td>...</td>\n",
       "      <td>0</td>\n",
       "      <td>0</td>\n",
       "      <td>0</td>\n",
       "      <td>0</td>\n",
       "      <td>0</td>\n",
       "      <td>0</td>\n",
       "      <td>0</td>\n",
       "      <td>0</td>\n",
       "      <td>0</td>\n",
       "      <td>0</td>\n",
       "    </tr>\n",
       "    <tr>\n",
       "      <th>5570</th>\n",
       "      <td>1</td>\n",
       "      <td>0</td>\n",
       "      <td>1</td>\n",
       "      <td>0</td>\n",
       "      <td>0</td>\n",
       "      <td>1</td>\n",
       "      <td>0</td>\n",
       "      <td>1</td>\n",
       "      <td>1</td>\n",
       "      <td>0</td>\n",
       "      <td>...</td>\n",
       "      <td>0</td>\n",
       "      <td>0</td>\n",
       "      <td>0</td>\n",
       "      <td>0</td>\n",
       "      <td>0</td>\n",
       "      <td>0</td>\n",
       "      <td>0</td>\n",
       "      <td>0</td>\n",
       "      <td>0</td>\n",
       "      <td>0</td>\n",
       "    </tr>\n",
       "    <tr>\n",
       "      <th>5571</th>\n",
       "      <td>0</td>\n",
       "      <td>0</td>\n",
       "      <td>1</td>\n",
       "      <td>0</td>\n",
       "      <td>0</td>\n",
       "      <td>0</td>\n",
       "      <td>0</td>\n",
       "      <td>0</td>\n",
       "      <td>1</td>\n",
       "      <td>0</td>\n",
       "      <td>...</td>\n",
       "      <td>0</td>\n",
       "      <td>0</td>\n",
       "      <td>0</td>\n",
       "      <td>0</td>\n",
       "      <td>0</td>\n",
       "      <td>0</td>\n",
       "      <td>0</td>\n",
       "      <td>0</td>\n",
       "      <td>0</td>\n",
       "      <td>0</td>\n",
       "    </tr>\n",
       "  </tbody>\n",
       "</table>\n",
       "<p>5572 rows × 2000 columns</p>\n",
       "</div>"
      ],
      "text/plain": [
       "      0     1     2     3     4     5     6     7     8     9     ...  1990  \\\n",
       "0        0     0     0     0     0     0     0     0     0     0  ...     0   \n",
       "1        0     0     0     0     0     0     1     0     0     0  ...     0   \n",
       "2        0     1     1     0     1     0     0     0     0     0  ...     0   \n",
       "3        0     0     0     0     0     0     1     0     0     0  ...     0   \n",
       "4        1     0     1     0     0     0     0     0     0     0  ...     0   \n",
       "...    ...   ...   ...   ...   ...   ...   ...   ...   ...   ...  ...   ...   \n",
       "5567     0     1     0     0     0     1     1     0     0     1  ...     0   \n",
       "5568     0     0     1     0     0     0     0     0     0     0  ...     0   \n",
       "5569     0     0     0     0     0     0     0     0     0     0  ...     0   \n",
       "5570     1     0     1     0     0     1     0     1     1     0  ...     0   \n",
       "5571     0     0     1     0     0     0     0     0     1     0  ...     0   \n",
       "\n",
       "      1991  1992  1993  1994  1995  1996  1997  1998  1999  \n",
       "0        0     0     0     0     0     0     0     0     0  \n",
       "1        0     0     0     0     0     0     0     0     0  \n",
       "2        0     0     0     0     0     0     0     0     0  \n",
       "3        0     0     0     0     0     0     0     0     0  \n",
       "4        0     0     0     0     0     0     0     0     0  \n",
       "...    ...   ...   ...   ...   ...   ...   ...   ...   ...  \n",
       "5567     0     0     0     0     0     0     0     0     0  \n",
       "5568     0     0     0     0     0     0     0     0     0  \n",
       "5569     0     0     0     0     0     0     0     0     0  \n",
       "5570     0     0     0     0     0     0     0     0     0  \n",
       "5571     0     0     0     0     0     0     0     0     0  \n",
       "\n",
       "[5572 rows x 2000 columns]"
      ]
     },
     "execution_count": 17,
     "metadata": {},
     "output_type": "execute_result"
    }
   ],
   "source": [
    "X"
   ]
  },
  {
   "cell_type": "code",
   "execution_count": 18,
   "id": "chronic-syntax",
   "metadata": {
    "execution": {
     "iopub.execute_input": "2021-06-25T11:03:11.775914Z",
     "iopub.status.busy": "2021-06-25T11:03:11.775196Z",
     "iopub.status.idle": "2021-06-25T11:03:11.778087Z",
     "shell.execute_reply": "2021-06-25T11:03:11.778567Z",
     "shell.execute_reply.started": "2021-06-25T10:50:03.624716Z"
    },
    "papermill": {
     "duration": 0.036386,
     "end_time": "2021-06-25T11:03:11.778741",
     "exception": false,
     "start_time": "2021-06-25T11:03:11.742355",
     "status": "completed"
    },
    "tags": []
   },
   "outputs": [],
   "source": [
    "y = data['v1']"
   ]
  },
  {
   "cell_type": "code",
   "execution_count": 19,
   "id": "atomic-battle",
   "metadata": {
    "execution": {
     "iopub.execute_input": "2021-06-25T11:03:11.841654Z",
     "iopub.status.busy": "2021-06-25T11:03:11.841013Z",
     "iopub.status.idle": "2021-06-25T11:03:11.845037Z",
     "shell.execute_reply": "2021-06-25T11:03:11.844418Z",
     "shell.execute_reply.started": "2021-06-25T10:50:04.817202Z"
    },
    "papermill": {
     "duration": 0.038585,
     "end_time": "2021-06-25T11:03:11.845181",
     "exception": false,
     "start_time": "2021-06-25T11:03:11.806596",
     "status": "completed"
    },
    "tags": []
   },
   "outputs": [
    {
     "data": {
      "text/plain": [
       "0       0\n",
       "1       0\n",
       "2       1\n",
       "3       0\n",
       "4       0\n",
       "       ..\n",
       "5567    1\n",
       "5568    0\n",
       "5569    0\n",
       "5570    0\n",
       "5571    0\n",
       "Name: v1, Length: 5572, dtype: int64"
      ]
     },
     "execution_count": 19,
     "metadata": {},
     "output_type": "execute_result"
    }
   ],
   "source": [
    "y"
   ]
  },
  {
   "cell_type": "code",
   "execution_count": 20,
   "id": "sublime-habitat",
   "metadata": {
    "execution": {
     "iopub.execute_input": "2021-06-25T11:03:11.912964Z",
     "iopub.status.busy": "2021-06-25T11:03:11.912277Z",
     "iopub.status.idle": "2021-06-25T11:03:11.916373Z",
     "shell.execute_reply": "2021-06-25T11:03:11.916864Z",
     "shell.execute_reply.started": "2021-06-25T10:50:37.455060Z"
    },
    "papermill": {
     "duration": 0.042561,
     "end_time": "2021-06-25T11:03:11.917028",
     "exception": false,
     "start_time": "2021-06-25T11:03:11.874467",
     "status": "completed"
    },
    "tags": []
   },
   "outputs": [],
   "source": [
    "X_train, X_test, y_train, y_test = train_test_split(X, y, train_size = 0.8)"
   ]
  },
  {
   "cell_type": "code",
   "execution_count": 21,
   "id": "immediate-bulgarian",
   "metadata": {
    "execution": {
     "iopub.execute_input": "2021-06-25T11:03:11.977723Z",
     "iopub.status.busy": "2021-06-25T11:03:11.977146Z",
     "iopub.status.idle": "2021-06-25T11:03:19.595909Z",
     "shell.execute_reply": "2021-06-25T11:03:19.595262Z",
     "shell.execute_reply.started": "2021-06-25T10:50:57.865725Z"
    },
    "papermill": {
     "duration": 7.650223,
     "end_time": "2021-06-25T11:03:19.596045",
     "exception": false,
     "start_time": "2021-06-25T11:03:11.945822",
     "status": "completed"
    },
    "tags": []
   },
   "outputs": [
    {
     "data": {
      "text/plain": [
       "SVC()"
      ]
     },
     "execution_count": 21,
     "metadata": {},
     "output_type": "execute_result"
    }
   ],
   "source": [
    "model = SVC()\n",
    "model.fit(X_train, y_train)"
   ]
  },
  {
   "cell_type": "markdown",
   "id": "apparent-gossip",
   "metadata": {
    "papermill": {
     "duration": 0.028475,
     "end_time": "2021-06-25T11:03:19.652886",
     "exception": false,
     "start_time": "2021-06-25T11:03:19.624411",
     "status": "completed"
    },
    "tags": []
   },
   "source": [
    "# Scores 📈"
   ]
  },
  {
   "cell_type": "markdown",
   "id": "demanding-desperate",
   "metadata": {
    "papermill": {
     "duration": 0.028341,
     "end_time": "2021-06-25T11:03:19.710558",
     "exception": false,
     "start_time": "2021-06-25T11:03:19.682217",
     "status": "completed"
    },
    "tags": []
   },
   "source": [
    "### Accuracy"
   ]
  },
  {
   "cell_type": "code",
   "execution_count": 22,
   "id": "attended-device",
   "metadata": {
    "execution": {
     "iopub.execute_input": "2021-06-25T11:03:19.790878Z",
     "iopub.status.busy": "2021-06-25T11:03:19.787002Z",
     "iopub.status.idle": "2021-06-25T11:03:21.941760Z",
     "shell.execute_reply": "2021-06-25T11:03:21.940837Z",
     "shell.execute_reply.started": "2021-06-25T10:51:18.456164Z"
    },
    "papermill": {
     "duration": 2.202606,
     "end_time": "2021-06-25T11:03:21.941949",
     "exception": false,
     "start_time": "2021-06-25T11:03:19.739343",
     "status": "completed"
    },
    "tags": []
   },
   "outputs": [
    {
     "data": {
      "text/plain": [
       "0.9802690582959641"
      ]
     },
     "execution_count": 22,
     "metadata": {},
     "output_type": "execute_result"
    }
   ],
   "source": [
    "model.score(X_test, y_test)"
   ]
  },
  {
   "cell_type": "markdown",
   "id": "clean-convergence",
   "metadata": {
    "papermill": {
     "duration": 0.028424,
     "end_time": "2021-06-25T11:03:21.999621",
     "exception": false,
     "start_time": "2021-06-25T11:03:21.971197",
     "status": "completed"
    },
    "tags": []
   },
   "source": [
    "### Percentage of +ve results in dataset"
   ]
  },
  {
   "cell_type": "code",
   "execution_count": 23,
   "id": "metallic-perth",
   "metadata": {
    "execution": {
     "iopub.execute_input": "2021-06-25T11:03:22.064496Z",
     "iopub.status.busy": "2021-06-25T11:03:22.063877Z",
     "iopub.status.idle": "2021-06-25T11:03:22.068273Z",
     "shell.execute_reply": "2021-06-25T11:03:22.067611Z",
     "shell.execute_reply.started": "2021-06-25T10:51:42.200401Z"
    },
    "papermill": {
     "duration": 0.039521,
     "end_time": "2021-06-25T11:03:22.068414",
     "exception": false,
     "start_time": "2021-06-25T11:03:22.028893",
     "status": "completed"
    },
    "tags": []
   },
   "outputs": [
    {
     "data": {
      "text/plain": [
       "0.13406317300789664"
      ]
     },
     "execution_count": 23,
     "metadata": {},
     "output_type": "execute_result"
    }
   ],
   "source": [
    "np.sum(y)/len(y)"
   ]
  },
  {
   "cell_type": "code",
   "execution_count": 24,
   "id": "blank-radar",
   "metadata": {
    "execution": {
     "iopub.execute_input": "2021-06-25T11:03:22.130159Z",
     "iopub.status.busy": "2021-06-25T11:03:22.129540Z",
     "iopub.status.idle": "2021-06-25T11:03:24.308335Z",
     "shell.execute_reply": "2021-06-25T11:03:24.307751Z",
     "shell.execute_reply.started": "2021-06-25T10:52:23.801522Z"
    },
    "papermill": {
     "duration": 2.210814,
     "end_time": "2021-06-25T11:03:24.308484",
     "exception": false,
     "start_time": "2021-06-25T11:03:22.097670",
     "status": "completed"
    },
    "tags": []
   },
   "outputs": [],
   "source": [
    "y_pred = model.predict(X_test)"
   ]
  },
  {
   "cell_type": "markdown",
   "id": "overall-postcard",
   "metadata": {
    "papermill": {
     "duration": 0.029613,
     "end_time": "2021-06-25T11:03:24.368058",
     "exception": false,
     "start_time": "2021-06-25T11:03:24.338445",
     "status": "completed"
    },
    "tags": []
   },
   "source": [
    "### F1 score"
   ]
  },
  {
   "cell_type": "code",
   "execution_count": 25,
   "id": "embedded-medline",
   "metadata": {
    "execution": {
     "iopub.execute_input": "2021-06-25T11:03:24.432948Z",
     "iopub.status.busy": "2021-06-25T11:03:24.431953Z",
     "iopub.status.idle": "2021-06-25T11:03:24.438357Z",
     "shell.execute_reply": "2021-06-25T11:03:24.438839Z",
     "shell.execute_reply.started": "2021-06-25T10:52:40.228129Z"
    },
    "papermill": {
     "duration": 0.041307,
     "end_time": "2021-06-25T11:03:24.439022",
     "exception": false,
     "start_time": "2021-06-25T11:03:24.397715",
     "status": "completed"
    },
    "tags": []
   },
   "outputs": [
    {
     "data": {
      "text/plain": [
       "0.9236111111111112"
      ]
     },
     "execution_count": 25,
     "metadata": {},
     "output_type": "execute_result"
    }
   ],
   "source": [
    "f1_score(y_test, y_pred)"
   ]
  }
 ],
 "metadata": {
  "kernelspec": {
   "display_name": "Python 3",
   "language": "python",
   "name": "python3"
  },
  "language_info": {
   "codemirror_mode": {
    "name": "ipython",
    "version": 3
   },
   "file_extension": ".py",
   "mimetype": "text/x-python",
   "name": "python",
   "nbconvert_exporter": "python",
   "pygments_lexer": "ipython3",
   "version": "3.7.9"
  },
  "papermill": {
   "default_parameters": {},
   "duration": 32.954933,
   "end_time": "2021-06-25T11:03:25.179060",
   "environment_variables": {},
   "exception": null,
   "input_path": "__notebook__.ipynb",
   "output_path": "__notebook__.ipynb",
   "parameters": {},
   "start_time": "2021-06-25T11:02:52.224127",
   "version": "2.3.2"
  }
 },
 "nbformat": 4,
 "nbformat_minor": 5
}
