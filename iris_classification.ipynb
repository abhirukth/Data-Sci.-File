{
  "nbformat": 4,
  "nbformat_minor": 0,
  "metadata": {
    "colab": {
      "name": "iris_classification.ipynb",
      "provenance": [],
      "authorship_tag": "ABX9TyOi3nx0ML+zF+zfFVSBhMKC",
      "include_colab_link": true
    },
    "kernelspec": {
      "name": "python3",
      "display_name": "Python 3"
    },
    "language_info": {
      "name": "python"
    }
  },
  "cells": [
    {
      "cell_type": "markdown",
      "metadata": {
        "id": "view-in-github",
        "colab_type": "text"
      },
      "source": [
        "<a href=\"https://colab.research.google.com/github/abhirukth/Data-Sci.-File/blob/main/iris_classification.ipynb\" target=\"_parent\"><img src=\"https://colab.research.google.com/assets/colab-badge.svg\" alt=\"Open In Colab\"/></a>"
      ]
    },
    {
      "cell_type": "markdown",
      "metadata": {
        "id": "mXVvaNiBTpBS"
      },
      "source": [
        "# Imporing Libraries"
      ]
    },
    {
      "cell_type": "code",
      "metadata": {
        "id": "Ew8LTbY9T0xq"
      },
      "source": [
        "import pandas as pd\n",
        "import numpy as np\n",
        "\n",
        "import tensorflow as tf\n",
        "\n",
        "import matplotlib.pyplot as plt\n",
        "\n",
        "from sklearn.model_selection import train_test_split\n",
        "from sklearn.preprocessing import LabelEncoder"
      ],
      "execution_count": null,
      "outputs": []
    },
    {
      "cell_type": "markdown",
      "metadata": {
        "id": "BOr5pWwNe5Qp"
      },
      "source": [
        "# Loading Data"
      ]
    },
    {
      "cell_type": "code",
      "metadata": {
        "id": "QLoW1j9FVE7A"
      },
      "source": [
        "data = pd.read_csv('/content/Iris.csv')"
      ],
      "execution_count": null,
      "outputs": []
    },
    {
      "cell_type": "code",
      "metadata": {
        "colab": {
          "base_uri": "https://localhost:8080/",
          "height": 417
        },
        "id": "xYyzSfknV1nB",
        "outputId": "b6010f03-4aff-46b7-cb7d-ee7acc243c4c"
      },
      "source": [
        "data"
      ],
      "execution_count": null,
      "outputs": [
        {
          "output_type": "execute_result",
          "data": {
            "text/html": [
              "<div>\n",
              "<style scoped>\n",
              "    .dataframe tbody tr th:only-of-type {\n",
              "        vertical-align: middle;\n",
              "    }\n",
              "\n",
              "    .dataframe tbody tr th {\n",
              "        vertical-align: top;\n",
              "    }\n",
              "\n",
              "    .dataframe thead th {\n",
              "        text-align: right;\n",
              "    }\n",
              "</style>\n",
              "<table border=\"1\" class=\"dataframe\">\n",
              "  <thead>\n",
              "    <tr style=\"text-align: right;\">\n",
              "      <th></th>\n",
              "      <th>Id</th>\n",
              "      <th>SepalLengthCm</th>\n",
              "      <th>SepalWidthCm</th>\n",
              "      <th>PetalLengthCm</th>\n",
              "      <th>PetalWidthCm</th>\n",
              "      <th>Species</th>\n",
              "    </tr>\n",
              "  </thead>\n",
              "  <tbody>\n",
              "    <tr>\n",
              "      <th>0</th>\n",
              "      <td>1</td>\n",
              "      <td>5.1</td>\n",
              "      <td>3.5</td>\n",
              "      <td>1.4</td>\n",
              "      <td>0.2</td>\n",
              "      <td>Iris-setosa</td>\n",
              "    </tr>\n",
              "    <tr>\n",
              "      <th>1</th>\n",
              "      <td>2</td>\n",
              "      <td>4.9</td>\n",
              "      <td>3.0</td>\n",
              "      <td>1.4</td>\n",
              "      <td>0.2</td>\n",
              "      <td>Iris-setosa</td>\n",
              "    </tr>\n",
              "    <tr>\n",
              "      <th>2</th>\n",
              "      <td>3</td>\n",
              "      <td>4.7</td>\n",
              "      <td>3.2</td>\n",
              "      <td>1.3</td>\n",
              "      <td>0.2</td>\n",
              "      <td>Iris-setosa</td>\n",
              "    </tr>\n",
              "    <tr>\n",
              "      <th>3</th>\n",
              "      <td>4</td>\n",
              "      <td>4.6</td>\n",
              "      <td>3.1</td>\n",
              "      <td>1.5</td>\n",
              "      <td>0.2</td>\n",
              "      <td>Iris-setosa</td>\n",
              "    </tr>\n",
              "    <tr>\n",
              "      <th>4</th>\n",
              "      <td>5</td>\n",
              "      <td>5.0</td>\n",
              "      <td>3.6</td>\n",
              "      <td>1.4</td>\n",
              "      <td>0.2</td>\n",
              "      <td>Iris-setosa</td>\n",
              "    </tr>\n",
              "    <tr>\n",
              "      <th>...</th>\n",
              "      <td>...</td>\n",
              "      <td>...</td>\n",
              "      <td>...</td>\n",
              "      <td>...</td>\n",
              "      <td>...</td>\n",
              "      <td>...</td>\n",
              "    </tr>\n",
              "    <tr>\n",
              "      <th>145</th>\n",
              "      <td>146</td>\n",
              "      <td>6.7</td>\n",
              "      <td>3.0</td>\n",
              "      <td>5.2</td>\n",
              "      <td>2.3</td>\n",
              "      <td>Iris-virginica</td>\n",
              "    </tr>\n",
              "    <tr>\n",
              "      <th>146</th>\n",
              "      <td>147</td>\n",
              "      <td>6.3</td>\n",
              "      <td>2.5</td>\n",
              "      <td>5.0</td>\n",
              "      <td>1.9</td>\n",
              "      <td>Iris-virginica</td>\n",
              "    </tr>\n",
              "    <tr>\n",
              "      <th>147</th>\n",
              "      <td>148</td>\n",
              "      <td>6.5</td>\n",
              "      <td>3.0</td>\n",
              "      <td>5.2</td>\n",
              "      <td>2.0</td>\n",
              "      <td>Iris-virginica</td>\n",
              "    </tr>\n",
              "    <tr>\n",
              "      <th>148</th>\n",
              "      <td>149</td>\n",
              "      <td>6.2</td>\n",
              "      <td>3.4</td>\n",
              "      <td>5.4</td>\n",
              "      <td>2.3</td>\n",
              "      <td>Iris-virginica</td>\n",
              "    </tr>\n",
              "    <tr>\n",
              "      <th>149</th>\n",
              "      <td>150</td>\n",
              "      <td>5.9</td>\n",
              "      <td>3.0</td>\n",
              "      <td>5.1</td>\n",
              "      <td>1.8</td>\n",
              "      <td>Iris-virginica</td>\n",
              "    </tr>\n",
              "  </tbody>\n",
              "</table>\n",
              "<p>150 rows × 6 columns</p>\n",
              "</div>"
            ],
            "text/plain": [
              "      Id  SepalLengthCm  ...  PetalWidthCm         Species\n",
              "0      1            5.1  ...           0.2     Iris-setosa\n",
              "1      2            4.9  ...           0.2     Iris-setosa\n",
              "2      3            4.7  ...           0.2     Iris-setosa\n",
              "3      4            4.6  ...           0.2     Iris-setosa\n",
              "4      5            5.0  ...           0.2     Iris-setosa\n",
              "..   ...            ...  ...           ...             ...\n",
              "145  146            6.7  ...           2.3  Iris-virginica\n",
              "146  147            6.3  ...           1.9  Iris-virginica\n",
              "147  148            6.5  ...           2.0  Iris-virginica\n",
              "148  149            6.2  ...           2.3  Iris-virginica\n",
              "149  150            5.9  ...           1.8  Iris-virginica\n",
              "\n",
              "[150 rows x 6 columns]"
            ]
          },
          "metadata": {
            "tags": []
          },
          "execution_count": 3
        }
      ]
    },
    {
      "cell_type": "code",
      "metadata": {
        "colab": {
          "base_uri": "https://localhost:8080/"
        },
        "id": "QzigXE3kV2Th",
        "outputId": "3a055163-5f59-4da8-fd90-8070a2273c45"
      },
      "source": [
        "data.isnull().any()"
      ],
      "execution_count": null,
      "outputs": [
        {
          "output_type": "execute_result",
          "data": {
            "text/plain": [
              "Id               False\n",
              "SepalLengthCm    False\n",
              "SepalWidthCm     False\n",
              "PetalLengthCm    False\n",
              "PetalWidthCm     False\n",
              "Species          False\n",
              "dtype: bool"
            ]
          },
          "metadata": {
            "tags": []
          },
          "execution_count": 4
        }
      ]
    },
    {
      "cell_type": "markdown",
      "metadata": {
        "id": "df2aYWwBe-Vz"
      },
      "source": [
        "> Data is already clean with no NULL values."
      ]
    },
    {
      "cell_type": "code",
      "metadata": {
        "colab": {
          "base_uri": "https://localhost:8080/"
        },
        "id": "T_hvzG-QWCl1",
        "outputId": "c45cda9c-f690-40ce-c379-916bbbd80c62"
      },
      "source": [
        "data.columns"
      ],
      "execution_count": null,
      "outputs": [
        {
          "output_type": "execute_result",
          "data": {
            "text/plain": [
              "Index(['Id', 'SepalLengthCm', 'SepalWidthCm', 'PetalLengthCm', 'PetalWidthCm',\n",
              "       'Species'],\n",
              "      dtype='object')"
            ]
          },
          "metadata": {
            "tags": []
          },
          "execution_count": 5
        }
      ]
    },
    {
      "cell_type": "code",
      "metadata": {
        "colab": {
          "base_uri": "https://localhost:8080/"
        },
        "id": "etiT26G0WGvf",
        "outputId": "32bc0f96-9081-46c1-85e3-01ca15c7f66e"
      },
      "source": [
        "data['Species'].unique()"
      ],
      "execution_count": null,
      "outputs": [
        {
          "output_type": "execute_result",
          "data": {
            "text/plain": [
              "array(['Iris-setosa', 'Iris-versicolor', 'Iris-virginica'], dtype=object)"
            ]
          },
          "metadata": {
            "tags": []
          },
          "execution_count": 6
        }
      ]
    },
    {
      "cell_type": "markdown",
      "metadata": {
        "id": "yaq0JofqfRQO"
      },
      "source": [
        "# Model Training"
      ]
    },
    {
      "cell_type": "code",
      "metadata": {
        "id": "TvVYNJyAWOVR"
      },
      "source": [
        "X = data.drop(['Id', 'Species'], axis = 1)\n",
        "y = data['Species']"
      ],
      "execution_count": null,
      "outputs": []
    },
    {
      "cell_type": "code",
      "metadata": {
        "colab": {
          "base_uri": "https://localhost:8080/",
          "height": 417
        },
        "id": "3QVpZjFRWm8O",
        "outputId": "4d6a496e-d87c-4673-ae5c-762363bfc827"
      },
      "source": [
        "X"
      ],
      "execution_count": null,
      "outputs": [
        {
          "output_type": "execute_result",
          "data": {
            "text/html": [
              "<div>\n",
              "<style scoped>\n",
              "    .dataframe tbody tr th:only-of-type {\n",
              "        vertical-align: middle;\n",
              "    }\n",
              "\n",
              "    .dataframe tbody tr th {\n",
              "        vertical-align: top;\n",
              "    }\n",
              "\n",
              "    .dataframe thead th {\n",
              "        text-align: right;\n",
              "    }\n",
              "</style>\n",
              "<table border=\"1\" class=\"dataframe\">\n",
              "  <thead>\n",
              "    <tr style=\"text-align: right;\">\n",
              "      <th></th>\n",
              "      <th>SepalLengthCm</th>\n",
              "      <th>SepalWidthCm</th>\n",
              "      <th>PetalLengthCm</th>\n",
              "      <th>PetalWidthCm</th>\n",
              "    </tr>\n",
              "  </thead>\n",
              "  <tbody>\n",
              "    <tr>\n",
              "      <th>0</th>\n",
              "      <td>5.1</td>\n",
              "      <td>3.5</td>\n",
              "      <td>1.4</td>\n",
              "      <td>0.2</td>\n",
              "    </tr>\n",
              "    <tr>\n",
              "      <th>1</th>\n",
              "      <td>4.9</td>\n",
              "      <td>3.0</td>\n",
              "      <td>1.4</td>\n",
              "      <td>0.2</td>\n",
              "    </tr>\n",
              "    <tr>\n",
              "      <th>2</th>\n",
              "      <td>4.7</td>\n",
              "      <td>3.2</td>\n",
              "      <td>1.3</td>\n",
              "      <td>0.2</td>\n",
              "    </tr>\n",
              "    <tr>\n",
              "      <th>3</th>\n",
              "      <td>4.6</td>\n",
              "      <td>3.1</td>\n",
              "      <td>1.5</td>\n",
              "      <td>0.2</td>\n",
              "    </tr>\n",
              "    <tr>\n",
              "      <th>4</th>\n",
              "      <td>5.0</td>\n",
              "      <td>3.6</td>\n",
              "      <td>1.4</td>\n",
              "      <td>0.2</td>\n",
              "    </tr>\n",
              "    <tr>\n",
              "      <th>...</th>\n",
              "      <td>...</td>\n",
              "      <td>...</td>\n",
              "      <td>...</td>\n",
              "      <td>...</td>\n",
              "    </tr>\n",
              "    <tr>\n",
              "      <th>145</th>\n",
              "      <td>6.7</td>\n",
              "      <td>3.0</td>\n",
              "      <td>5.2</td>\n",
              "      <td>2.3</td>\n",
              "    </tr>\n",
              "    <tr>\n",
              "      <th>146</th>\n",
              "      <td>6.3</td>\n",
              "      <td>2.5</td>\n",
              "      <td>5.0</td>\n",
              "      <td>1.9</td>\n",
              "    </tr>\n",
              "    <tr>\n",
              "      <th>147</th>\n",
              "      <td>6.5</td>\n",
              "      <td>3.0</td>\n",
              "      <td>5.2</td>\n",
              "      <td>2.0</td>\n",
              "    </tr>\n",
              "    <tr>\n",
              "      <th>148</th>\n",
              "      <td>6.2</td>\n",
              "      <td>3.4</td>\n",
              "      <td>5.4</td>\n",
              "      <td>2.3</td>\n",
              "    </tr>\n",
              "    <tr>\n",
              "      <th>149</th>\n",
              "      <td>5.9</td>\n",
              "      <td>3.0</td>\n",
              "      <td>5.1</td>\n",
              "      <td>1.8</td>\n",
              "    </tr>\n",
              "  </tbody>\n",
              "</table>\n",
              "<p>150 rows × 4 columns</p>\n",
              "</div>"
            ],
            "text/plain": [
              "     SepalLengthCm  SepalWidthCm  PetalLengthCm  PetalWidthCm\n",
              "0              5.1           3.5            1.4           0.2\n",
              "1              4.9           3.0            1.4           0.2\n",
              "2              4.7           3.2            1.3           0.2\n",
              "3              4.6           3.1            1.5           0.2\n",
              "4              5.0           3.6            1.4           0.2\n",
              "..             ...           ...            ...           ...\n",
              "145            6.7           3.0            5.2           2.3\n",
              "146            6.3           2.5            5.0           1.9\n",
              "147            6.5           3.0            5.2           2.0\n",
              "148            6.2           3.4            5.4           2.3\n",
              "149            5.9           3.0            5.1           1.8\n",
              "\n",
              "[150 rows x 4 columns]"
            ]
          },
          "metadata": {
            "tags": []
          },
          "execution_count": 8
        }
      ]
    },
    {
      "cell_type": "code",
      "metadata": {
        "colab": {
          "base_uri": "https://localhost:8080/"
        },
        "id": "h4dkMis9Wpyk",
        "outputId": "1adadf87-317d-4d81-a9c0-c1c65066f0e5"
      },
      "source": [
        "y"
      ],
      "execution_count": null,
      "outputs": [
        {
          "output_type": "execute_result",
          "data": {
            "text/plain": [
              "0         Iris-setosa\n",
              "1         Iris-setosa\n",
              "2         Iris-setosa\n",
              "3         Iris-setosa\n",
              "4         Iris-setosa\n",
              "            ...      \n",
              "145    Iris-virginica\n",
              "146    Iris-virginica\n",
              "147    Iris-virginica\n",
              "148    Iris-virginica\n",
              "149    Iris-virginica\n",
              "Name: Species, Length: 150, dtype: object"
            ]
          },
          "metadata": {
            "tags": []
          },
          "execution_count": 9
        }
      ]
    },
    {
      "cell_type": "code",
      "metadata": {
        "colab": {
          "base_uri": "https://localhost:8080/"
        },
        "id": "t-tT84vLWqSH",
        "outputId": "29eaaf9a-b175-4a2a-bdc9-467116bab460"
      },
      "source": [
        "encoder = LabelEncoder()\n",
        "y = pd.DataFrame(encoder.fit_transform(y))\n",
        "\n",
        "encoded_iris_types = {index : label for index, label in enumerate(encoder.classes_)}\n",
        "encoded_iris_types"
      ],
      "execution_count": null,
      "outputs": [
        {
          "output_type": "execute_result",
          "data": {
            "text/plain": [
              "{0: 'Iris-setosa', 1: 'Iris-versicolor', 2: 'Iris-virginica'}"
            ]
          },
          "metadata": {
            "tags": []
          },
          "execution_count": 11
        }
      ]
    },
    {
      "cell_type": "code",
      "metadata": {
        "colab": {
          "base_uri": "https://localhost:8080/",
          "height": 417
        },
        "id": "kV1hznNbXD1s",
        "outputId": "b9a656c3-71ee-4c37-e9e4-df946b86ad17"
      },
      "source": [
        "y"
      ],
      "execution_count": null,
      "outputs": [
        {
          "output_type": "execute_result",
          "data": {
            "text/html": [
              "<div>\n",
              "<style scoped>\n",
              "    .dataframe tbody tr th:only-of-type {\n",
              "        vertical-align: middle;\n",
              "    }\n",
              "\n",
              "    .dataframe tbody tr th {\n",
              "        vertical-align: top;\n",
              "    }\n",
              "\n",
              "    .dataframe thead th {\n",
              "        text-align: right;\n",
              "    }\n",
              "</style>\n",
              "<table border=\"1\" class=\"dataframe\">\n",
              "  <thead>\n",
              "    <tr style=\"text-align: right;\">\n",
              "      <th></th>\n",
              "      <th>0</th>\n",
              "    </tr>\n",
              "  </thead>\n",
              "  <tbody>\n",
              "    <tr>\n",
              "      <th>0</th>\n",
              "      <td>0</td>\n",
              "    </tr>\n",
              "    <tr>\n",
              "      <th>1</th>\n",
              "      <td>0</td>\n",
              "    </tr>\n",
              "    <tr>\n",
              "      <th>2</th>\n",
              "      <td>0</td>\n",
              "    </tr>\n",
              "    <tr>\n",
              "      <th>3</th>\n",
              "      <td>0</td>\n",
              "    </tr>\n",
              "    <tr>\n",
              "      <th>4</th>\n",
              "      <td>0</td>\n",
              "    </tr>\n",
              "    <tr>\n",
              "      <th>...</th>\n",
              "      <td>...</td>\n",
              "    </tr>\n",
              "    <tr>\n",
              "      <th>145</th>\n",
              "      <td>2</td>\n",
              "    </tr>\n",
              "    <tr>\n",
              "      <th>146</th>\n",
              "      <td>2</td>\n",
              "    </tr>\n",
              "    <tr>\n",
              "      <th>147</th>\n",
              "      <td>2</td>\n",
              "    </tr>\n",
              "    <tr>\n",
              "      <th>148</th>\n",
              "      <td>2</td>\n",
              "    </tr>\n",
              "    <tr>\n",
              "      <th>149</th>\n",
              "      <td>2</td>\n",
              "    </tr>\n",
              "  </tbody>\n",
              "</table>\n",
              "<p>150 rows × 1 columns</p>\n",
              "</div>"
            ],
            "text/plain": [
              "     0\n",
              "0    0\n",
              "1    0\n",
              "2    0\n",
              "3    0\n",
              "4    0\n",
              "..  ..\n",
              "145  2\n",
              "146  2\n",
              "147  2\n",
              "148  2\n",
              "149  2\n",
              "\n",
              "[150 rows x 1 columns]"
            ]
          },
          "metadata": {
            "tags": []
          },
          "execution_count": 12
        }
      ]
    },
    {
      "cell_type": "code",
      "metadata": {
        "id": "ldP18S6dZtQX"
      },
      "source": [
        "X_train, X_test, y_train, y_test = train_test_split(X, y, train_size = 0.7, random_state = 40)"
      ],
      "execution_count": null,
      "outputs": []
    },
    {
      "cell_type": "markdown",
      "metadata": {
        "id": "t4RKACgqfhh4"
      },
      "source": [
        "## Implementing neural networks"
      ]
    },
    {
      "cell_type": "code",
      "metadata": {
        "colab": {
          "base_uri": "https://localhost:8080/"
        },
        "id": "qczJl-BWZ-AX",
        "outputId": "5a9e347f-6bef-4799-908d-7af141b1bac6"
      },
      "source": [
        "inputs = tf.keras.Input(shape = (4, ))\n",
        "x = tf.keras.layers.Dense(256, activation = 'relu')(inputs)\n",
        "x = tf.keras.layers.Dense(256, activation = 'relu')(x)\n",
        "outputs = tf.keras.layers.Dense(3, activation = 'softmax')(x)\n",
        "\n",
        "model = tf.keras.Model(inputs, outputs)\n",
        "\n",
        "model.compile(\n",
        "    optimizer = 'adam',\n",
        "    loss = 'sparse_categorical_crossentropy',\n",
        "    metrics = ['accuracy']\n",
        ")\n",
        "\n",
        "batch_size = 32\n",
        "epochs = 40\n",
        "\n",
        "history = model.fit(\n",
        "    X_train,\n",
        "    y_train,\n",
        "    validation_split = 0.2,\n",
        "    batch_size = batch_size,\n",
        "    epochs = epochs\n",
        ")"
      ],
      "execution_count": null,
      "outputs": [
        {
          "output_type": "stream",
          "text": [
            "Epoch 1/40\n",
            "3/3 [==============================] - 1s 84ms/step - loss: 1.0340 - accuracy: 0.3571 - val_loss: 0.9340 - val_accuracy: 0.5714\n",
            "Epoch 2/40\n",
            "3/3 [==============================] - 0s 14ms/step - loss: 0.8421 - accuracy: 0.6905 - val_loss: 0.7859 - val_accuracy: 0.5714\n",
            "Epoch 3/40\n",
            "3/3 [==============================] - 0s 14ms/step - loss: 0.7351 - accuracy: 0.7024 - val_loss: 0.7121 - val_accuracy: 0.5714\n",
            "Epoch 4/40\n",
            "3/3 [==============================] - 0s 14ms/step - loss: 0.6484 - accuracy: 0.7262 - val_loss: 0.5974 - val_accuracy: 0.8095\n",
            "Epoch 5/40\n",
            "3/3 [==============================] - 0s 15ms/step - loss: 0.5682 - accuracy: 0.7381 - val_loss: 0.5616 - val_accuracy: 0.5714\n",
            "Epoch 6/40\n",
            "3/3 [==============================] - 0s 15ms/step - loss: 0.5003 - accuracy: 0.7500 - val_loss: 0.4766 - val_accuracy: 0.9524\n",
            "Epoch 7/40\n",
            "3/3 [==============================] - 0s 13ms/step - loss: 0.4569 - accuracy: 0.9643 - val_loss: 0.4388 - val_accuracy: 0.9524\n",
            "Epoch 8/40\n",
            "3/3 [==============================] - 0s 13ms/step - loss: 0.4142 - accuracy: 0.9286 - val_loss: 0.4310 - val_accuracy: 0.8095\n",
            "Epoch 9/40\n",
            "3/3 [==============================] - 0s 13ms/step - loss: 0.3867 - accuracy: 0.9048 - val_loss: 0.3886 - val_accuracy: 0.9048\n",
            "Epoch 10/40\n",
            "3/3 [==============================] - 0s 17ms/step - loss: 0.3605 - accuracy: 0.9167 - val_loss: 0.3625 - val_accuracy: 0.9524\n",
            "Epoch 11/40\n",
            "3/3 [==============================] - 0s 18ms/step - loss: 0.3407 - accuracy: 0.9405 - val_loss: 0.3222 - val_accuracy: 0.9524\n",
            "Epoch 12/40\n",
            "3/3 [==============================] - 0s 14ms/step - loss: 0.3089 - accuracy: 0.9762 - val_loss: 0.3372 - val_accuracy: 0.9048\n",
            "Epoch 13/40\n",
            "3/3 [==============================] - 0s 14ms/step - loss: 0.3117 - accuracy: 0.8929 - val_loss: 0.3468 - val_accuracy: 0.8095\n",
            "Epoch 14/40\n",
            "3/3 [==============================] - 0s 14ms/step - loss: 0.2907 - accuracy: 0.9643 - val_loss: 0.2707 - val_accuracy: 0.9048\n",
            "Epoch 15/40\n",
            "3/3 [==============================] - 0s 16ms/step - loss: 0.2738 - accuracy: 0.9405 - val_loss: 0.2649 - val_accuracy: 0.9524\n",
            "Epoch 16/40\n",
            "3/3 [==============================] - 0s 15ms/step - loss: 0.2470 - accuracy: 0.9762 - val_loss: 0.2705 - val_accuracy: 0.9524\n",
            "Epoch 17/40\n",
            "3/3 [==============================] - 0s 17ms/step - loss: 0.2322 - accuracy: 0.9762 - val_loss: 0.2338 - val_accuracy: 1.0000\n",
            "Epoch 18/40\n",
            "3/3 [==============================] - 0s 27ms/step - loss: 0.2165 - accuracy: 0.9762 - val_loss: 0.2285 - val_accuracy: 0.9524\n",
            "Epoch 19/40\n",
            "3/3 [==============================] - 0s 15ms/step - loss: 0.2065 - accuracy: 0.9762 - val_loss: 0.2246 - val_accuracy: 0.9524\n",
            "Epoch 20/40\n",
            "3/3 [==============================] - 0s 13ms/step - loss: 0.1939 - accuracy: 0.9762 - val_loss: 0.2125 - val_accuracy: 0.9524\n",
            "Epoch 21/40\n",
            "3/3 [==============================] - 0s 13ms/step - loss: 0.1853 - accuracy: 0.9762 - val_loss: 0.2003 - val_accuracy: 0.9524\n",
            "Epoch 22/40\n",
            "3/3 [==============================] - 0s 13ms/step - loss: 0.1732 - accuracy: 0.9762 - val_loss: 0.1858 - val_accuracy: 1.0000\n",
            "Epoch 23/40\n",
            "3/3 [==============================] - 0s 16ms/step - loss: 0.1636 - accuracy: 0.9762 - val_loss: 0.1850 - val_accuracy: 0.9524\n",
            "Epoch 24/40\n",
            "3/3 [==============================] - 0s 13ms/step - loss: 0.1562 - accuracy: 0.9762 - val_loss: 0.1815 - val_accuracy: 0.9524\n",
            "Epoch 25/40\n",
            "3/3 [==============================] - 0s 14ms/step - loss: 0.1551 - accuracy: 0.9762 - val_loss: 0.1654 - val_accuracy: 0.9524\n",
            "Epoch 26/40\n",
            "3/3 [==============================] - 0s 13ms/step - loss: 0.1474 - accuracy: 0.9643 - val_loss: 0.1609 - val_accuracy: 0.9524\n",
            "Epoch 27/40\n",
            "3/3 [==============================] - 0s 13ms/step - loss: 0.1365 - accuracy: 0.9643 - val_loss: 0.1699 - val_accuracy: 0.9524\n",
            "Epoch 28/40\n",
            "3/3 [==============================] - 0s 15ms/step - loss: 0.1432 - accuracy: 0.9643 - val_loss: 0.1576 - val_accuracy: 0.9524\n",
            "Epoch 29/40\n",
            "3/3 [==============================] - 0s 16ms/step - loss: 0.1214 - accuracy: 0.9762 - val_loss: 0.1587 - val_accuracy: 0.9524\n",
            "Epoch 30/40\n",
            "3/3 [==============================] - 0s 13ms/step - loss: 0.1386 - accuracy: 0.9643 - val_loss: 0.1392 - val_accuracy: 0.9524\n",
            "Epoch 31/40\n",
            "3/3 [==============================] - 0s 16ms/step - loss: 0.1182 - accuracy: 0.9762 - val_loss: 0.1488 - val_accuracy: 0.9524\n",
            "Epoch 32/40\n",
            "3/3 [==============================] - 0s 17ms/step - loss: 0.1196 - accuracy: 0.9762 - val_loss: 0.1327 - val_accuracy: 0.9524\n",
            "Epoch 33/40\n",
            "3/3 [==============================] - 0s 16ms/step - loss: 0.1131 - accuracy: 0.9762 - val_loss: 0.1285 - val_accuracy: 0.9524\n",
            "Epoch 34/40\n",
            "3/3 [==============================] - 0s 13ms/step - loss: 0.1139 - accuracy: 0.9643 - val_loss: 0.1260 - val_accuracy: 0.9524\n",
            "Epoch 35/40\n",
            "3/3 [==============================] - 0s 13ms/step - loss: 0.1072 - accuracy: 0.9762 - val_loss: 0.1353 - val_accuracy: 0.9524\n",
            "Epoch 36/40\n",
            "3/3 [==============================] - 0s 14ms/step - loss: 0.1134 - accuracy: 0.9762 - val_loss: 0.1204 - val_accuracy: 0.9524\n",
            "Epoch 37/40\n",
            "3/3 [==============================] - 0s 15ms/step - loss: 0.1035 - accuracy: 0.9643 - val_loss: 0.1277 - val_accuracy: 0.9524\n",
            "Epoch 38/40\n",
            "3/3 [==============================] - 0s 15ms/step - loss: 0.1069 - accuracy: 0.9524 - val_loss: 0.1169 - val_accuracy: 0.9524\n",
            "Epoch 39/40\n",
            "3/3 [==============================] - 0s 15ms/step - loss: 0.0973 - accuracy: 0.9762 - val_loss: 0.1159 - val_accuracy: 0.9524\n",
            "Epoch 40/40\n",
            "3/3 [==============================] - 0s 15ms/step - loss: 0.0968 - accuracy: 0.9762 - val_loss: 0.1120 - val_accuracy: 0.9524\n"
          ],
          "name": "stdout"
        }
      ]
    },
    {
      "cell_type": "markdown",
      "metadata": {
        "id": "35HEusuNfnwV"
      },
      "source": [
        "# Graph comparing training and validation loss"
      ]
    },
    {
      "cell_type": "code",
      "metadata": {
        "id": "Xi-2cwm0bBhg",
        "colab": {
          "base_uri": "https://localhost:8080/",
          "height": 606
        },
        "outputId": "eff530e6-aed7-4145-979a-0ac6f0fd2ab8"
      },
      "source": [
        "plt.figure(figsize = (14, 10))\n",
        "\n",
        "epoch_range = range(1, epochs + 1)\n",
        "train_loss = history.history['loss']\n",
        "val_loss = history.history['val_loss']\n",
        "\n",
        "plt.plot(epoch_range, train_loss, label = \"Training Loss\")\n",
        "plt.plot(epoch_range, val_loss, label = \"Validation Loss\")\n",
        "\n",
        "plt.xlabel(\"Epochs\")\n",
        "plt.ylabel(\"Loss\")\n",
        "plt.legend()\n",
        "plt.show()"
      ],
      "execution_count": null,
      "outputs": [
        {
          "output_type": "display_data",
          "data": {
            "image/png": "[encoded data removed]",
            "text/plain": [
              "<Figure size 1008x720 with 1 Axes>"
            ]
          },
          "metadata": {
            "tags": [],
            "needs_background": "light"
          }
        }
      ]
    },
    {
      "cell_type": "markdown",
      "metadata": {
        "id": "J-L90noA1Es9"
      },
      "source": [
        "# Score"
      ]
    },
    {
      "cell_type": "code",
      "metadata": {
        "colab": {
          "base_uri": "https://localhost:8080/"
        },
        "id": "FdDgmyjP0cxK",
        "outputId": "62686d06-6cb2-4631-9463-916d071f5161"
      },
      "source": [
        "model.evaluate(X_test, y_test)"
      ],
      "execution_count": null,
      "outputs": [
        {
          "output_type": "stream",
          "text": [
            "2/2 [==============================] - 0s 4ms/step - loss: 0.0972 - accuracy: 1.0000\n"
          ],
          "name": "stdout"
        },
        {
          "output_type": "execute_result",
          "data": {
            "text/plain": [
              "[0.09715938568115234, 1.0]"
            ]
          },
          "metadata": {
            "tags": []
          },
          "execution_count": 37
        }
      ]
    },
    {
      "cell_type": "markdown",
      "metadata": {
        "id": "pMgtsZE22M7k"
      },
      "source": [
        "### A model with an accuracy of 100%"
      ]
    }
  ]
}