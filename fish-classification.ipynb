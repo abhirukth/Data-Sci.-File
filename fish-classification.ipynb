{
 "cells": [
  {
   "cell_type": "markdown",
   "id": "amateur-rendering",
   "metadata": {
    "papermill": {
     "duration": 0.019168,
     "end_time": "2021-07-02T05:42:19.692647",
     "exception": false,
     "start_time": "2021-07-02T05:42:19.673479",
     "status": "completed"
    },
    "tags": []
   },
   "source": [
    "# Importing Libraries 📖"
   ]
  },
  {
   "cell_type": "code",
   "execution_count": 1,
   "id": "still-stability",
   "metadata": {
    "_cell_guid": "b1076dfc-b9ad-4769-8c92-a6c4dae69d19",
    "_uuid": "8f2839f25d086af736a60e9eeb907d3b93b6e0e5",
    "execution": {
     "iopub.execute_input": "2021-07-02T05:42:19.741865Z",
     "iopub.status.busy": "2021-07-02T05:42:19.741226Z",
     "iopub.status.idle": "2021-07-02T05:42:26.936690Z",
     "shell.execute_reply": "2021-07-02T05:42:26.936038Z",
     "shell.execute_reply.started": "2021-07-02T05:08:55.334394Z"
    },
    "papermill": {
     "duration": 7.225731,
     "end_time": "2021-07-02T05:42:26.936872",
     "exception": false,
     "start_time": "2021-07-02T05:42:19.711141",
     "status": "completed"
    },
    "tags": []
   },
   "outputs": [
    {
     "name": "stdout",
     "output_type": "stream",
     "text": [
      "/kaggle/input/fish-market/Fish.csv\n"
     ]
    }
   ],
   "source": [
    "# This Python 3 environment comes with many helpful analytics libraries installed\n",
    "# It is defined by the kaggle/python Docker image: https://github.com/kaggle/docker-python\n",
    "# For example, here's several helpful packages to load\n",
    "\n",
    "import numpy as np # linear algebra\n",
    "import pandas as pd # data processing, CSV file I/O (e.g. pd.read_csv)\n",
    "import matplotlib.pyplot as plt\n",
    "import seaborn as sns\n",
    "\n",
    "from sklearn.preprocessing import LabelEncoder\n",
    "from sklearn.preprocessing import StandardScaler\n",
    "from sklearn.model_selection import train_test_split\n",
    "from sklearn.linear_model import LogisticRegression\n",
    "\n",
    "import tensorflow as tf\n",
    "\n",
    "# Input data files are available in the read-only \"../input/\" directory\n",
    "# For example, running this (by clicking run or pressing Shift+Enter) will list all files under the input directory\n",
    "\n",
    "import os\n",
    "for dirname, _, filenames in os.walk('/kaggle/input'):\n",
    "    for filename in filenames:\n",
    "        print(os.path.join(dirname, filename))\n",
    "\n",
    "# You can write up to 20GB to the current directory (/kaggle/working/) that gets preserved as output when you create a version using \"Save & Run All\" \n",
    "# You can also write temporary files to /kaggle/temp/, but they won't be saved outside of the current session"
   ]
  },
  {
   "cell_type": "code",
   "execution_count": 2,
   "id": "metallic-jungle",
   "metadata": {
    "execution": {
     "iopub.execute_input": "2021-07-02T05:42:26.979737Z",
     "iopub.status.busy": "2021-07-02T05:42:26.979086Z",
     "iopub.status.idle": "2021-07-02T05:42:26.992725Z",
     "shell.execute_reply": "2021-07-02T05:42:26.992120Z",
     "shell.execute_reply.started": "2021-07-02T04:49:43.444601Z"
    },
    "papermill": {
     "duration": 0.037,
     "end_time": "2021-07-02T05:42:26.992893",
     "exception": false,
     "start_time": "2021-07-02T05:42:26.955893",
     "status": "completed"
    },
    "tags": []
   },
   "outputs": [],
   "source": [
    "data = pd.read_csv('../input/fish-market/Fish.csv')"
   ]
  },
  {
   "cell_type": "code",
   "execution_count": 3,
   "id": "operational-aerospace",
   "metadata": {
    "execution": {
     "iopub.execute_input": "2021-07-02T05:42:27.040894Z",
     "iopub.status.busy": "2021-07-02T05:42:27.040161Z",
     "iopub.status.idle": "2021-07-02T05:42:27.073644Z",
     "shell.execute_reply": "2021-07-02T05:42:27.074183Z",
     "shell.execute_reply.started": "2021-07-02T04:49:46.895971Z"
    },
    "papermill": {
     "duration": 0.06204,
     "end_time": "2021-07-02T05:42:27.074377",
     "exception": false,
     "start_time": "2021-07-02T05:42:27.012337",
     "status": "completed"
    },
    "tags": []
   },
   "outputs": [
    {
     "data": {
      "text/html": [
       "<div>\n",
       "<style scoped>\n",
       "    .dataframe tbody tr th:only-of-type {\n",
       "        vertical-align: middle;\n",
       "    }\n",
       "\n",
       "    .dataframe tbody tr th {\n",
       "        vertical-align: top;\n",
       "    }\n",
       "\n",
       "    .dataframe thead th {\n",
       "        text-align: right;\n",
       "    }\n",
       "</style>\n",
       "<table border=\"1\" class=\"dataframe\">\n",
       "  <thead>\n",
       "    <tr style=\"text-align: right;\">\n",
       "      <th></th>\n",
       "      <th>Species</th>\n",
       "      <th>Weight</th>\n",
       "      <th>Length1</th>\n",
       "      <th>Length2</th>\n",
       "      <th>Length3</th>\n",
       "      <th>Height</th>\n",
       "      <th>Width</th>\n",
       "    </tr>\n",
       "  </thead>\n",
       "  <tbody>\n",
       "    <tr>\n",
       "      <th>0</th>\n",
       "      <td>Bream</td>\n",
       "      <td>242.0</td>\n",
       "      <td>23.2</td>\n",
       "      <td>25.4</td>\n",
       "      <td>30.0</td>\n",
       "      <td>11.5200</td>\n",
       "      <td>4.0200</td>\n",
       "    </tr>\n",
       "    <tr>\n",
       "      <th>1</th>\n",
       "      <td>Bream</td>\n",
       "      <td>290.0</td>\n",
       "      <td>24.0</td>\n",
       "      <td>26.3</td>\n",
       "      <td>31.2</td>\n",
       "      <td>12.4800</td>\n",
       "      <td>4.3056</td>\n",
       "    </tr>\n",
       "    <tr>\n",
       "      <th>2</th>\n",
       "      <td>Bream</td>\n",
       "      <td>340.0</td>\n",
       "      <td>23.9</td>\n",
       "      <td>26.5</td>\n",
       "      <td>31.1</td>\n",
       "      <td>12.3778</td>\n",
       "      <td>4.6961</td>\n",
       "    </tr>\n",
       "    <tr>\n",
       "      <th>3</th>\n",
       "      <td>Bream</td>\n",
       "      <td>363.0</td>\n",
       "      <td>26.3</td>\n",
       "      <td>29.0</td>\n",
       "      <td>33.5</td>\n",
       "      <td>12.7300</td>\n",
       "      <td>4.4555</td>\n",
       "    </tr>\n",
       "    <tr>\n",
       "      <th>4</th>\n",
       "      <td>Bream</td>\n",
       "      <td>430.0</td>\n",
       "      <td>26.5</td>\n",
       "      <td>29.0</td>\n",
       "      <td>34.0</td>\n",
       "      <td>12.4440</td>\n",
       "      <td>5.1340</td>\n",
       "    </tr>\n",
       "    <tr>\n",
       "      <th>...</th>\n",
       "      <td>...</td>\n",
       "      <td>...</td>\n",
       "      <td>...</td>\n",
       "      <td>...</td>\n",
       "      <td>...</td>\n",
       "      <td>...</td>\n",
       "      <td>...</td>\n",
       "    </tr>\n",
       "    <tr>\n",
       "      <th>154</th>\n",
       "      <td>Smelt</td>\n",
       "      <td>12.2</td>\n",
       "      <td>11.5</td>\n",
       "      <td>12.2</td>\n",
       "      <td>13.4</td>\n",
       "      <td>2.0904</td>\n",
       "      <td>1.3936</td>\n",
       "    </tr>\n",
       "    <tr>\n",
       "      <th>155</th>\n",
       "      <td>Smelt</td>\n",
       "      <td>13.4</td>\n",
       "      <td>11.7</td>\n",
       "      <td>12.4</td>\n",
       "      <td>13.5</td>\n",
       "      <td>2.4300</td>\n",
       "      <td>1.2690</td>\n",
       "    </tr>\n",
       "    <tr>\n",
       "      <th>156</th>\n",
       "      <td>Smelt</td>\n",
       "      <td>12.2</td>\n",
       "      <td>12.1</td>\n",
       "      <td>13.0</td>\n",
       "      <td>13.8</td>\n",
       "      <td>2.2770</td>\n",
       "      <td>1.2558</td>\n",
       "    </tr>\n",
       "    <tr>\n",
       "      <th>157</th>\n",
       "      <td>Smelt</td>\n",
       "      <td>19.7</td>\n",
       "      <td>13.2</td>\n",
       "      <td>14.3</td>\n",
       "      <td>15.2</td>\n",
       "      <td>2.8728</td>\n",
       "      <td>2.0672</td>\n",
       "    </tr>\n",
       "    <tr>\n",
       "      <th>158</th>\n",
       "      <td>Smelt</td>\n",
       "      <td>19.9</td>\n",
       "      <td>13.8</td>\n",
       "      <td>15.0</td>\n",
       "      <td>16.2</td>\n",
       "      <td>2.9322</td>\n",
       "      <td>1.8792</td>\n",
       "    </tr>\n",
       "  </tbody>\n",
       "</table>\n",
       "<p>159 rows × 7 columns</p>\n",
       "</div>"
      ],
      "text/plain": [
       "    Species  Weight  Length1  Length2  Length3   Height   Width\n",
       "0     Bream   242.0     23.2     25.4     30.0  11.5200  4.0200\n",
       "1     Bream   290.0     24.0     26.3     31.2  12.4800  4.3056\n",
       "2     Bream   340.0     23.9     26.5     31.1  12.3778  4.6961\n",
       "3     Bream   363.0     26.3     29.0     33.5  12.7300  4.4555\n",
       "4     Bream   430.0     26.5     29.0     34.0  12.4440  5.1340\n",
       "..      ...     ...      ...      ...      ...      ...     ...\n",
       "154   Smelt    12.2     11.5     12.2     13.4   2.0904  1.3936\n",
       "155   Smelt    13.4     11.7     12.4     13.5   2.4300  1.2690\n",
       "156   Smelt    12.2     12.1     13.0     13.8   2.2770  1.2558\n",
       "157   Smelt    19.7     13.2     14.3     15.2   2.8728  2.0672\n",
       "158   Smelt    19.9     13.8     15.0     16.2   2.9322  1.8792\n",
       "\n",
       "[159 rows x 7 columns]"
      ]
     },
     "execution_count": 3,
     "metadata": {},
     "output_type": "execute_result"
    }
   ],
   "source": [
    "data"
   ]
  },
  {
   "cell_type": "code",
   "execution_count": 4,
   "id": "grand-spouse",
   "metadata": {
    "execution": {
     "iopub.execute_input": "2021-07-02T05:42:27.120309Z",
     "iopub.status.busy": "2021-07-02T05:42:27.119619Z",
     "iopub.status.idle": "2021-07-02T05:42:27.125189Z",
     "shell.execute_reply": "2021-07-02T05:42:27.125700Z",
     "shell.execute_reply.started": "2021-07-02T04:50:05.69547Z"
    },
    "papermill": {
     "duration": 0.032218,
     "end_time": "2021-07-02T05:42:27.125881",
     "exception": false,
     "start_time": "2021-07-02T05:42:27.093663",
     "status": "completed"
    },
    "tags": []
   },
   "outputs": [
    {
     "data": {
      "text/plain": [
       "Species    False\n",
       "Weight     False\n",
       "Length1    False\n",
       "Length2    False\n",
       "Length3    False\n",
       "Height     False\n",
       "Width      False\n",
       "dtype: bool"
      ]
     },
     "execution_count": 4,
     "metadata": {},
     "output_type": "execute_result"
    }
   ],
   "source": [
    "data.isnull().any()"
   ]
  },
  {
   "cell_type": "markdown",
   "id": "asian-samoa",
   "metadata": {
    "papermill": {
     "duration": 0.019106,
     "end_time": "2021-07-02T05:42:27.164469",
     "exception": false,
     "start_time": "2021-07-02T05:42:27.145363",
     "status": "completed"
    },
    "tags": []
   },
   "source": [
    "# Preprocessing 🛠️"
   ]
  },
  {
   "cell_type": "code",
   "execution_count": 5,
   "id": "solar-virginia",
   "metadata": {
    "execution": {
     "iopub.execute_input": "2021-07-02T05:42:27.207034Z",
     "iopub.status.busy": "2021-07-02T05:42:27.206073Z",
     "iopub.status.idle": "2021-07-02T05:42:27.216451Z",
     "shell.execute_reply": "2021-07-02T05:42:27.215918Z",
     "shell.execute_reply.started": "2021-07-02T04:54:24.08364Z"
    },
    "papermill": {
     "duration": 0.032843,
     "end_time": "2021-07-02T05:42:27.216595",
     "exception": false,
     "start_time": "2021-07-02T05:42:27.183752",
     "status": "completed"
    },
    "tags": []
   },
   "outputs": [
    {
     "data": {
      "text/plain": [
       "7"
      ]
     },
     "execution_count": 5,
     "metadata": {},
     "output_type": "execute_result"
    }
   ],
   "source": [
    "len(list(data['Species'].unique()))"
   ]
  },
  {
   "cell_type": "code",
   "execution_count": 6,
   "id": "continental-gravity",
   "metadata": {
    "execution": {
     "iopub.execute_input": "2021-07-02T05:42:27.264014Z",
     "iopub.status.busy": "2021-07-02T05:42:27.263111Z",
     "iopub.status.idle": "2021-07-02T05:42:27.267071Z",
     "shell.execute_reply": "2021-07-02T05:42:27.266535Z",
     "shell.execute_reply.started": "2021-07-02T04:56:19.20214Z"
    },
    "papermill": {
     "duration": 0.030769,
     "end_time": "2021-07-02T05:42:27.267208",
     "exception": false,
     "start_time": "2021-07-02T05:42:27.236439",
     "status": "completed"
    },
    "tags": []
   },
   "outputs": [
    {
     "data": {
      "text/plain": [
       "{0: 'Bream',\n",
       " 1: 'Parkki',\n",
       " 2: 'Perch',\n",
       " 3: 'Pike',\n",
       " 4: 'Roach',\n",
       " 5: 'Smelt',\n",
       " 6: 'Whitefish'}"
      ]
     },
     "execution_count": 6,
     "metadata": {},
     "output_type": "execute_result"
    }
   ],
   "source": [
    "encoder = LabelEncoder()\n",
    "data['Species'] = encoder.fit_transform(data['Species'])\n",
    "\n",
    "fish_type = {index: type for index, type in enumerate(encoder.classes_)}\n",
    "fish_type"
   ]
  },
  {
   "cell_type": "code",
   "execution_count": 7,
   "id": "arbitrary-devices",
   "metadata": {
    "execution": {
     "iopub.execute_input": "2021-07-02T05:42:27.311163Z",
     "iopub.status.busy": "2021-07-02T05:42:27.310228Z",
     "iopub.status.idle": "2021-07-02T05:42:28.038911Z",
     "shell.execute_reply": "2021-07-02T05:42:28.039431Z",
     "shell.execute_reply.started": "2021-07-02T04:56:28.982978Z"
    },
    "papermill": {
     "duration": 0.752123,
     "end_time": "2021-07-02T05:42:28.039608",
     "exception": false,
     "start_time": "2021-07-02T05:42:27.287485",
     "status": "completed"
    },
    "tags": []
   },
   "outputs": [
    {
     "data": {
      "image/png": "[encoded data removed]",
      "text/plain": [
       "<Figure size 864x720 with 2 Axes>"
      ]
     },
     "metadata": {
      "needs_background": "light"
     },
     "output_type": "display_data"
    }
   ],
   "source": [
    "plt.figure(figsize = (12, 10))\n",
    "sns.heatmap(data.corr(), annot = True)\n",
    "plt.show()"
   ]
  },
  {
   "cell_type": "code",
   "execution_count": 8,
   "id": "played-structure",
   "metadata": {
    "execution": {
     "iopub.execute_input": "2021-07-02T05:42:28.090088Z",
     "iopub.status.busy": "2021-07-02T05:42:28.089375Z",
     "iopub.status.idle": "2021-07-02T05:42:28.092314Z",
     "shell.execute_reply": "2021-07-02T05:42:28.091777Z",
     "shell.execute_reply.started": "2021-07-02T05:03:04.820689Z"
    },
    "papermill": {
     "duration": 0.030154,
     "end_time": "2021-07-02T05:42:28.092448",
     "exception": false,
     "start_time": "2021-07-02T05:42:28.062294",
     "status": "completed"
    },
    "tags": []
   },
   "outputs": [],
   "source": [
    "X = data.drop('Species', axis = 1)\n",
    "y = data['Species']"
   ]
  },
  {
   "cell_type": "code",
   "execution_count": 9,
   "id": "beautiful-accessory",
   "metadata": {
    "execution": {
     "iopub.execute_input": "2021-07-02T05:42:28.154556Z",
     "iopub.status.busy": "2021-07-02T05:42:28.153412Z",
     "iopub.status.idle": "2021-07-02T05:42:28.157719Z",
     "shell.execute_reply": "2021-07-02T05:42:28.158284Z",
     "shell.execute_reply.started": "2021-07-02T05:03:07.497451Z"
    },
    "papermill": {
     "duration": 0.044212,
     "end_time": "2021-07-02T05:42:28.158452",
     "exception": false,
     "start_time": "2021-07-02T05:42:28.114240",
     "status": "completed"
    },
    "tags": []
   },
   "outputs": [
    {
     "data": {
      "text/html": [
       "<div>\n",
       "<style scoped>\n",
       "    .dataframe tbody tr th:only-of-type {\n",
       "        vertical-align: middle;\n",
       "    }\n",
       "\n",
       "    .dataframe tbody tr th {\n",
       "        vertical-align: top;\n",
       "    }\n",
       "\n",
       "    .dataframe thead th {\n",
       "        text-align: right;\n",
       "    }\n",
       "</style>\n",
       "<table border=\"1\" class=\"dataframe\">\n",
       "  <thead>\n",
       "    <tr style=\"text-align: right;\">\n",
       "      <th></th>\n",
       "      <th>Weight</th>\n",
       "      <th>Length1</th>\n",
       "      <th>Length2</th>\n",
       "      <th>Length3</th>\n",
       "      <th>Height</th>\n",
       "      <th>Width</th>\n",
       "    </tr>\n",
       "  </thead>\n",
       "  <tbody>\n",
       "    <tr>\n",
       "      <th>0</th>\n",
       "      <td>242.0</td>\n",
       "      <td>23.2</td>\n",
       "      <td>25.4</td>\n",
       "      <td>30.0</td>\n",
       "      <td>11.5200</td>\n",
       "      <td>4.0200</td>\n",
       "    </tr>\n",
       "    <tr>\n",
       "      <th>1</th>\n",
       "      <td>290.0</td>\n",
       "      <td>24.0</td>\n",
       "      <td>26.3</td>\n",
       "      <td>31.2</td>\n",
       "      <td>12.4800</td>\n",
       "      <td>4.3056</td>\n",
       "    </tr>\n",
       "    <tr>\n",
       "      <th>2</th>\n",
       "      <td>340.0</td>\n",
       "      <td>23.9</td>\n",
       "      <td>26.5</td>\n",
       "      <td>31.1</td>\n",
       "      <td>12.3778</td>\n",
       "      <td>4.6961</td>\n",
       "    </tr>\n",
       "    <tr>\n",
       "      <th>3</th>\n",
       "      <td>363.0</td>\n",
       "      <td>26.3</td>\n",
       "      <td>29.0</td>\n",
       "      <td>33.5</td>\n",
       "      <td>12.7300</td>\n",
       "      <td>4.4555</td>\n",
       "    </tr>\n",
       "    <tr>\n",
       "      <th>4</th>\n",
       "      <td>430.0</td>\n",
       "      <td>26.5</td>\n",
       "      <td>29.0</td>\n",
       "      <td>34.0</td>\n",
       "      <td>12.4440</td>\n",
       "      <td>5.1340</td>\n",
       "    </tr>\n",
       "    <tr>\n",
       "      <th>...</th>\n",
       "      <td>...</td>\n",
       "      <td>...</td>\n",
       "      <td>...</td>\n",
       "      <td>...</td>\n",
       "      <td>...</td>\n",
       "      <td>...</td>\n",
       "    </tr>\n",
       "    <tr>\n",
       "      <th>154</th>\n",
       "      <td>12.2</td>\n",
       "      <td>11.5</td>\n",
       "      <td>12.2</td>\n",
       "      <td>13.4</td>\n",
       "      <td>2.0904</td>\n",
       "      <td>1.3936</td>\n",
       "    </tr>\n",
       "    <tr>\n",
       "      <th>155</th>\n",
       "      <td>13.4</td>\n",
       "      <td>11.7</td>\n",
       "      <td>12.4</td>\n",
       "      <td>13.5</td>\n",
       "      <td>2.4300</td>\n",
       "      <td>1.2690</td>\n",
       "    </tr>\n",
       "    <tr>\n",
       "      <th>156</th>\n",
       "      <td>12.2</td>\n",
       "      <td>12.1</td>\n",
       "      <td>13.0</td>\n",
       "      <td>13.8</td>\n",
       "      <td>2.2770</td>\n",
       "      <td>1.2558</td>\n",
       "    </tr>\n",
       "    <tr>\n",
       "      <th>157</th>\n",
       "      <td>19.7</td>\n",
       "      <td>13.2</td>\n",
       "      <td>14.3</td>\n",
       "      <td>15.2</td>\n",
       "      <td>2.8728</td>\n",
       "      <td>2.0672</td>\n",
       "    </tr>\n",
       "    <tr>\n",
       "      <th>158</th>\n",
       "      <td>19.9</td>\n",
       "      <td>13.8</td>\n",
       "      <td>15.0</td>\n",
       "      <td>16.2</td>\n",
       "      <td>2.9322</td>\n",
       "      <td>1.8792</td>\n",
       "    </tr>\n",
       "  </tbody>\n",
       "</table>\n",
       "<p>159 rows × 6 columns</p>\n",
       "</div>"
      ],
      "text/plain": [
       "     Weight  Length1  Length2  Length3   Height   Width\n",
       "0     242.0     23.2     25.4     30.0  11.5200  4.0200\n",
       "1     290.0     24.0     26.3     31.2  12.4800  4.3056\n",
       "2     340.0     23.9     26.5     31.1  12.3778  4.6961\n",
       "3     363.0     26.3     29.0     33.5  12.7300  4.4555\n",
       "4     430.0     26.5     29.0     34.0  12.4440  5.1340\n",
       "..      ...      ...      ...      ...      ...     ...\n",
       "154    12.2     11.5     12.2     13.4   2.0904  1.3936\n",
       "155    13.4     11.7     12.4     13.5   2.4300  1.2690\n",
       "156    12.2     12.1     13.0     13.8   2.2770  1.2558\n",
       "157    19.7     13.2     14.3     15.2   2.8728  2.0672\n",
       "158    19.9     13.8     15.0     16.2   2.9322  1.8792\n",
       "\n",
       "[159 rows x 6 columns]"
      ]
     },
     "execution_count": 9,
     "metadata": {},
     "output_type": "execute_result"
    }
   ],
   "source": [
    "X"
   ]
  },
  {
   "cell_type": "code",
   "execution_count": 10,
   "id": "intelligent-rogers",
   "metadata": {
    "execution": {
     "iopub.execute_input": "2021-07-02T05:42:28.206240Z",
     "iopub.status.busy": "2021-07-02T05:42:28.205607Z",
     "iopub.status.idle": "2021-07-02T05:42:28.213985Z",
     "shell.execute_reply": "2021-07-02T05:42:28.214516Z",
     "shell.execute_reply.started": "2021-07-02T05:06:09.285039Z"
    },
    "papermill": {
     "duration": 0.033576,
     "end_time": "2021-07-02T05:42:28.214687",
     "exception": false,
     "start_time": "2021-07-02T05:42:28.181111",
     "status": "completed"
    },
    "tags": []
   },
   "outputs": [],
   "source": [
    "scaler = StandardScaler()\n",
    "X = pd.DataFrame(scaler.fit_transform(X), columns = X.columns)"
   ]
  },
  {
   "cell_type": "code",
   "execution_count": 11,
   "id": "nutritional-syria",
   "metadata": {
    "execution": {
     "iopub.execute_input": "2021-07-02T05:42:28.262001Z",
     "iopub.status.busy": "2021-07-02T05:42:28.261313Z",
     "iopub.status.idle": "2021-07-02T05:42:28.277882Z",
     "shell.execute_reply": "2021-07-02T05:42:28.278394Z",
     "shell.execute_reply.started": "2021-07-02T05:06:12.182241Z"
    },
    "papermill": {
     "duration": 0.041711,
     "end_time": "2021-07-02T05:42:28.278563",
     "exception": false,
     "start_time": "2021-07-02T05:42:28.236852",
     "status": "completed"
    },
    "tags": []
   },
   "outputs": [
    {
     "data": {
      "text/html": [
       "<div>\n",
       "<style scoped>\n",
       "    .dataframe tbody tr th:only-of-type {\n",
       "        vertical-align: middle;\n",
       "    }\n",
       "\n",
       "    .dataframe tbody tr th {\n",
       "        vertical-align: top;\n",
       "    }\n",
       "\n",
       "    .dataframe thead th {\n",
       "        text-align: right;\n",
       "    }\n",
       "</style>\n",
       "<table border=\"1\" class=\"dataframe\">\n",
       "  <thead>\n",
       "    <tr style=\"text-align: right;\">\n",
       "      <th></th>\n",
       "      <th>Weight</th>\n",
       "      <th>Length1</th>\n",
       "      <th>Length2</th>\n",
       "      <th>Length3</th>\n",
       "      <th>Height</th>\n",
       "      <th>Width</th>\n",
       "    </tr>\n",
       "  </thead>\n",
       "  <tbody>\n",
       "    <tr>\n",
       "      <th>0</th>\n",
       "      <td>-0.438072</td>\n",
       "      <td>-0.305789</td>\n",
       "      <td>-0.282303</td>\n",
       "      <td>-0.106020</td>\n",
       "      <td>0.596579</td>\n",
       "      <td>-0.236529</td>\n",
       "    </tr>\n",
       "    <tr>\n",
       "      <th>1</th>\n",
       "      <td>-0.303562</td>\n",
       "      <td>-0.225507</td>\n",
       "      <td>-0.198054</td>\n",
       "      <td>-0.002337</td>\n",
       "      <td>0.821261</td>\n",
       "      <td>-0.066579</td>\n",
       "    </tr>\n",
       "    <tr>\n",
       "      <th>2</th>\n",
       "      <td>-0.163448</td>\n",
       "      <td>-0.235542</td>\n",
       "      <td>-0.179332</td>\n",
       "      <td>-0.010977</td>\n",
       "      <td>0.797341</td>\n",
       "      <td>0.165793</td>\n",
       "    </tr>\n",
       "    <tr>\n",
       "      <th>3</th>\n",
       "      <td>-0.098995</td>\n",
       "      <td>0.005302</td>\n",
       "      <td>0.054694</td>\n",
       "      <td>0.196390</td>\n",
       "      <td>0.879771</td>\n",
       "      <td>0.022621</td>\n",
       "    </tr>\n",
       "    <tr>\n",
       "      <th>4</th>\n",
       "      <td>0.088759</td>\n",
       "      <td>0.025372</td>\n",
       "      <td>0.054694</td>\n",
       "      <td>0.239592</td>\n",
       "      <td>0.812835</td>\n",
       "      <td>0.426371</td>\n",
       "    </tr>\n",
       "    <tr>\n",
       "      <th>...</th>\n",
       "      <td>...</td>\n",
       "      <td>...</td>\n",
       "      <td>...</td>\n",
       "      <td>...</td>\n",
       "      <td>...</td>\n",
       "      <td>...</td>\n",
       "    </tr>\n",
       "    <tr>\n",
       "      <th>154</th>\n",
       "      <td>-1.082039</td>\n",
       "      <td>-1.479903</td>\n",
       "      <td>-1.517960</td>\n",
       "      <td>-1.540309</td>\n",
       "      <td>-1.610359</td>\n",
       "      <td>-1.799403</td>\n",
       "    </tr>\n",
       "    <tr>\n",
       "      <th>155</th>\n",
       "      <td>-1.078676</td>\n",
       "      <td>-1.459833</td>\n",
       "      <td>-1.499238</td>\n",
       "      <td>-1.531669</td>\n",
       "      <td>-1.530878</td>\n",
       "      <td>-1.873547</td>\n",
       "    </tr>\n",
       "    <tr>\n",
       "      <th>156</th>\n",
       "      <td>-1.082039</td>\n",
       "      <td>-1.419692</td>\n",
       "      <td>-1.443072</td>\n",
       "      <td>-1.505748</td>\n",
       "      <td>-1.566687</td>\n",
       "      <td>-1.881402</td>\n",
       "    </tr>\n",
       "    <tr>\n",
       "      <th>157</th>\n",
       "      <td>-1.061022</td>\n",
       "      <td>-1.309305</td>\n",
       "      <td>-1.321378</td>\n",
       "      <td>-1.384784</td>\n",
       "      <td>-1.427243</td>\n",
       "      <td>-1.398568</td>\n",
       "    </tr>\n",
       "    <tr>\n",
       "      <th>158</th>\n",
       "      <td>-1.060461</td>\n",
       "      <td>-1.249094</td>\n",
       "      <td>-1.255851</td>\n",
       "      <td>-1.298381</td>\n",
       "      <td>-1.413341</td>\n",
       "      <td>-1.510440</td>\n",
       "    </tr>\n",
       "  </tbody>\n",
       "</table>\n",
       "<p>159 rows × 6 columns</p>\n",
       "</div>"
      ],
      "text/plain": [
       "       Weight   Length1   Length2   Length3    Height     Width\n",
       "0   -0.438072 -0.305789 -0.282303 -0.106020  0.596579 -0.236529\n",
       "1   -0.303562 -0.225507 -0.198054 -0.002337  0.821261 -0.066579\n",
       "2   -0.163448 -0.235542 -0.179332 -0.010977  0.797341  0.165793\n",
       "3   -0.098995  0.005302  0.054694  0.196390  0.879771  0.022621\n",
       "4    0.088759  0.025372  0.054694  0.239592  0.812835  0.426371\n",
       "..        ...       ...       ...       ...       ...       ...\n",
       "154 -1.082039 -1.479903 -1.517960 -1.540309 -1.610359 -1.799403\n",
       "155 -1.078676 -1.459833 -1.499238 -1.531669 -1.530878 -1.873547\n",
       "156 -1.082039 -1.419692 -1.443072 -1.505748 -1.566687 -1.881402\n",
       "157 -1.061022 -1.309305 -1.321378 -1.384784 -1.427243 -1.398568\n",
       "158 -1.060461 -1.249094 -1.255851 -1.298381 -1.413341 -1.510440\n",
       "\n",
       "[159 rows x 6 columns]"
      ]
     },
     "execution_count": 11,
     "metadata": {},
     "output_type": "execute_result"
    }
   ],
   "source": [
    "X"
   ]
  },
  {
   "cell_type": "markdown",
   "id": "collect-adventure",
   "metadata": {
    "papermill": {
     "duration": 0.02294,
     "end_time": "2021-07-02T05:42:28.324427",
     "exception": false,
     "start_time": "2021-07-02T05:42:28.301487",
     "status": "completed"
    },
    "tags": []
   },
   "source": [
    "# Model "
   ]
  },
  {
   "cell_type": "markdown",
   "id": "stone-phone",
   "metadata": {
    "papermill": {
     "duration": 0.023006,
     "end_time": "2021-07-02T05:42:28.370595",
     "exception": false,
     "start_time": "2021-07-02T05:42:28.347589",
     "status": "completed"
    },
    "tags": []
   },
   "source": [
    "## Logistic Regression Model 📏"
   ]
  },
  {
   "cell_type": "code",
   "execution_count": 12,
   "id": "federal-budget",
   "metadata": {
    "execution": {
     "iopub.execute_input": "2021-07-02T05:42:28.419842Z",
     "iopub.status.busy": "2021-07-02T05:42:28.419182Z",
     "iopub.status.idle": "2021-07-02T05:42:28.427025Z",
     "shell.execute_reply": "2021-07-02T05:42:28.426376Z",
     "shell.execute_reply.started": "2021-07-02T05:07:10.684596Z"
    },
    "papermill": {
     "duration": 0.033334,
     "end_time": "2021-07-02T05:42:28.427162",
     "exception": false,
     "start_time": "2021-07-02T05:42:28.393828",
     "status": "completed"
    },
    "tags": []
   },
   "outputs": [],
   "source": [
    "X_train, X_test, y_train, y_test = train_test_split(X, y, train_size = 0.7)"
   ]
  },
  {
   "cell_type": "markdown",
   "id": "abandoned-questionnaire",
   "metadata": {
    "papermill": {
     "duration": 0.02281,
     "end_time": "2021-07-02T05:42:28.472831",
     "exception": false,
     "start_time": "2021-07-02T05:42:28.450021",
     "status": "completed"
    },
    "tags": []
   },
   "source": [
    "### Logistic Regression Score 🎯"
   ]
  },
  {
   "cell_type": "code",
   "execution_count": 13,
   "id": "paperback-russian",
   "metadata": {
    "execution": {
     "iopub.execute_input": "2021-07-02T05:42:28.526535Z",
     "iopub.status.busy": "2021-07-02T05:42:28.525490Z",
     "iopub.status.idle": "2021-07-02T05:42:28.555527Z",
     "shell.execute_reply": "2021-07-02T05:42:28.554959Z",
     "shell.execute_reply.started": "2021-07-02T05:37:22.563551Z"
    },
    "papermill": {
     "duration": 0.060082,
     "end_time": "2021-07-02T05:42:28.555664",
     "exception": false,
     "start_time": "2021-07-02T05:42:28.495582",
     "status": "completed"
    },
    "tags": []
   },
   "outputs": [
    {
     "name": "stdout",
     "output_type": "stream",
     "text": [
      "83.33333333333334%\n"
     ]
    }
   ],
   "source": [
    "logistic_model = LogisticRegression()\n",
    "logistic_model.fit(X_train, y_train)\n",
    "\n",
    "print(str(logistic_model.score(X_test, y_test) * 100) + \"%\")"
   ]
  },
  {
   "cell_type": "markdown",
   "id": "prompt-lemon",
   "metadata": {
    "papermill": {
     "duration": 0.022928,
     "end_time": "2021-07-02T05:42:28.601668",
     "exception": false,
     "start_time": "2021-07-02T05:42:28.578740",
     "status": "completed"
    },
    "tags": []
   },
   "source": [
    "## Neural Network Model 🧠"
   ]
  },
  {
   "cell_type": "code",
   "execution_count": 14,
   "id": "jewish-reform",
   "metadata": {
    "execution": {
     "iopub.execute_input": "2021-07-02T05:42:28.656756Z",
     "iopub.status.busy": "2021-07-02T05:42:28.655887Z",
     "iopub.status.idle": "2021-07-02T05:42:39.527782Z",
     "shell.execute_reply": "2021-07-02T05:42:39.527039Z",
     "shell.execute_reply.started": "2021-07-02T05:30:46.336784Z"
    },
    "papermill": {
     "duration": 10.902874,
     "end_time": "2021-07-02T05:42:39.527938",
     "exception": false,
     "start_time": "2021-07-02T05:42:28.625064",
     "status": "completed"
    },
    "tags": []
   },
   "outputs": [
    {
     "name": "stdout",
     "output_type": "stream",
     "text": [
      "Epoch 1/150\n",
      "3/3 [==============================] - 1s 316ms/step - loss: 1.8936 - accuracy: 0.2092 - val_loss: 1.8884 - val_accuracy: 0.4783\n",
      "Epoch 2/150\n",
      "3/3 [==============================] - 0s 29ms/step - loss: 1.8505 - accuracy: 0.3920 - val_loss: 1.8347 - val_accuracy: 0.4783\n",
      "Epoch 3/150\n",
      "3/3 [==============================] - 0s 29ms/step - loss: 1.7820 - accuracy: 0.4616 - val_loss: 1.7908 - val_accuracy: 0.4783\n",
      "Epoch 4/150\n",
      "3/3 [==============================] - 0s 29ms/step - loss: 1.7740 - accuracy: 0.4304 - val_loss: 1.7548 - val_accuracy: 0.4783\n",
      "Epoch 5/150\n",
      "3/3 [==============================] - 0s 29ms/step - loss: 1.7471 - accuracy: 0.4631 - val_loss: 1.7222 - val_accuracy: 0.6087\n",
      "Epoch 6/150\n",
      "3/3 [==============================] - 0s 29ms/step - loss: 1.7349 - accuracy: 0.5671 - val_loss: 1.6892 - val_accuracy: 0.6087\n",
      "Epoch 7/150\n",
      "3/3 [==============================] - 0s 29ms/step - loss: 1.7080 - accuracy: 0.5632 - val_loss: 1.6621 - val_accuracy: 0.6087\n",
      "Epoch 8/150\n",
      "3/3 [==============================] - 0s 28ms/step - loss: 1.6565 - accuracy: 0.6101 - val_loss: 1.6318 - val_accuracy: 0.6087\n",
      "Epoch 9/150\n",
      "3/3 [==============================] - 0s 28ms/step - loss: 1.6583 - accuracy: 0.5614 - val_loss: 1.6054 - val_accuracy: 0.5652\n",
      "Epoch 10/150\n",
      "3/3 [==============================] - 0s 30ms/step - loss: 1.5944 - accuracy: 0.5653 - val_loss: 1.5743 - val_accuracy: 0.5652\n",
      "Epoch 11/150\n",
      "3/3 [==============================] - 0s 29ms/step - loss: 1.6062 - accuracy: 0.5341 - val_loss: 1.5425 - val_accuracy: 0.6087\n",
      "Epoch 12/150\n",
      "3/3 [==============================] - 0s 29ms/step - loss: 1.5937 - accuracy: 0.5380 - val_loss: 1.5093 - val_accuracy: 0.6087\n",
      "Epoch 13/150\n",
      "3/3 [==============================] - 0s 30ms/step - loss: 1.5417 - accuracy: 0.5692 - val_loss: 1.4743 - val_accuracy: 0.6087\n",
      "Epoch 14/150\n",
      "3/3 [==============================] - 0s 29ms/step - loss: 1.4895 - accuracy: 0.5927 - val_loss: 1.4387 - val_accuracy: 0.6087\n",
      "Epoch 15/150\n",
      "3/3 [==============================] - 0s 29ms/step - loss: 1.5143 - accuracy: 0.5575 - val_loss: 1.4122 - val_accuracy: 0.6087\n",
      "Epoch 16/150\n",
      "3/3 [==============================] - 0s 30ms/step - loss: 1.4554 - accuracy: 0.5810 - val_loss: 1.3832 - val_accuracy: 0.6087\n",
      "Epoch 17/150\n",
      "3/3 [==============================] - 0s 29ms/step - loss: 1.3689 - accuracy: 0.6122 - val_loss: 1.3520 - val_accuracy: 0.6087\n",
      "Epoch 18/150\n",
      "3/3 [==============================] - 0s 29ms/step - loss: 1.3965 - accuracy: 0.5732 - val_loss: 1.3104 - val_accuracy: 0.6087\n",
      "Epoch 19/150\n",
      "3/3 [==============================] - 0s 29ms/step - loss: 1.3966 - accuracy: 0.5732 - val_loss: 1.2731 - val_accuracy: 0.6087\n",
      "Epoch 20/150\n",
      "3/3 [==============================] - 0s 28ms/step - loss: 1.3379 - accuracy: 0.5888 - val_loss: 1.2271 - val_accuracy: 0.6522\n",
      "Epoch 21/150\n",
      "3/3 [==============================] - 0s 29ms/step - loss: 1.3216 - accuracy: 0.5945 - val_loss: 1.1804 - val_accuracy: 0.6522\n",
      "Epoch 22/150\n",
      "3/3 [==============================] - 0s 29ms/step - loss: 1.3093 - accuracy: 0.6001 - val_loss: 1.1272 - val_accuracy: 0.6522\n",
      "Epoch 23/150\n",
      "3/3 [==============================] - 0s 29ms/step - loss: 1.3072 - accuracy: 0.6097 - val_loss: 1.0739 - val_accuracy: 0.6522\n",
      "Epoch 24/150\n",
      "3/3 [==============================] - 0s 29ms/step - loss: 1.2408 - accuracy: 0.6445 - val_loss: 1.0239 - val_accuracy: 0.6957\n",
      "Epoch 25/150\n",
      "3/3 [==============================] - 0s 29ms/step - loss: 1.2110 - accuracy: 0.6832 - val_loss: 0.9779 - val_accuracy: 0.6957\n",
      "Epoch 26/150\n",
      "3/3 [==============================] - 0s 28ms/step - loss: 1.2374 - accuracy: 0.6403 - val_loss: 0.9387 - val_accuracy: 0.7391\n",
      "Epoch 27/150\n",
      "3/3 [==============================] - 0s 27ms/step - loss: 1.2752 - accuracy: 0.6246 - val_loss: 0.9064 - val_accuracy: 0.7826\n",
      "Epoch 28/150\n",
      "3/3 [==============================] - 0s 36ms/step - loss: 1.1854 - accuracy: 0.6325 - val_loss: 0.8812 - val_accuracy: 0.7826\n",
      "Epoch 29/150\n",
      "3/3 [==============================] - 0s 35ms/step - loss: 1.1831 - accuracy: 0.6364 - val_loss: 0.8555 - val_accuracy: 0.7826\n",
      "Epoch 30/150\n",
      "3/3 [==============================] - 0s 29ms/step - loss: 1.1050 - accuracy: 0.6598 - val_loss: 0.8302 - val_accuracy: 0.7826\n",
      "Epoch 31/150\n",
      "3/3 [==============================] - 0s 28ms/step - loss: 1.1317 - accuracy: 0.6598 - val_loss: 0.8072 - val_accuracy: 0.7826\n",
      "Epoch 32/150\n",
      "3/3 [==============================] - 0s 30ms/step - loss: 1.1828 - accuracy: 0.6207 - val_loss: 0.7842 - val_accuracy: 0.7826\n",
      "Epoch 33/150\n",
      "3/3 [==============================] - 0s 29ms/step - loss: 1.1022 - accuracy: 0.6481 - val_loss: 0.7630 - val_accuracy: 0.7826\n",
      "Epoch 34/150\n",
      "3/3 [==============================] - 0s 29ms/step - loss: 1.1154 - accuracy: 0.6286 - val_loss: 0.7429 - val_accuracy: 0.7826\n",
      "Epoch 35/150\n",
      "3/3 [==============================] - 0s 28ms/step - loss: 1.1221 - accuracy: 0.6207 - val_loss: 0.7228 - val_accuracy: 0.8261\n",
      "Epoch 36/150\n",
      "3/3 [==============================] - 0s 28ms/step - loss: 1.0771 - accuracy: 0.6325 - val_loss: 0.7031 - val_accuracy: 0.8261\n",
      "Epoch 37/150\n",
      "3/3 [==============================] - 0s 28ms/step - loss: 1.0276 - accuracy: 0.6637 - val_loss: 0.6827 - val_accuracy: 0.8261\n",
      "Epoch 38/150\n",
      "3/3 [==============================] - 0s 28ms/step - loss: 1.0366 - accuracy: 0.6403 - val_loss: 0.6644 - val_accuracy: 0.8261\n",
      "Epoch 39/150\n",
      "3/3 [==============================] - 0s 28ms/step - loss: 1.0550 - accuracy: 0.6129 - val_loss: 0.6485 - val_accuracy: 0.8261\n",
      "Epoch 40/150\n",
      "3/3 [==============================] - 0s 28ms/step - loss: 0.9918 - accuracy: 0.6520 - val_loss: 0.6334 - val_accuracy: 0.8261\n",
      "Epoch 41/150\n",
      "3/3 [==============================] - 0s 30ms/step - loss: 0.9494 - accuracy: 0.6715 - val_loss: 0.6208 - val_accuracy: 0.8261\n",
      "Epoch 42/150\n",
      "3/3 [==============================] - 0s 30ms/step - loss: 0.9255 - accuracy: 0.6559 - val_loss: 0.6084 - val_accuracy: 0.8261\n",
      "Epoch 43/150\n",
      "3/3 [==============================] - 0s 29ms/step - loss: 0.9297 - accuracy: 0.6598 - val_loss: 0.5967 - val_accuracy: 0.8261\n",
      "Epoch 44/150\n",
      "3/3 [==============================] - 0s 29ms/step - loss: 0.9240 - accuracy: 0.6481 - val_loss: 0.5862 - val_accuracy: 0.8261\n",
      "Epoch 45/150\n",
      "3/3 [==============================] - 0s 29ms/step - loss: 0.8675 - accuracy: 0.6754 - val_loss: 0.5760 - val_accuracy: 0.8261\n",
      "Epoch 46/150\n",
      "3/3 [==============================] - 0s 29ms/step - loss: 0.9025 - accuracy: 0.6559 - val_loss: 0.5659 - val_accuracy: 0.8261\n",
      "Epoch 47/150\n",
      "3/3 [==============================] - 0s 30ms/step - loss: 0.9039 - accuracy: 0.6538 - val_loss: 0.5561 - val_accuracy: 0.8261\n",
      "Epoch 48/150\n",
      "3/3 [==============================] - 0s 29ms/step - loss: 0.9491 - accuracy: 0.6321 - val_loss: 0.5476 - val_accuracy: 0.8261\n",
      "Epoch 49/150\n",
      "3/3 [==============================] - 0s 29ms/step - loss: 0.8161 - accuracy: 0.7216 - val_loss: 0.5379 - val_accuracy: 0.8261\n",
      "Epoch 50/150\n",
      "3/3 [==============================] - 0s 30ms/step - loss: 0.8343 - accuracy: 0.7230 - val_loss: 0.5285 - val_accuracy: 0.8261\n",
      "Epoch 51/150\n",
      "3/3 [==============================] - 0s 28ms/step - loss: 0.8451 - accuracy: 0.7074 - val_loss: 0.5201 - val_accuracy: 0.8696\n",
      "Epoch 52/150\n",
      "3/3 [==============================] - 0s 29ms/step - loss: 0.8217 - accuracy: 0.7152 - val_loss: 0.5116 - val_accuracy: 0.8696\n",
      "Epoch 53/150\n",
      "3/3 [==============================] - 0s 29ms/step - loss: 0.8251 - accuracy: 0.7347 - val_loss: 0.5050 - val_accuracy: 0.8696\n",
      "Epoch 54/150\n",
      "3/3 [==============================] - 0s 29ms/step - loss: 0.7874 - accuracy: 0.7113 - val_loss: 0.4992 - val_accuracy: 0.8696\n",
      "Epoch 55/150\n",
      "3/3 [==============================] - 0s 28ms/step - loss: 0.7386 - accuracy: 0.7212 - val_loss: 0.4920 - val_accuracy: 0.8696\n",
      "Epoch 56/150\n",
      "3/3 [==============================] - 0s 29ms/step - loss: 0.7630 - accuracy: 0.7134 - val_loss: 0.4862 - val_accuracy: 0.8696\n",
      "Epoch 57/150\n",
      "3/3 [==============================] - 0s 29ms/step - loss: 0.7476 - accuracy: 0.7134 - val_loss: 0.4811 - val_accuracy: 0.8696\n",
      "Epoch 58/150\n",
      "3/3 [==============================] - 0s 29ms/step - loss: 0.7289 - accuracy: 0.7017 - val_loss: 0.4762 - val_accuracy: 0.8696\n",
      "Epoch 59/150\n",
      "3/3 [==============================] - 0s 29ms/step - loss: 0.7496 - accuracy: 0.7017 - val_loss: 0.4723 - val_accuracy: 0.8696\n",
      "Epoch 60/150\n",
      "3/3 [==============================] - 0s 29ms/step - loss: 0.7583 - accuracy: 0.6744 - val_loss: 0.4665 - val_accuracy: 0.8696\n",
      "Epoch 61/150\n",
      "3/3 [==============================] - 0s 30ms/step - loss: 0.6584 - accuracy: 0.7251 - val_loss: 0.4615 - val_accuracy: 0.8696\n",
      "Epoch 62/150\n",
      "3/3 [==============================] - 0s 29ms/step - loss: 0.6657 - accuracy: 0.7447 - val_loss: 0.4573 - val_accuracy: 0.8696\n",
      "Epoch 63/150\n",
      "3/3 [==============================] - 0s 28ms/step - loss: 0.6580 - accuracy: 0.7273 - val_loss: 0.4547 - val_accuracy: 0.8696\n",
      "Epoch 64/150\n",
      "3/3 [==============================] - 0s 30ms/step - loss: 0.7337 - accuracy: 0.6822 - val_loss: 0.4547 - val_accuracy: 0.8696\n",
      "Epoch 65/150\n",
      "3/3 [==============================] - 0s 30ms/step - loss: 0.6358 - accuracy: 0.7408 - val_loss: 0.4525 - val_accuracy: 0.8696\n",
      "Epoch 66/150\n",
      "3/3 [==============================] - 0s 29ms/step - loss: 0.6928 - accuracy: 0.6900 - val_loss: 0.4504 - val_accuracy: 0.8696\n",
      "Epoch 67/150\n",
      "3/3 [==============================] - 0s 28ms/step - loss: 0.6571 - accuracy: 0.6939 - val_loss: 0.4455 - val_accuracy: 0.8696\n",
      "Epoch 68/150\n",
      "3/3 [==============================] - 0s 28ms/step - loss: 0.6346 - accuracy: 0.6921 - val_loss: 0.4425 - val_accuracy: 0.8696\n",
      "Epoch 69/150\n",
      "3/3 [==============================] - 0s 29ms/step - loss: 0.6756 - accuracy: 0.6804 - val_loss: 0.4395 - val_accuracy: 0.8696\n",
      "Epoch 70/150\n",
      "3/3 [==============================] - 0s 27ms/step - loss: 0.6725 - accuracy: 0.6999 - val_loss: 0.4368 - val_accuracy: 0.8261\n",
      "Epoch 71/150\n",
      "3/3 [==============================] - 0s 28ms/step - loss: 0.5784 - accuracy: 0.7290 - val_loss: 0.4356 - val_accuracy: 0.8261\n",
      "Epoch 72/150\n",
      "3/3 [==============================] - 0s 28ms/step - loss: 0.6273 - accuracy: 0.7134 - val_loss: 0.4367 - val_accuracy: 0.8261\n",
      "Epoch 73/150\n",
      "3/3 [==============================] - 0s 29ms/step - loss: 0.6459 - accuracy: 0.6978 - val_loss: 0.4322 - val_accuracy: 0.8261\n",
      "Epoch 74/150\n",
      "3/3 [==============================] - 0s 28ms/step - loss: 0.6008 - accuracy: 0.7134 - val_loss: 0.4309 - val_accuracy: 0.8261\n",
      "Epoch 75/150\n",
      "3/3 [==============================] - 0s 28ms/step - loss: 0.5849 - accuracy: 0.7290 - val_loss: 0.4287 - val_accuracy: 0.8261\n",
      "Epoch 76/150\n",
      "3/3 [==============================] - 0s 27ms/step - loss: 0.5686 - accuracy: 0.7251 - val_loss: 0.4252 - val_accuracy: 0.8261\n",
      "Epoch 77/150\n",
      "3/3 [==============================] - 0s 29ms/step - loss: 0.5995 - accuracy: 0.6999 - val_loss: 0.4231 - val_accuracy: 0.8261\n",
      "Epoch 78/150\n",
      "3/3 [==============================] - 0s 29ms/step - loss: 0.5587 - accuracy: 0.7390 - val_loss: 0.4227 - val_accuracy: 0.8261\n",
      "Epoch 79/150\n",
      "3/3 [==============================] - 0s 28ms/step - loss: 0.5477 - accuracy: 0.7369 - val_loss: 0.4242 - val_accuracy: 0.8261\n",
      "Epoch 80/150\n",
      "3/3 [==============================] - 0s 30ms/step - loss: 0.5760 - accuracy: 0.7134 - val_loss: 0.4211 - val_accuracy: 0.8261\n",
      "Epoch 81/150\n",
      "3/3 [==============================] - 0s 28ms/step - loss: 0.5272 - accuracy: 0.7525 - val_loss: 0.4159 - val_accuracy: 0.8261\n",
      "Epoch 82/150\n",
      "3/3 [==============================] - 0s 30ms/step - loss: 0.5729 - accuracy: 0.7116 - val_loss: 0.4155 - val_accuracy: 0.8261\n",
      "Epoch 83/150\n",
      "3/3 [==============================] - 0s 29ms/step - loss: 0.5960 - accuracy: 0.6843 - val_loss: 0.4176 - val_accuracy: 0.8261\n",
      "Epoch 84/150\n",
      "3/3 [==============================] - 0s 29ms/step - loss: 0.5648 - accuracy: 0.7056 - val_loss: 0.4182 - val_accuracy: 0.8261\n",
      "Epoch 85/150\n",
      "3/3 [==============================] - 0s 30ms/step - loss: 0.5764 - accuracy: 0.7173 - val_loss: 0.4149 - val_accuracy: 0.8261\n",
      "Epoch 86/150\n",
      "3/3 [==============================] - 0s 29ms/step - loss: 0.5526 - accuracy: 0.7290 - val_loss: 0.4154 - val_accuracy: 0.8261\n",
      "Epoch 87/150\n",
      "3/3 [==============================] - 0s 29ms/step - loss: 0.5129 - accuracy: 0.7290 - val_loss: 0.4108 - val_accuracy: 0.8261\n",
      "Epoch 88/150\n",
      "3/3 [==============================] - 0s 28ms/step - loss: 0.5389 - accuracy: 0.7330 - val_loss: 0.4076 - val_accuracy: 0.8261\n",
      "Epoch 89/150\n",
      "3/3 [==============================] - 0s 29ms/step - loss: 0.5952 - accuracy: 0.6687 - val_loss: 0.4087 - val_accuracy: 0.8261\n",
      "Epoch 90/150\n",
      "3/3 [==============================] - 0s 29ms/step - loss: 0.5334 - accuracy: 0.7212 - val_loss: 0.4089 - val_accuracy: 0.8261\n",
      "Epoch 91/150\n",
      "3/3 [==============================] - 0s 29ms/step - loss: 0.5805 - accuracy: 0.6900 - val_loss: 0.4096 - val_accuracy: 0.8261\n",
      "Epoch 92/150\n",
      "3/3 [==============================] - 0s 28ms/step - loss: 0.5783 - accuracy: 0.6900 - val_loss: 0.4089 - val_accuracy: 0.8261\n",
      "Epoch 93/150\n",
      "3/3 [==============================] - 0s 28ms/step - loss: 0.5163 - accuracy: 0.7251 - val_loss: 0.4064 - val_accuracy: 0.8261\n",
      "Epoch 94/150\n",
      "3/3 [==============================] - 0s 29ms/step - loss: 0.5467 - accuracy: 0.7095 - val_loss: 0.4053 - val_accuracy: 0.8261\n",
      "Epoch 95/150\n",
      "3/3 [==============================] - 0s 30ms/step - loss: 0.5407 - accuracy: 0.7195 - val_loss: 0.4039 - val_accuracy: 0.8261\n",
      "Epoch 96/150\n",
      "3/3 [==============================] - 0s 29ms/step - loss: 0.5334 - accuracy: 0.7212 - val_loss: 0.4023 - val_accuracy: 0.8261\n",
      "Epoch 97/150\n",
      "3/3 [==============================] - 0s 29ms/step - loss: 0.5176 - accuracy: 0.6978 - val_loss: 0.4035 - val_accuracy: 0.8261\n",
      "Epoch 98/150\n",
      "3/3 [==============================] - 0s 29ms/step - loss: 0.4886 - accuracy: 0.7290 - val_loss: 0.4034 - val_accuracy: 0.8261\n",
      "Epoch 99/150\n",
      "3/3 [==============================] - 0s 30ms/step - loss: 0.5075 - accuracy: 0.7134 - val_loss: 0.4016 - val_accuracy: 0.8261\n",
      "Epoch 100/150\n",
      "3/3 [==============================] - 0s 29ms/step - loss: 0.5457 - accuracy: 0.6978 - val_loss: 0.4027 - val_accuracy: 0.8261\n",
      "Epoch 101/150\n",
      "3/3 [==============================] - 0s 30ms/step - loss: 0.4927 - accuracy: 0.7056 - val_loss: 0.4017 - val_accuracy: 0.8261\n",
      "Epoch 102/150\n",
      "3/3 [==============================] - 0s 29ms/step - loss: 0.4497 - accuracy: 0.7564 - val_loss: 0.3985 - val_accuracy: 0.8261\n",
      "Epoch 103/150\n",
      "3/3 [==============================] - 0s 29ms/step - loss: 0.5330 - accuracy: 0.7056 - val_loss: 0.3963 - val_accuracy: 0.8261\n",
      "Epoch 104/150\n",
      "3/3 [==============================] - 0s 28ms/step - loss: 0.5126 - accuracy: 0.7212 - val_loss: 0.3957 - val_accuracy: 0.8261\n",
      "Epoch 105/150\n",
      "3/3 [==============================] - 0s 29ms/step - loss: 0.5225 - accuracy: 0.7290 - val_loss: 0.3937 - val_accuracy: 0.8261\n",
      "Epoch 106/150\n",
      "3/3 [==============================] - 0s 29ms/step - loss: 0.4832 - accuracy: 0.7369 - val_loss: 0.3958 - val_accuracy: 0.8261\n",
      "Epoch 107/150\n",
      "3/3 [==============================] - 0s 34ms/step - loss: 0.5039 - accuracy: 0.7230 - val_loss: 0.3969 - val_accuracy: 0.8261\n",
      "Epoch 108/150\n",
      "3/3 [==============================] - 0s 38ms/step - loss: 0.4473 - accuracy: 0.7678 - val_loss: 0.3988 - val_accuracy: 0.8261\n",
      "Epoch 109/150\n",
      "3/3 [==============================] - 0s 35ms/step - loss: 0.4991 - accuracy: 0.7521 - val_loss: 0.3989 - val_accuracy: 0.8261\n",
      "Epoch 110/150\n",
      "3/3 [==============================] - 0s 30ms/step - loss: 0.5097 - accuracy: 0.7344 - val_loss: 0.3989 - val_accuracy: 0.8261\n",
      "Epoch 111/150\n",
      "3/3 [==============================] - 0s 36ms/step - loss: 0.4978 - accuracy: 0.7557 - val_loss: 0.3961 - val_accuracy: 0.8261\n",
      "Epoch 112/150\n",
      "3/3 [==============================] - 0s 31ms/step - loss: 0.5077 - accuracy: 0.7752 - val_loss: 0.3935 - val_accuracy: 0.8261\n",
      "Epoch 113/150\n",
      "3/3 [==============================] - 0s 30ms/step - loss: 0.4963 - accuracy: 0.7440 - val_loss: 0.3934 - val_accuracy: 0.8261\n",
      "Epoch 114/150\n",
      "3/3 [==============================] - 0s 30ms/step - loss: 0.4884 - accuracy: 0.7809 - val_loss: 0.3949 - val_accuracy: 0.8261\n",
      "Epoch 115/150\n",
      "3/3 [==============================] - 0s 29ms/step - loss: 0.4310 - accuracy: 0.8004 - val_loss: 0.3967 - val_accuracy: 0.8261\n",
      "Epoch 116/150\n",
      "3/3 [==============================] - 0s 30ms/step - loss: 0.4284 - accuracy: 0.8100 - val_loss: 0.3947 - val_accuracy: 0.8261\n",
      "Epoch 117/150\n",
      "3/3 [==============================] - 0s 30ms/step - loss: 0.4633 - accuracy: 0.7848 - val_loss: 0.3901 - val_accuracy: 0.8261\n",
      "Epoch 118/150\n",
      "3/3 [==============================] - 0s 29ms/step - loss: 0.4482 - accuracy: 0.7944 - val_loss: 0.3897 - val_accuracy: 0.8261\n",
      "Epoch 119/150\n",
      "3/3 [==============================] - 0s 30ms/step - loss: 0.4790 - accuracy: 0.7766 - val_loss: 0.3877 - val_accuracy: 0.8261\n",
      "Epoch 120/150\n",
      "3/3 [==============================] - 0s 30ms/step - loss: 0.4013 - accuracy: 0.8335 - val_loss: 0.3853 - val_accuracy: 0.8261\n",
      "Epoch 121/150\n",
      "3/3 [==============================] - 0s 29ms/step - loss: 0.4714 - accuracy: 0.7866 - val_loss: 0.3855 - val_accuracy: 0.8261\n",
      "Epoch 122/150\n",
      "3/3 [==============================] - 0s 29ms/step - loss: 0.4510 - accuracy: 0.7905 - val_loss: 0.3879 - val_accuracy: 0.8261\n",
      "Epoch 123/150\n",
      "3/3 [==============================] - 0s 29ms/step - loss: 0.4869 - accuracy: 0.7802 - val_loss: 0.3897 - val_accuracy: 0.8261\n",
      "Epoch 124/150\n",
      "3/3 [==============================] - 0s 30ms/step - loss: 0.4070 - accuracy: 0.8505 - val_loss: 0.3865 - val_accuracy: 0.8261\n",
      "Epoch 125/150\n",
      "3/3 [==============================] - 0s 29ms/step - loss: 0.4054 - accuracy: 0.8487 - val_loss: 0.3839 - val_accuracy: 0.8261\n",
      "Epoch 126/150\n",
      "3/3 [==============================] - 0s 29ms/step - loss: 0.4404 - accuracy: 0.8214 - val_loss: 0.3808 - val_accuracy: 0.8261\n",
      "Epoch 127/150\n",
      "3/3 [==============================] - 0s 30ms/step - loss: 0.4234 - accuracy: 0.8288 - val_loss: 0.3797 - val_accuracy: 0.8261\n",
      "Epoch 128/150\n",
      "3/3 [==============================] - 0s 28ms/step - loss: 0.4311 - accuracy: 0.8288 - val_loss: 0.3787 - val_accuracy: 0.8261\n",
      "Epoch 129/150\n",
      "3/3 [==============================] - 0s 28ms/step - loss: 0.4231 - accuracy: 0.8054 - val_loss: 0.3820 - val_accuracy: 0.8261\n",
      "Epoch 130/150\n",
      "3/3 [==============================] - 0s 29ms/step - loss: 0.4192 - accuracy: 0.8366 - val_loss: 0.3827 - val_accuracy: 0.8261\n",
      "Epoch 131/150\n",
      "3/3 [==============================] - 0s 30ms/step - loss: 0.4529 - accuracy: 0.8327 - val_loss: 0.3814 - val_accuracy: 0.8261\n",
      "Epoch 132/150\n",
      "3/3 [==============================] - 0s 29ms/step - loss: 0.4006 - accuracy: 0.8384 - val_loss: 0.3814 - val_accuracy: 0.8696\n",
      "Epoch 133/150\n",
      "3/3 [==============================] - 0s 29ms/step - loss: 0.4320 - accuracy: 0.8384 - val_loss: 0.3789 - val_accuracy: 0.8696\n",
      "Epoch 134/150\n",
      "3/3 [==============================] - 0s 29ms/step - loss: 0.3808 - accuracy: 0.8793 - val_loss: 0.3772 - val_accuracy: 0.8696\n",
      "Epoch 135/150\n",
      "3/3 [==============================] - 0s 29ms/step - loss: 0.4560 - accuracy: 0.8267 - val_loss: 0.3790 - val_accuracy: 0.8696\n",
      "Epoch 136/150\n",
      "3/3 [==============================] - 0s 29ms/step - loss: 0.4409 - accuracy: 0.8189 - val_loss: 0.3791 - val_accuracy: 0.8696\n",
      "Epoch 137/150\n",
      "3/3 [==============================] - 0s 29ms/step - loss: 0.4109 - accuracy: 0.8210 - val_loss: 0.3784 - val_accuracy: 0.8696\n",
      "Epoch 138/150\n",
      "3/3 [==============================] - 0s 29ms/step - loss: 0.4194 - accuracy: 0.8423 - val_loss: 0.3752 - val_accuracy: 0.8696\n",
      "Epoch 139/150\n",
      "3/3 [==============================] - 0s 31ms/step - loss: 0.3819 - accuracy: 0.8210 - val_loss: 0.3717 - val_accuracy: 0.8696\n",
      "Epoch 140/150\n",
      "3/3 [==============================] - 0s 29ms/step - loss: 0.4391 - accuracy: 0.8171 - val_loss: 0.3686 - val_accuracy: 0.8696\n",
      "Epoch 141/150\n",
      "3/3 [==============================] - 0s 28ms/step - loss: 0.3532 - accuracy: 0.8658 - val_loss: 0.3669 - val_accuracy: 0.8696\n",
      "Epoch 142/150\n",
      "3/3 [==============================] - 0s 30ms/step - loss: 0.4009 - accuracy: 0.8423 - val_loss: 0.3687 - val_accuracy: 0.8696\n",
      "Epoch 143/150\n",
      "3/3 [==============================] - 0s 30ms/step - loss: 0.3954 - accuracy: 0.8480 - val_loss: 0.3695 - val_accuracy: 0.8696\n",
      "Epoch 144/150\n",
      "3/3 [==============================] - 0s 29ms/step - loss: 0.3742 - accuracy: 0.8384 - val_loss: 0.3710 - val_accuracy: 0.8696\n",
      "Epoch 145/150\n",
      "3/3 [==============================] - 0s 29ms/step - loss: 0.3953 - accuracy: 0.8384 - val_loss: 0.3729 - val_accuracy: 0.8696\n",
      "Epoch 146/150\n",
      "3/3 [==============================] - 0s 29ms/step - loss: 0.4067 - accuracy: 0.8228 - val_loss: 0.3699 - val_accuracy: 0.8696\n",
      "Epoch 147/150\n",
      "3/3 [==============================] - 0s 29ms/step - loss: 0.3375 - accuracy: 0.8754 - val_loss: 0.3715 - val_accuracy: 0.8696\n",
      "Epoch 148/150\n",
      "3/3 [==============================] - 0s 29ms/step - loss: 0.3640 - accuracy: 0.8459 - val_loss: 0.3732 - val_accuracy: 0.8696\n",
      "Epoch 149/150\n",
      "3/3 [==============================] - 0s 29ms/step - loss: 0.3408 - accuracy: 0.8888 - val_loss: 0.3776 - val_accuracy: 0.8261\n",
      "Epoch 150/150\n",
      "3/3 [==============================] - 0s 29ms/step - loss: 0.3552 - accuracy: 0.8636 - val_loss: 0.3821 - val_accuracy: 0.8261\n"
     ]
    }
   ],
   "source": [
    "inputs = tf.keras.Input(shape = (6, ))\n",
    "x = tf.keras.layers.Dense(64, activation = 'relu')(inputs)\n",
    "x = tf.keras.layers.Dense(16, activation = 'relu')(x)\n",
    "x = tf.keras.layers.Dense(16, activation = 'relu')(x)\n",
    "outputs = tf.keras.layers.Dense(7, activation = 'softmax')(x)\n",
    "\n",
    "model = tf.keras.Model(inputs, outputs)\n",
    "\n",
    "model.compile(\n",
    "    optimizer = 'adam',\n",
    "    loss = 'sparse_categorical_crossentropy',\n",
    "    metrics = ['accuracy']\n",
    ")\n",
    "\n",
    "batch_size = 32\n",
    "epochs = 150\n",
    "\n",
    "history = model.fit(\n",
    "    X_train,\n",
    "    y_train,\n",
    "    validation_split = 0.2,\n",
    "    batch_size = batch_size,\n",
    "    epochs = epochs\n",
    ")"
   ]
  },
  {
   "cell_type": "markdown",
   "id": "younger-dressing",
   "metadata": {
    "papermill": {
     "duration": 0.116329,
     "end_time": "2021-07-02T05:42:39.761673",
     "exception": false,
     "start_time": "2021-07-02T05:42:39.645344",
     "status": "completed"
    },
    "tags": []
   },
   "source": [
    "### Loss Graph 📈"
   ]
  },
  {
   "cell_type": "code",
   "execution_count": 15,
   "id": "simple-dinner",
   "metadata": {
    "execution": {
     "iopub.execute_input": "2021-07-02T05:42:40.060191Z",
     "iopub.status.busy": "2021-07-02T05:42:40.059512Z",
     "iopub.status.idle": "2021-07-02T05:42:40.228514Z",
     "shell.execute_reply": "2021-07-02T05:42:40.227872Z",
     "shell.execute_reply.started": "2021-07-02T05:30:59.837678Z"
    },
    "papermill": {
     "duration": 0.352197,
     "end_time": "2021-07-02T05:42:40.228707",
     "exception": false,
     "start_time": "2021-07-02T05:42:39.876510",
     "status": "completed"
    },
    "tags": []
   },
   "outputs": [
    {
     "data": {
      "image/png": "[encoded data removed]",
      "text/plain": [
       "<Figure size 1008x720 with 1 Axes>"
      ]
     },
     "metadata": {
      "needs_background": "light"
     },
     "output_type": "display_data"
    }
   ],
   "source": [
    "plt.figure(figsize = (14, 10))\n",
    "\n",
    "epochs_range = range(1, epochs + 1)\n",
    "train_loss = history.history['loss']\n",
    "val_loss = history.history['val_loss']\n",
    "\n",
    "plt.plot(epochs_range, train_loss, label = 'Training_loss')\n",
    "plt.plot(epochs_range, val_loss, label = 'Validation_loss')\n",
    "\n",
    "plt.xlabel('Epochs')\n",
    "plt.ylabel('Loss')\n",
    "plt.legend()\n",
    "plt.show()"
   ]
  },
  {
   "cell_type": "code",
   "execution_count": 16,
   "id": "suburban-latex",
   "metadata": {
    "execution": {
     "iopub.execute_input": "2021-07-02T05:42:40.466436Z",
     "iopub.status.busy": "2021-07-02T05:42:40.465555Z",
     "iopub.status.idle": "2021-07-02T05:42:40.469185Z",
     "shell.execute_reply": "2021-07-02T05:42:40.469647Z",
     "shell.execute_reply.started": "2021-07-02T05:30:29.898799Z"
    },
    "papermill": {
     "duration": 0.125378,
     "end_time": "2021-07-02T05:42:40.469826",
     "exception": false,
     "start_time": "2021-07-02T05:42:40.344448",
     "status": "completed"
    },
    "tags": []
   },
   "outputs": [
    {
     "data": {
      "text/plain": [
       "140"
      ]
     },
     "execution_count": 16,
     "metadata": {},
     "output_type": "execute_result"
    }
   ],
   "source": [
    "np.argmin(val_loss)"
   ]
  },
  {
   "cell_type": "markdown",
   "id": "chinese-people",
   "metadata": {
    "papermill": {
     "duration": 0.115593,
     "end_time": "2021-07-02T05:42:40.701362",
     "exception": false,
     "start_time": "2021-07-02T05:42:40.585769",
     "status": "completed"
    },
    "tags": []
   },
   "source": [
    "### Neural Network Score 🎯"
   ]
  },
  {
   "cell_type": "code",
   "execution_count": 17,
   "id": "personalized-diving",
   "metadata": {
    "execution": {
     "iopub.execute_input": "2021-07-02T05:42:40.940732Z",
     "iopub.status.busy": "2021-07-02T05:42:40.939751Z",
     "iopub.status.idle": "2021-07-02T05:42:40.999234Z",
     "shell.execute_reply": "2021-07-02T05:42:40.998549Z",
     "shell.execute_reply.started": "2021-07-02T05:31:04.277299Z"
    },
    "papermill": {
     "duration": 0.181937,
     "end_time": "2021-07-02T05:42:40.999409",
     "exception": false,
     "start_time": "2021-07-02T05:42:40.817472",
     "status": "completed"
    },
    "tags": []
   },
   "outputs": [
    {
     "name": "stdout",
     "output_type": "stream",
     "text": [
      "2/2 [==============================] - 0s 2ms/step - loss: 0.2812 - accuracy: 0.8542\n"
     ]
    },
    {
     "data": {
      "text/plain": [
       "[0.28119513392448425, 0.8541666865348816]"
      ]
     },
     "execution_count": 17,
     "metadata": {},
     "output_type": "execute_result"
    }
   ],
   "source": [
    "model.evaluate(X_test, y_test)"
   ]
  }
 ],
 "metadata": {
  "kernelspec": {
   "display_name": "Python 3",
   "language": "python",
   "name": "python3"
  },
  "language_info": {
   "codemirror_mode": {
    "name": "ipython",
    "version": 3
   },
   "file_extension": ".py",
   "mimetype": "text/x-python",
   "name": "python",
   "nbconvert_exporter": "python",
   "pygments_lexer": "ipython3",
   "version": "3.7.10"
  },
  "papermill": {
   "default_parameters": {},
   "duration": 31.862623,
   "end_time": "2021-07-02T05:42:43.208769",
   "environment_variables": {},
   "exception": null,
   "input_path": "__notebook__.ipynb",
   "output_path": "__notebook__.ipynb",
   "parameters": {},
   "start_time": "2021-07-02T05:42:11.346146",
   "version": "2.3.3"
  }
 },
 "nbformat": 4,
 "nbformat_minor": 5
}
